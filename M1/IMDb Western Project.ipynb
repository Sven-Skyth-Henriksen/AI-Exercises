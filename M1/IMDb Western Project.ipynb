{
 "cells": [
  {
   "cell_type": "code",
   "execution_count": 3,
   "id": "persistent-literacy",
   "metadata": {},
   "outputs": [
    {
     "ename": "ModuleNotFoundError",
     "evalue": "No module named 'requests'",
     "output_type": "error",
     "traceback": [
      "\u001b[0;31m---------------------------------------------------------------------------\u001b[0m",
      "\u001b[0;31mModuleNotFoundError\u001b[0m                       Traceback (most recent call last)",
      "\u001b[0;32m<ipython-input-3-386923cf1f4d>\u001b[0m in \u001b[0;36m<module>\u001b[0;34m\u001b[0m\n\u001b[0;32m----> 1\u001b[0;31m \u001b[0;32mimport\u001b[0m \u001b[0mrequests\u001b[0m\u001b[0;34m\u001b[0m\u001b[0;34m\u001b[0m\u001b[0m\n\u001b[0m\u001b[1;32m      2\u001b[0m \u001b[0;32mimport\u001b[0m \u001b[0mpandas\u001b[0m \u001b[0;32mas\u001b[0m \u001b[0mpd\u001b[0m\u001b[0;34m\u001b[0m\u001b[0;34m\u001b[0m\u001b[0m\n\u001b[1;32m      3\u001b[0m \u001b[0;32mfrom\u001b[0m \u001b[0mbs4\u001b[0m \u001b[0;32mimport\u001b[0m \u001b[0mBeautifulSoup\u001b[0m\u001b[0;34m\u001b[0m\u001b[0;34m\u001b[0m\u001b[0m\n\u001b[1;32m      4\u001b[0m \u001b[0;32mfrom\u001b[0m \u001b[0mdateutil\u001b[0m\u001b[0;34m.\u001b[0m\u001b[0mparser\u001b[0m \u001b[0;32mimport\u001b[0m \u001b[0mparse\u001b[0m\u001b[0;34m\u001b[0m\u001b[0;34m\u001b[0m\u001b[0m\n\u001b[1;32m      5\u001b[0m \u001b[0;34m\u001b[0m\u001b[0m\n",
      "\u001b[0;31mModuleNotFoundError\u001b[0m: No module named 'requests'"
     ]
    }
   ],
   "source": [
    "import requests\n",
    "import pandas as pd\n",
    "from bs4 import BeautifulSoup\n",
    "from dateutil.parser import parse\n",
    "\n",
    "# save the website in a variablehttps://www.imdb.com/search/title/?genres=adventure&genres=Adventure&explore=title_type,genres&ref_=adv_explore_rhs\"\n",
    "\n",
    "western_url = \"https://www.imdb.com/search/title/?genres=western&genres=Adventure&explore=title_type,genres&ref_=adv_explore_rhs\"\n",
    "# request url\n",
    "page = requests.get(url=western_url)\n",
    "\n",
    "# create a BeautifulSoup object\n",
    "soup = BeautifulSoup(page.content, 'html.parser')\n",
    "\n",
    "#page title\n",
    "title = soup.find('title')\n",
    "display(title.string)\n",
    "# data['title'] = title.string\n",
    "\n",
    "# web_div_container = soup.find_all('div')\n",
    "web_titlebar_container = soup.find_all(class_= 'lister-item-header')\n",
    "web_div = [title.get_text() for title in web_titlebar_container] #loop to getText in days_container\n",
    "\n",
    "\n",
    "#[condition for Item in list]\n",
    "# display(web_div)\n",
    "# display(web_div.get_text())\n",
    "\n",
    "#get titles\n",
    "titles_container = soup.find_all(class_= \"lister-item-header\")\n",
    "titles = [title.get_text() for title in titles_container ] #loop to getText in days_container\n",
    "# display(titles)\n",
    "\n",
    "titles = [i.split('\\n') for i in titles]\n",
    "#for i in titles:\n",
    "#    divs =  i.split\n",
    "display(titles)\n",
    "\n",
    "\n",
    "\n",
    "# df = pd.DataFrame({'web_div', 'title'})"
   ]
  },
  {
   "cell_type": "code",
   "execution_count": 2,
   "id": "earlier-joyce",
   "metadata": {},
   "outputs": [
    {
     "ename": "NameError",
     "evalue": "name 'soup' is not defined",
     "output_type": "error",
     "traceback": [
      "\u001b[0;31m---------------------------------------------------------------------------\u001b[0m",
      "\u001b[0;31mNameError\u001b[0m                                 Traceback (most recent call last)",
      "\u001b[0;32m<ipython-input-2-63aa54e1e271>\u001b[0m in \u001b[0;36m<module>\u001b[0;34m\u001b[0m\n\u001b[1;32m      1\u001b[0m \u001b[0;31m#get titles\u001b[0m\u001b[0;34m\u001b[0m\u001b[0;34m\u001b[0m\u001b[0;34m\u001b[0m\u001b[0m\n\u001b[0;32m----> 2\u001b[0;31m \u001b[0mtitles_container\u001b[0m \u001b[0;34m=\u001b[0m \u001b[0msoup\u001b[0m\u001b[0;34m.\u001b[0m\u001b[0mfind_all\u001b[0m\u001b[0;34m(\u001b[0m\u001b[0mclass_\u001b[0m\u001b[0;34m=\u001b[0m \u001b[0;34m\"lister-item-header\"\u001b[0m\u001b[0;34m)\u001b[0m\u001b[0;34m\u001b[0m\u001b[0;34m\u001b[0m\u001b[0m\n\u001b[0m\u001b[1;32m      3\u001b[0m \u001b[0;31m#print(days_container)\u001b[0m\u001b[0;34m\u001b[0m\u001b[0;34m\u001b[0m\u001b[0;34m\u001b[0m\u001b[0m\n\u001b[1;32m      4\u001b[0m \u001b[0mtitles\u001b[0m \u001b[0;34m=\u001b[0m \u001b[0;34m[\u001b[0m\u001b[0mtitle\u001b[0m\u001b[0;34m.\u001b[0m\u001b[0mget_text\u001b[0m\u001b[0;34m(\u001b[0m\u001b[0;34m)\u001b[0m \u001b[0;32mfor\u001b[0m \u001b[0mtitle\u001b[0m \u001b[0;32min\u001b[0m \u001b[0mtitles_container\u001b[0m \u001b[0;34m]\u001b[0m \u001b[0;31m#loop to getText in days_container\u001b[0m\u001b[0;34m\u001b[0m\u001b[0;34m\u001b[0m\u001b[0m\n\u001b[1;32m      5\u001b[0m \u001b[0;31m#display(titles)\u001b[0m\u001b[0;34m\u001b[0m\u001b[0;34m\u001b[0m\u001b[0;34m\u001b[0m\u001b[0m\n",
      "\u001b[0;31mNameError\u001b[0m: name 'soup' is not defined"
     ]
    }
   ],
   "source": [
    "#get titles\n",
    "titles_container = soup.find_all(class_= \"lister-item-header\")\n",
    "#print(days_container)\n",
    "titles = [title.get_text() for title in titles_container ] #loop to getText in days_container\n",
    "#display(titles)\n",
    "titles = [title.split('\\n') for title in titles] #split by \\n\n",
    "#display(titles)\n",
    "chart_number = [title[1] for title in titles] #split by \\n\n",
    "#display(chart_number)\n",
    "titles_names = [title[2] for title in titles] #split by \\n\n",
    "display(titles_names)\n",
    "published_year = [title[3] for title in titles]"
   ]
  },
  {
   "cell_type": "code",
   "execution_count": null,
   "id": "olympic-phone",
   "metadata": {},
   "outputs": [],
   "source": []
  }
 ],
 "metadata": {
  "kernelspec": {
   "display_name": "Python 3",
   "language": "python",
   "name": "python3"
  },
  "language_info": {
   "codemirror_mode": {
    "name": "ipython",
    "version": 3
   },
   "file_extension": ".py",
   "mimetype": "text/x-python",
   "name": "python",
   "nbconvert_exporter": "python",
   "pygments_lexer": "ipython3",
   "version": "3.9.2"
  }
 },
 "nbformat": 4,
 "nbformat_minor": 5
}
