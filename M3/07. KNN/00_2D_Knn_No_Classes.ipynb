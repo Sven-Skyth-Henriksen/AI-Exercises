{
 "cells": [
  {
   "cell_type": "markdown",
   "metadata": {},
   "source": [
    "# KNN From Sratch\n",
    "\n",
    "In this workbook we will guide you through the steps to implement KNN from scratch. Once this is done you'll implement you solution in a class that is tested with the knn_class_tester notebook.\n",
    "\n",
    "1. Use the ```make_blobs``` function from SKLearn to make a dataset to test your KNN functions.\n",
    "2. Create helper functions. These will be useful when you go to implement your class.\n",
    "    - Squaring the difference of two vectors.\n",
    "    - Summing the square differences and returning the square root.\n",
    "    - Calculating the euclidian distances\n",
    "    - An evaluation function to evalaute predictions\n",
    "3. Create the KNN predcit function"
   ]
  },
  {
   "cell_type": "code",
   "execution_count": 4,
   "metadata": {},
   "outputs": [],
   "source": [
    "#import libraries\n",
    "import numpy as np\n",
    "from collections import Counter\n",
    "import matplotlib.pyplot as plt\n",
    "from sklearn.datasets import make_blobs"
   ]
  },
  {
   "cell_type": "markdown",
   "metadata": {},
   "source": [
    "### Step 1: Create a sample dataset\n",
    "1. Use ```make_blobs``` to create a sample set\n",
    "2. Start with 300 samples, 4 centres, 0.6 standard deviation, and random state 0\n",
    "3. Plot the samples"
   ]
  },
  {
   "cell_type": "code",
   "execution_count": 10,
   "metadata": {},
   "outputs": [
    {
     "data": {
      "image/png": "[encoded data removed]",
      "text/plain": [
       "<Figure size 432x288 with 1 Axes>"
      ]
     },
     "metadata": {
      "needs_background": "light"
     },
     "output_type": "display_data"
    }
   ],
   "source": [
    "#make the dataset with make_blobs\n",
    "X,Y = make_blobs(n_samples=300,centers=4,cluster_std=0.6,random_state=0)\n",
    "plt.scatter(X[:,0],X[:,1], s=30) \n",
    "plt.show()"
   ]
  },
  {
   "cell_type": "markdown",
   "metadata": {},
   "source": [
    "# Step 2: Creating the KNN function\n",
    "Pseudocode below to help out! Note: **IT IS NOT ACTUAL CODE**"
   ]
  },
  {
   "cell_type": "code",
   "execution_count": 14,
   "metadata": {},
   "outputs": [
    {
     "name": "stdout",
     "output_type": "stream",
     "text": [
      "(240, 2)\n",
      "(60, 2)\n",
      "(240,)\n",
      "(60,)\n"
     ]
    }
   ],
   "source": [
    "# define train test split\n",
    "#X_train\n",
    "#X_test\n",
    "#y_train\n",
    "#y_test\n",
    "from sklearn.model_selection import train_test_split\n",
    "X_train, X_test, Y_train, Y_test = train_test_split(X, Y, test_size=0.2, random_state=42)\n",
    "#print(X_train.shape)\n",
    "#print(X_test.shape)\n",
    "#print(Y_train.shape)\n",
    "#print(Y_test.shape)\n",
    "\n",
    "v1 = X_train\n",
    "v2 = X_test\n",
    "\n"
   ]
  },
  {
   "cell_type": "code",
   "execution_count": 16,
   "metadata": {},
   "outputs": [],
   "source": [
    "def get_all_distances(X_train, X_test):\n",
    "    test = []\n",
    "    for i in range(len(X_train)):\n",
    "        for i in range(len(X_test)):\n",
    "            get_all_distances(X_train[i], X_test[i])\n",
    "            test.append(distance)\n",
    "# get_eucledian_distance(v1,v2)\n",
    "\n",
    "# dist = numpy.linalg.norm(a-b)"
   ]
  },
  {
   "cell_type": "code",
   "execution_count": null,
   "metadata": {},
   "outputs": [],
   "source": [
    "#def get_all_distances(X_train, X_test)\n",
    "    "
   ]
  },
  {
   "cell_type": "code",
   "execution_count": null,
   "metadata": {},
   "outputs": [],
   "source": [
    "def select_neighbours(dist_list, k):\n",
    "    sl = sort(dist_list, by: distance)\n",
    "    return 0 to k elements from list (slice)\n",
    "    "
   ]
  },
  {
   "cell_type": "code",
   "execution_count": null,
   "metadata": {},
   "outputs": [],
   "source": [
    "def predict(final_n, y_train):\n",
    "    access the index from my sliced_sorted_list\n",
    "    get the y_train label corresponding to that index\n",
    "    return most_common label among the list"
   ]
  },
  {
   "cell_type": "code",
   "execution_count": null,
   "metadata": {},
   "outputs": [],
   "source": [
    "def KNN function (X_train, X_test, y_train, y_test, k)\n",
    "    # given a vector, [2.5, 4.56, 2]\n",
    "    # sample X_train : [2.5,4.56] = x1,x2\n",
    "    # search with same index: y_train = 2\n",
    "    \n",
    "    # rember to do it for all X_test vectors\n",
    "    # CASE: ONE SINGLE X_train vector:\n",
    "    dist_list = []\n",
    "    for vector in X_train:\n",
    "        # result = my get_distance function\n",
    "        dist_list.append(result, index)\n",
    "    final_n = select_neighbours(dist_list, k)\n",
    "    ypred = predict(final_n, y_train)\n",
    "    score... --> using sklearn.metrics\n",
    "    or comparing 1 by 1 (ypred - ytest)\n",
    "    plot... do it inside in a separate function or outside. \n",
    "    \n",
    "        "
   ]
  },
  {
   "cell_type": "code",
   "execution_count": null,
   "metadata": {},
   "outputs": [],
   "source": []
  }
 ],
 "metadata": {
  "kernelspec": {
   "display_name": "Python 3",
   "language": "python",
   "name": "python3"
  },
  "language_info": {
   "codemirror_mode": {
    "name": "ipython",
    "version": 3
   },
   "file_extension": ".py",
   "mimetype": "text/x-python",
   "name": "python",
   "nbconvert_exporter": "python",
   "pygments_lexer": "ipython3",
   "version": "3.8.5"
  }
 },
 "nbformat": 4,
 "nbformat_minor": 4
}
