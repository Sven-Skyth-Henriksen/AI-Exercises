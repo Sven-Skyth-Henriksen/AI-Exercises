{
 "cells": [
  {
   "cell_type": "markdown",
   "metadata": {
    "cell_id": "00000-63c5cbfd-1cb9-4264-b057-fb1655bc7f0f",
    "deepnote_cell_type": "markdown"
   },
   "source": [
    "###### Content under Creative Commons Attribution license CC-BY 4.0, code under BSD 3-Clause License © 2017 L.A. Barba, N.C. Clementi"
   ]
  },
  {
   "cell_type": "markdown",
   "metadata": {
    "cell_id": "00001-0bd3618f-a2ac-4ffc-acac-0269d52a28bb",
    "deepnote_cell_type": "markdown"
   },
   "source": [
    "# Life expectancy and wealth\n",
    "\n",
    "Welcome to **Lesson 4** of the second module in _Engineering Computations_. This module gives you hands-on data analysis experience with Python, using real-life applications. The first three lessons provide a foundation in data analysis using a computational approach. They are:\n",
    "\n",
    "1. [Lesson 1](http://go.gwu.edu/engcomp2lesson1): Cheers! Stats with beers.\n",
    "2. [Lesson 2](http://go.gwu.edu/engcomp2lesson2): Seeing stats in a new light.\n",
    "3. [Lesson 3](http://go.gwu.edu/engcomp2lesson3): Lead in lipstick.\n",
    "\n",
    "You learned to do exploratory data analysis with data in the form of arrays: NumPy has built-in functions for many descriptive statistics, making it easy! And you also learned to make data visualizations that are both good-looking and effective in communicating and getting insights from data.\n",
    "\n",
    "But NumPy can't do everything. So we introduced you to `pandas`, a Python library written _especially_ for data analysis. It offers a very powerful new data type: the _DataFrame_—you can think of it as a spreadsheet, conveniently stored in one Python variable. \n",
    "\n",
    "In this lesson, you'll dive deeper into `pandas`, using data for life expectancy and per-capita income over time, across the world."
   ]
  },
  {
   "cell_type": "markdown",
   "metadata": {
    "cell_id": "00002-016e55ec-4d0f-424c-bea6-afb40a364527",
    "deepnote_cell_type": "markdown"
   },
   "source": [
    "## The best stats you've ever seen\n",
    "\n",
    "[Hans Rosling](https://en.wikipedia.org/wiki/Hans_Rosling) was a professor of international health in Sweeden, until his death in Februrary of this year. He came to fame with the thrilling TED Talk he gave in 2006: [\"The best stats you've ever seen\"](https://www.ted.com/talks/hans_rosling_shows_the_best_stats_you_ve_ever_seen) (also on [YouTube](https://youtu.be/RUwS1uAdUcI), with ads). We highly recommend that you watch it! \n",
    "\n",
    "In that first TED Talk, and in many other talks and even a BBC documentary (see the [trailer](https://youtu.be/jbkSRLYSojo) on YouTube), Rosling uses data visualizations to tell stories about the world's health, wealth, inequality and development. Using software, he and his team created amazing animated graphics with data from the United Nations and World Bank.\n",
    "\n",
    "According to a [blog post](https://www.gatesnotes.com/About-Bill-Gates/Remembering-Hans-Rosling) by Bill and Melinda Gates after Prof. Rosling's death, his message was simple: _\"that the world is making progress, and that policy decisions should be grounded in data.\"_"
   ]
  },
  {
   "cell_type": "markdown",
   "metadata": {
    "cell_id": "00003-d86017e5-ce7f-4026-b304-16c4f9171f8b",
    "deepnote_cell_type": "markdown"
   },
   "source": [
    "In this lesson, we'll use data about life expectancy and per-capita income (in terms of the gross domestic product, GDP) around the world. Visualizing and analyzing the data will be our gateway to learning more about the world we live in.\n",
    "\n",
    "Let's begin! As always, we start by importing the Python libraries for data analysis (and setting some plot parameters)."
   ]
  },
  {
   "cell_type": "code",
   "execution_count": 5,
   "metadata": {
    "cell_id": "00004-e25dc598-b6b8-4eab-925d-eb85f7220b1b",
    "deepnote_cell_type": "code",
    "execution_millis": 191,
    "execution_start": 1608637084220,
    "output_cleared": false,
    "source_hash": "b627f46a"
   },
   "outputs": [],
   "source": [
    "import numpy\n",
    "import pandas\n",
    "from matplotlib import pyplot\n",
    "%matplotlib inline\n",
    "\n",
    "#Import rcParams to set font styles\n",
    "from matplotlib import rcParams\n",
    "\n",
    "#Set font style and size \n",
    "rcParams['font.family'] = 'serif'\n",
    "rcParams['font.size'] = 16"
   ]
  },
  {
   "cell_type": "markdown",
   "metadata": {
    "cell_id": "00005-349d99f1-ffb2-41f2-9bb5-7837bb30b85f",
    "deepnote_cell_type": "markdown"
   },
   "source": [
    "## Load and inspect the data\n",
    "\n",
    "We found a website called [The Python Graph Gallery](https://python-graph-gallery.com), which has a lot of data visualization examples. \n",
    "Among them is a [Gapminder Animation](https://python-graph-gallery.com/341-python-gapminder-animation/), an animated GIF of bubble charts in the style of Hans Rosling. \n",
    "We're not going to repeat the same example, but we do get some ideas from it and re-use their data set. \n",
    "The data file is hosted on their website, and we can read it directly from there into a `pandas` dataframe, using the URL."
   ]
  },
  {
   "cell_type": "code",
   "execution_count": 9,
   "metadata": {
    "cell_id": "00006-12caa51c-9f3a-4391-99a3-c5f93c41d178",
    "deepnote_cell_type": "code",
    "execution_millis": 658,
    "execution_start": 1608637088945,
    "output_cleared": false,
    "source_hash": "bc4cb878"
   },
   "outputs": [],
   "source": [
    "# Read a dataset for life expectancy from a CSV file hosted online\n",
    "url ='https://raw.githubusercontent.com/holtzy/The-Python-Graph-Gallery/master/static/data/gapminderData.csv'\n",
    "life_expect = pandas.read_csv(url)"
   ]
  },
  {
   "cell_type": "markdown",
   "metadata": {
    "cell_id": "00007-5617636b-8676-442e-bbff-8455f77e3e40",
    "deepnote_cell_type": "markdown"
   },
   "source": [
    "The first thing to do always is to take a peek at the data. \n",
    "Using the `shape` attribute of the dataframe, we find out how many rows and columns it has. In this case, it's kind of big to print it all out, so to save space we'll print a small portion of `life_expect`.\n",
    "You can use a slice to do this, or you can use the [`DataFrame.head()`](https://pandas.pydata.org/pandas-docs/stable/generated/pandas.DataFrame.head.html) method, which returns by default the first 5 rows."
   ]
  },
  {
   "cell_type": "code",
   "execution_count": 10,
   "metadata": {
    "cell_id": "00008-82a7d2c4-1e2d-4e30-a8d4-d8c22d0a75fc",
    "deepnote_cell_type": "code",
    "execution_millis": 3,
    "execution_start": 1608637091415,
    "output_cleared": false,
    "source_hash": "a0455a0c"
   },
   "outputs": [
    {
     "data": {
      "text/plain": [
       "(1704, 6)"
      ]
     },
     "execution_count": 10,
     "metadata": {},
     "output_type": "execute_result"
    }
   ],
   "source": [
    "life_expect.shape"
   ]
  },
  {
   "cell_type": "markdown",
   "metadata": {
    "cell_id": "00009-ce159879-4cbf-4cac-ad30-8d41efc3b2df",
    "deepnote_cell_type": "markdown",
    "tags": []
   },
   "source": [
    "### In the code block below show the first 5 rows of the DataFrame"
   ]
  },
  {
   "cell_type": "code",
   "execution_count": 13,
   "metadata": {
    "cell_id": "00009-c668409e-d5d3-49ae-896d-16ec44a79b7c",
    "deepnote_cell_type": "code",
    "execution_millis": 7,
    "execution_start": 1608637093060,
    "output_cleared": false,
    "scrolled": true,
    "source_hash": "7a1dedec"
   },
   "outputs": [
    {
     "data": {
      "text/html": [
       "<div>\n",
       "<style scoped>\n",
       "    .dataframe tbody tr th:only-of-type {\n",
       "        vertical-align: middle;\n",
       "    }\n",
       "\n",
       "    .dataframe tbody tr th {\n",
       "        vertical-align: top;\n",
       "    }\n",
       "\n",
       "    .dataframe thead th {\n",
       "        text-align: right;\n",
       "    }\n",
       "</style>\n",
       "<table border=\"1\" class=\"dataframe\">\n",
       "  <thead>\n",
       "    <tr style=\"text-align: right;\">\n",
       "      <th></th>\n",
       "      <th>country</th>\n",
       "      <th>year</th>\n",
       "      <th>pop</th>\n",
       "      <th>continent</th>\n",
       "      <th>lifeExp</th>\n",
       "      <th>gdpPercap</th>\n",
       "    </tr>\n",
       "  </thead>\n",
       "  <tbody>\n",
       "    <tr>\n",
       "      <th>0</th>\n",
       "      <td>Afghanistan</td>\n",
       "      <td>1952</td>\n",
       "      <td>8425333.0</td>\n",
       "      <td>Asia</td>\n",
       "      <td>28.801</td>\n",
       "      <td>779.445314</td>\n",
       "    </tr>\n",
       "    <tr>\n",
       "      <th>1</th>\n",
       "      <td>Afghanistan</td>\n",
       "      <td>1957</td>\n",
       "      <td>9240934.0</td>\n",
       "      <td>Asia</td>\n",
       "      <td>30.332</td>\n",
       "      <td>820.853030</td>\n",
       "    </tr>\n",
       "    <tr>\n",
       "      <th>2</th>\n",
       "      <td>Afghanistan</td>\n",
       "      <td>1962</td>\n",
       "      <td>10267083.0</td>\n",
       "      <td>Asia</td>\n",
       "      <td>31.997</td>\n",
       "      <td>853.100710</td>\n",
       "    </tr>\n",
       "    <tr>\n",
       "      <th>3</th>\n",
       "      <td>Afghanistan</td>\n",
       "      <td>1967</td>\n",
       "      <td>11537966.0</td>\n",
       "      <td>Asia</td>\n",
       "      <td>34.020</td>\n",
       "      <td>836.197138</td>\n",
       "    </tr>\n",
       "    <tr>\n",
       "      <th>4</th>\n",
       "      <td>Afghanistan</td>\n",
       "      <td>1972</td>\n",
       "      <td>13079460.0</td>\n",
       "      <td>Asia</td>\n",
       "      <td>36.088</td>\n",
       "      <td>739.981106</td>\n",
       "    </tr>\n",
       "  </tbody>\n",
       "</table>\n",
       "</div>"
      ],
      "text/plain": [
       "       country  year         pop continent  lifeExp   gdpPercap\n",
       "0  Afghanistan  1952   8425333.0      Asia   28.801  779.445314\n",
       "1  Afghanistan  1957   9240934.0      Asia   30.332  820.853030\n",
       "2  Afghanistan  1962  10267083.0      Asia   31.997  853.100710\n",
       "3  Afghanistan  1967  11537966.0      Asia   34.020  836.197138\n",
       "4  Afghanistan  1972  13079460.0      Asia   36.088  739.981106"
      ]
     },
     "execution_count": 13,
     "metadata": {},
     "output_type": "execute_result"
    }
   ],
   "source": [
    "life_expect.head()"
   ]
  },
  {
   "cell_type": "markdown",
   "metadata": {
    "cell_id": "00010-c096c719-1abd-4f6a-807e-7b6a31412a31",
    "deepnote_cell_type": "markdown"
   },
   "source": [
    "You can see that the columns hold six types of data: the country, the year, the population, the continent, the life expectancy, and the per-capita gross domestic product (GDP). \n",
    "Rows are indexed from 0, and the columns each have a **label** (also called an index). Using labels to access data is one of the most powerful features of `pandas`.\n",
    "\n",
    "In the first five rows, we see that the country repeats (Afghanistan), while the year jumps by five. We guess that the data is arranged in blocks of rows for each country."
   ]
  },
  {
   "cell_type": "markdown",
   "metadata": {
    "cell_id": "00011-07ecdc33-177d-45f0-a6cf-efb31f450ec7",
    "deepnote_cell_type": "markdown"
   },
   "source": [
    "We can get a useful summary of the dataframe with the [`DataFrame.info()`](https://pandas.pydata.org/pandas-docs/stable/generated/pandas.DataFrame.info.html) method: it tells us the number of rows and the number of columns (matching the output of the `shape` attribute) and then for each column, it tells us the number of rows that are populated (have non-null entries) and the type of the entries; finally it gives a breakdown of the types of data and an estimate of the memory used by the dataframe."
   ]
  },
  {
   "cell_type": "code",
   "execution_count": 14,
   "metadata": {
    "cell_id": "00012-cceec06b-0d64-4b74-a081-66b89aa856e9",
    "deepnote_cell_type": "code",
    "execution_millis": 2,
    "execution_start": 1608637280592,
    "output_cleared": false,
    "source_hash": "2e499feb"
   },
   "outputs": [
    {
     "name": "stdout",
     "output_type": "stream",
     "text": [
      "<class 'pandas.core.frame.DataFrame'>\n",
      "RangeIndex: 1704 entries, 0 to 1703\n",
      "Data columns (total 6 columns):\n",
      " #   Column     Non-Null Count  Dtype  \n",
      "---  ------     --------------  -----  \n",
      " 0   country    1704 non-null   object \n",
      " 1   year       1704 non-null   int64  \n",
      " 2   pop        1704 non-null   float64\n",
      " 3   continent  1704 non-null   object \n",
      " 4   lifeExp    1704 non-null   float64\n",
      " 5   gdpPercap  1704 non-null   float64\n",
      "dtypes: float64(3), int64(1), object(2)\n",
      "memory usage: 80.0+ KB\n"
     ]
    }
   ],
   "source": [
    "life_expect.info()"
   ]
  },
  {
   "cell_type": "markdown",
   "metadata": {
    "cell_id": "00013-91c2ac2d-84a5-4cd2-82e2-61646b86001b",
    "deepnote_cell_type": "markdown"
   },
   "source": [
    "The dataframe has 1704 rows, and every column has 1704 non-null entries, so there is no missing data. Let's find out how many entries of the same year appear in the data. \n",
    "In [Lesson 1](http://go.gwu.edu/engcomp2lesson1) of this module, you already learned to extract a column from a data frame, and use the [`series.value_counts()`](https://pandas.pydata.org/pandas-docs/stable/generated/pandas.Series.value_counts.html) method to answer our question."
   ]
  },
  {
   "cell_type": "code",
   "execution_count": 15,
   "metadata": {
    "cell_id": "00014-d9589779-5e4d-439b-b75e-4d36150164bf",
    "deepnote_cell_type": "code",
    "execution_millis": 3,
    "execution_start": 1608637281425,
    "output_cleared": false,
    "source_hash": "e85ef85c"
   },
   "outputs": [
    {
     "data": {
      "text/plain": [
       "2007    142\n",
       "2002    142\n",
       "1997    142\n",
       "1992    142\n",
       "1987    142\n",
       "1982    142\n",
       "1977    142\n",
       "1972    142\n",
       "1967    142\n",
       "1962    142\n",
       "1957    142\n",
       "1952    142\n",
       "Name: year, dtype: int64"
      ]
     },
     "execution_count": 15,
     "metadata": {},
     "output_type": "execute_result"
    }
   ],
   "source": [
    "life_expect['year'].value_counts()"
   ]
  },
  {
   "cell_type": "markdown",
   "metadata": {
    "cell_id": "00015-9ecf922a-987e-466c-acfa-399ff2f5a764",
    "deepnote_cell_type": "markdown"
   },
   "source": [
    "We have an even 142 occurrences of each year in the dataframe. The distinct entries must correspond to each country. It also is clear that we have data every five years, starting 1952 and ending 2007. We think we have a pretty clear picture of what is contained in this data set. What next?"
   ]
  },
  {
   "cell_type": "markdown",
   "metadata": {
    "cell_id": "00016-78251c2c-ab54-49fc-8a43-97291daf54b2",
    "deepnote_cell_type": "markdown"
   },
   "source": [
    "## Grouping data for analysis\n",
    "\n",
    "We have a dataframe with a `country` column, where countries repeat in blocks of rows, and a `year` column, where sets of 12 years (increasing by 5) repeat for every country. Tabled data commonly has this interleaved structure. And data analysis often involves grouping the data in various ways, to transform it, compute statistics, and visualize it.\n",
    "\n",
    "With the life expectancy data, it's natural to want to analyze it by year (and look at geographical differences), and by country (and look at historical differences). \n",
    "\n",
    "In [Lesson 2](http://go.gwu.edu/engcomp2lesson2) of this module, we already learned how useful it was to group the beer data by style, and calculate means within each style. Let's get better acquainted with the powerful `groupby()` method for dataframes. First, grouping by the values in the `year` column:"
   ]
  },
  {
   "cell_type": "code",
   "execution_count": 16,
   "metadata": {
    "cell_id": "00017-bba02f81-27bd-4034-8c24-cdacac211814",
    "deepnote_cell_type": "code",
    "execution_millis": 1,
    "execution_start": 1608637285087,
    "output_cleared": false,
    "source_hash": "525ce227"
   },
   "outputs": [],
   "source": [
    "by_year = life_expect.groupby('year')"
   ]
  },
  {
   "cell_type": "code",
   "execution_count": 17,
   "metadata": {
    "cell_id": "00018-0bb71516-6a9f-46b4-8694-047f269146cc",
    "deepnote_cell_type": "code",
    "execution_millis": 3,
    "execution_start": 1608637285846,
    "output_cleared": true,
    "source_hash": null
   },
   "outputs": [
    {
     "data": {
      "text/plain": [
       "pandas.core.groupby.generic.DataFrameGroupBy"
      ]
     },
     "execution_count": 17,
     "metadata": {},
     "output_type": "execute_result"
    }
   ],
   "source": [
    "type(by_year)"
   ]
  },
  {
   "cell_type": "markdown",
   "metadata": {
    "cell_id": "00019-440642ca-fe47-43ce-9209-bcd593ff0e73",
    "deepnote_cell_type": "markdown"
   },
   "source": [
    "Notice that the type of the new variable `by_year` is different: it's a _GroupBy_ object, which—without making a copy of the data—is able to apply operations on each of the groups."
   ]
  },
  {
   "cell_type": "markdown",
   "metadata": {
    "cell_id": "00020-fa4c545d-96e3-4f1e-bfb5-a3ce38145f05",
    "deepnote_cell_type": "markdown"
   },
   "source": [
    "The [`GroupBy.first()`](https://pandas.pydata.org/pandas-docs/stable/generated/pandas.core.groupby.GroupBy.first.html) method, for example, returns the first row in each group—applied to our grouping `by_year`, it shows the list of years (as a label), with the first country that appears in each year-group."
   ]
  },
  {
   "cell_type": "code",
   "execution_count": 18,
   "metadata": {
    "cell_id": "00021-bb29ee70-5211-4325-8f31-fabd492ef184",
    "deepnote_cell_type": "code",
    "execution_millis": 43,
    "execution_start": 1608637287978,
    "output_cleared": false,
    "source_hash": "61dde603"
   },
   "outputs": [
    {
     "data": {
      "text/html": [
       "<div>\n",
       "<style scoped>\n",
       "    .dataframe tbody tr th:only-of-type {\n",
       "        vertical-align: middle;\n",
       "    }\n",
       "\n",
       "    .dataframe tbody tr th {\n",
       "        vertical-align: top;\n",
       "    }\n",
       "\n",
       "    .dataframe thead th {\n",
       "        text-align: right;\n",
       "    }\n",
       "</style>\n",
       "<table border=\"1\" class=\"dataframe\">\n",
       "  <thead>\n",
       "    <tr style=\"text-align: right;\">\n",
       "      <th></th>\n",
       "      <th>country</th>\n",
       "      <th>pop</th>\n",
       "      <th>continent</th>\n",
       "      <th>lifeExp</th>\n",
       "      <th>gdpPercap</th>\n",
       "    </tr>\n",
       "    <tr>\n",
       "      <th>year</th>\n",
       "      <th></th>\n",
       "      <th></th>\n",
       "      <th></th>\n",
       "      <th></th>\n",
       "      <th></th>\n",
       "    </tr>\n",
       "  </thead>\n",
       "  <tbody>\n",
       "    <tr>\n",
       "      <th>1952</th>\n",
       "      <td>Afghanistan</td>\n",
       "      <td>8425333.0</td>\n",
       "      <td>Asia</td>\n",
       "      <td>28.801</td>\n",
       "      <td>779.445314</td>\n",
       "    </tr>\n",
       "    <tr>\n",
       "      <th>1957</th>\n",
       "      <td>Afghanistan</td>\n",
       "      <td>9240934.0</td>\n",
       "      <td>Asia</td>\n",
       "      <td>30.332</td>\n",
       "      <td>820.853030</td>\n",
       "    </tr>\n",
       "    <tr>\n",
       "      <th>1962</th>\n",
       "      <td>Afghanistan</td>\n",
       "      <td>10267083.0</td>\n",
       "      <td>Asia</td>\n",
       "      <td>31.997</td>\n",
       "      <td>853.100710</td>\n",
       "    </tr>\n",
       "    <tr>\n",
       "      <th>1967</th>\n",
       "      <td>Afghanistan</td>\n",
       "      <td>11537966.0</td>\n",
       "      <td>Asia</td>\n",
       "      <td>34.020</td>\n",
       "      <td>836.197138</td>\n",
       "    </tr>\n",
       "    <tr>\n",
       "      <th>1972</th>\n",
       "      <td>Afghanistan</td>\n",
       "      <td>13079460.0</td>\n",
       "      <td>Asia</td>\n",
       "      <td>36.088</td>\n",
       "      <td>739.981106</td>\n",
       "    </tr>\n",
       "    <tr>\n",
       "      <th>1977</th>\n",
       "      <td>Afghanistan</td>\n",
       "      <td>14880372.0</td>\n",
       "      <td>Asia</td>\n",
       "      <td>38.438</td>\n",
       "      <td>786.113360</td>\n",
       "    </tr>\n",
       "    <tr>\n",
       "      <th>1982</th>\n",
       "      <td>Afghanistan</td>\n",
       "      <td>12881816.0</td>\n",
       "      <td>Asia</td>\n",
       "      <td>39.854</td>\n",
       "      <td>978.011439</td>\n",
       "    </tr>\n",
       "    <tr>\n",
       "      <th>1987</th>\n",
       "      <td>Afghanistan</td>\n",
       "      <td>13867957.0</td>\n",
       "      <td>Asia</td>\n",
       "      <td>40.822</td>\n",
       "      <td>852.395945</td>\n",
       "    </tr>\n",
       "    <tr>\n",
       "      <th>1992</th>\n",
       "      <td>Afghanistan</td>\n",
       "      <td>16317921.0</td>\n",
       "      <td>Asia</td>\n",
       "      <td>41.674</td>\n",
       "      <td>649.341395</td>\n",
       "    </tr>\n",
       "    <tr>\n",
       "      <th>1997</th>\n",
       "      <td>Afghanistan</td>\n",
       "      <td>22227415.0</td>\n",
       "      <td>Asia</td>\n",
       "      <td>41.763</td>\n",
       "      <td>635.341351</td>\n",
       "    </tr>\n",
       "    <tr>\n",
       "      <th>2002</th>\n",
       "      <td>Afghanistan</td>\n",
       "      <td>25268405.0</td>\n",
       "      <td>Asia</td>\n",
       "      <td>42.129</td>\n",
       "      <td>726.734055</td>\n",
       "    </tr>\n",
       "    <tr>\n",
       "      <th>2007</th>\n",
       "      <td>Afghanistan</td>\n",
       "      <td>31889923.0</td>\n",
       "      <td>Asia</td>\n",
       "      <td>43.828</td>\n",
       "      <td>974.580338</td>\n",
       "    </tr>\n",
       "  </tbody>\n",
       "</table>\n",
       "</div>"
      ],
      "text/plain": [
       "          country         pop continent  lifeExp   gdpPercap\n",
       "year                                                        \n",
       "1952  Afghanistan   8425333.0      Asia   28.801  779.445314\n",
       "1957  Afghanistan   9240934.0      Asia   30.332  820.853030\n",
       "1962  Afghanistan  10267083.0      Asia   31.997  853.100710\n",
       "1967  Afghanistan  11537966.0      Asia   34.020  836.197138\n",
       "1972  Afghanistan  13079460.0      Asia   36.088  739.981106\n",
       "1977  Afghanistan  14880372.0      Asia   38.438  786.113360\n",
       "1982  Afghanistan  12881816.0      Asia   39.854  978.011439\n",
       "1987  Afghanistan  13867957.0      Asia   40.822  852.395945\n",
       "1992  Afghanistan  16317921.0      Asia   41.674  649.341395\n",
       "1997  Afghanistan  22227415.0      Asia   41.763  635.341351\n",
       "2002  Afghanistan  25268405.0      Asia   42.129  726.734055\n",
       "2007  Afghanistan  31889923.0      Asia   43.828  974.580338"
      ]
     },
     "execution_count": 18,
     "metadata": {},
     "output_type": "execute_result"
    }
   ],
   "source": [
    "by_year.first()"
   ]
  },
  {
   "cell_type": "markdown",
   "metadata": {
    "cell_id": "00022-1029b74b-7088-4305-ba65-e8dee6b90c84",
    "deepnote_cell_type": "markdown"
   },
   "source": [
    "All the year-groups have the same first country, Afghanistan, so what we see is the population, life expectancy and per-capita income in Afghanistan for all the available years.\n",
    "Let's save that into a new dataframe, and make a line plot of the population and life expectancy over the years."
   ]
  },
  {
   "cell_type": "code",
   "execution_count": 19,
   "metadata": {
    "cell_id": "00023-5566d08f-9815-4424-8403-2971adbc2564",
    "deepnote_cell_type": "code",
    "execution_millis": 0,
    "execution_start": 1608637290760,
    "output_cleared": false,
    "source_hash": "184b6cd"
   },
   "outputs": [],
   "source": [
    "Afghanistan = by_year.first()"
   ]
  },
  {
   "cell_type": "code",
   "execution_count": 20,
   "metadata": {
    "cell_id": "00024-4c7a4a4b-9852-4657-a841-c954892aa5c8",
    "deepnote_cell_type": "code",
    "execution_millis": 174,
    "execution_start": 1608637291878,
    "output_cleared": false,
    "source_hash": "389fbd7f"
   },
   "outputs": [
    {
     "data": {
      "image/png": "[encoded data removed]",
      "text/plain": [
       "<Figure size 576x288 with 1 Axes>"
      ]
     },
     "metadata": {
      "needs_background": "light"
     },
     "output_type": "display_data"
    }
   ],
   "source": [
    "Afghanistan['pop'].plot(figsize=(8,4),\n",
    "                       title='Population of Afghanistan');"
   ]
  },
  {
   "cell_type": "code",
   "execution_count": 21,
   "metadata": {
    "cell_id": "00025-0a37965c-1ed3-4374-8e34-1f2251011e78",
    "deepnote_cell_type": "code",
    "execution_millis": 96,
    "execution_start": 1608637293543,
    "output_cleared": false,
    "source_hash": "5d8143aa"
   },
   "outputs": [
    {
     "data": {
      "image/png": "[encoded data removed]",
      "text/plain": [
       "<Figure size 576x288 with 1 Axes>"
      ]
     },
     "metadata": {
      "needs_background": "light"
     },
     "output_type": "display_data"
    }
   ],
   "source": [
    "Afghanistan['lifeExp'].plot(figsize=(8,4),\n",
    "                       title='Life expectancy of Afghanistan');"
   ]
  },
  {
   "cell_type": "markdown",
   "metadata": {
    "cell_id": "00026-a9f28107-f68b-42cb-9892-9e2dff50cae3",
    "deepnote_cell_type": "markdown"
   },
   "source": [
    "Do you notice something interesting? It's curious to see that the population of Afghanistan took a fall after 1977. We have data every 5 years, so we don't know exactly when this fall began, but it's not hard to find the answer online. The USSR invaded Afghanistan in 1979, starting a conflict that lasted 9 years and resulted in an estimated death toll of one million civilians and 100,000 fighters [1]. Millions fled the war to neighboring countries, which may explain why we se a dip in population, but not a dip in life expectancy."
   ]
  },
  {
   "cell_type": "markdown",
   "metadata": {
    "cell_id": "00027-9ae10e9b-5395-4408-85bb-4c10f4f54ccd",
    "deepnote_cell_type": "markdown"
   },
   "source": [
    "We can also get some descriptive statistics in one go with the [`DataFrame.describe()`](https://pandas.pydata.org/pandas-docs/stable/generated/pandas.DataFrame.describe.html) method of `pandas`."
   ]
  },
  {
   "cell_type": "code",
   "execution_count": 22,
   "metadata": {
    "cell_id": "00028-41a93576-80ff-40bf-b649-4d459bd19079",
    "deepnote_cell_type": "code",
    "execution_millis": 3,
    "execution_start": 1608637295322,
    "output_cleared": false,
    "source_hash": "76eee7c6"
   },
   "outputs": [
    {
     "data": {
      "text/html": [
       "<div>\n",
       "<style scoped>\n",
       "    .dataframe tbody tr th:only-of-type {\n",
       "        vertical-align: middle;\n",
       "    }\n",
       "\n",
       "    .dataframe tbody tr th {\n",
       "        vertical-align: top;\n",
       "    }\n",
       "\n",
       "    .dataframe thead th {\n",
       "        text-align: right;\n",
       "    }\n",
       "</style>\n",
       "<table border=\"1\" class=\"dataframe\">\n",
       "  <thead>\n",
       "    <tr style=\"text-align: right;\">\n",
       "      <th></th>\n",
       "      <th>pop</th>\n",
       "      <th>lifeExp</th>\n",
       "      <th>gdpPercap</th>\n",
       "    </tr>\n",
       "  </thead>\n",
       "  <tbody>\n",
       "    <tr>\n",
       "      <th>count</th>\n",
       "      <td>1.200000e+01</td>\n",
       "      <td>12.000000</td>\n",
       "      <td>12.000000</td>\n",
       "    </tr>\n",
       "    <tr>\n",
       "      <th>mean</th>\n",
       "      <td>1.582372e+07</td>\n",
       "      <td>37.478833</td>\n",
       "      <td>802.674598</td>\n",
       "    </tr>\n",
       "    <tr>\n",
       "      <th>std</th>\n",
       "      <td>7.114583e+06</td>\n",
       "      <td>5.098646</td>\n",
       "      <td>108.202929</td>\n",
       "    </tr>\n",
       "    <tr>\n",
       "      <th>min</th>\n",
       "      <td>8.425333e+06</td>\n",
       "      <td>28.801000</td>\n",
       "      <td>635.341351</td>\n",
       "    </tr>\n",
       "    <tr>\n",
       "      <th>25%</th>\n",
       "      <td>1.122025e+07</td>\n",
       "      <td>33.514250</td>\n",
       "      <td>736.669343</td>\n",
       "    </tr>\n",
       "    <tr>\n",
       "      <th>50%</th>\n",
       "      <td>1.347371e+07</td>\n",
       "      <td>39.146000</td>\n",
       "      <td>803.483195</td>\n",
       "    </tr>\n",
       "    <tr>\n",
       "      <th>75%</th>\n",
       "      <td>1.779529e+07</td>\n",
       "      <td>41.696250</td>\n",
       "      <td>852.572136</td>\n",
       "    </tr>\n",
       "    <tr>\n",
       "      <th>max</th>\n",
       "      <td>3.188992e+07</td>\n",
       "      <td>43.828000</td>\n",
       "      <td>978.011439</td>\n",
       "    </tr>\n",
       "  </tbody>\n",
       "</table>\n",
       "</div>"
      ],
      "text/plain": [
       "                pop    lifeExp   gdpPercap\n",
       "count  1.200000e+01  12.000000   12.000000\n",
       "mean   1.582372e+07  37.478833  802.674598\n",
       "std    7.114583e+06   5.098646  108.202929\n",
       "min    8.425333e+06  28.801000  635.341351\n",
       "25%    1.122025e+07  33.514250  736.669343\n",
       "50%    1.347371e+07  39.146000  803.483195\n",
       "75%    1.779529e+07  41.696250  852.572136\n",
       "max    3.188992e+07  43.828000  978.011439"
      ]
     },
     "execution_count": 22,
     "metadata": {},
     "output_type": "execute_result"
    }
   ],
   "source": [
    "Afghanistan.describe()"
   ]
  },
  {
   "cell_type": "markdown",
   "metadata": {
    "cell_id": "00029-8d382735-5140-4831-9278-11b506453da9",
    "deepnote_cell_type": "markdown"
   },
   "source": [
    "Let's now group our data by country, and use the `GroupBy.first()` method again to get the first row of each group-by-country. We know that the first year for which we have data is 1952, so let's immediately save that into a new variable named `year1952`, and keep playing with it. Below, we double-check the type of `year1952`, print the first five rows using the `head()` method, and get the minimum value of the population column."
   ]
  },
  {
   "cell_type": "code",
   "execution_count": 23,
   "metadata": {
    "cell_id": "00030-b6bd2b8f-57cf-47c8-9ad4-ff830d0f0979",
    "deepnote_cell_type": "code",
    "execution_millis": 1,
    "execution_start": 1608638002408,
    "output_cleared": false,
    "source_hash": "8b64bff4"
   },
   "outputs": [],
   "source": [
    "by_country = life_expect.groupby('country')"
   ]
  },
  {
   "cell_type": "markdown",
   "metadata": {
    "cell_id": "00031-6b003675-c35e-4f17-9959-0383c6af4fe3",
    "deepnote_cell_type": "markdown"
   },
   "source": [
    "The first year for all groups-by-country is 1952. Let's save that first group into a new dataframe, and keep playing with it."
   ]
  },
  {
   "cell_type": "markdown",
   "metadata": {
    "cell_id": "00033-ef9563bd-ae3b-462e-89e6-821ffabb40ec",
    "deepnote_cell_type": "markdown",
    "tags": []
   },
   "source": [
    "### As we did above with by_year, do the same with by_country and store the result of using the `.first()` function in the variable `year1952`."
   ]
  },
  {
   "cell_type": "code",
   "execution_count": 24,
   "metadata": {
    "cell_id": "00032-da69d5ea-93fe-498b-9e3a-a61a450a868a",
    "deepnote_cell_type": "code",
    "execution_millis": 2,
    "execution_start": 1608638003225,
    "output_cleared": false,
    "source_hash": "4451c283"
   },
   "outputs": [],
   "source": [
    "year1952 = by_country.first()"
   ]
  },
  {
   "cell_type": "code",
   "execution_count": 25,
   "metadata": {
    "cell_id": "00033-3876cf62-d6c2-453e-89d1-1be4b20cb787",
    "deepnote_cell_type": "code",
    "execution_millis": 3,
    "execution_start": 1608638003745,
    "output_cleared": false,
    "source_hash": "5dd6760b"
   },
   "outputs": [
    {
     "data": {
      "text/plain": [
       "pandas.core.frame.DataFrame"
      ]
     },
     "execution_count": 25,
     "metadata": {},
     "output_type": "execute_result"
    }
   ],
   "source": [
    "type(year1952)"
   ]
  },
  {
   "cell_type": "code",
   "execution_count": 26,
   "metadata": {
    "cell_id": "00034-d379798a-64f5-4214-b127-e80ece222396",
    "deepnote_cell_type": "code",
    "execution_millis": 0,
    "execution_start": 1608638006333,
    "output_cleared": false,
    "source_hash": "c9cfc327"
   },
   "outputs": [
    {
     "data": {
      "text/html": [
       "<div>\n",
       "<style scoped>\n",
       "    .dataframe tbody tr th:only-of-type {\n",
       "        vertical-align: middle;\n",
       "    }\n",
       "\n",
       "    .dataframe tbody tr th {\n",
       "        vertical-align: top;\n",
       "    }\n",
       "\n",
       "    .dataframe thead th {\n",
       "        text-align: right;\n",
       "    }\n",
       "</style>\n",
       "<table border=\"1\" class=\"dataframe\">\n",
       "  <thead>\n",
       "    <tr style=\"text-align: right;\">\n",
       "      <th></th>\n",
       "      <th>year</th>\n",
       "      <th>pop</th>\n",
       "      <th>continent</th>\n",
       "      <th>lifeExp</th>\n",
       "      <th>gdpPercap</th>\n",
       "    </tr>\n",
       "    <tr>\n",
       "      <th>country</th>\n",
       "      <th></th>\n",
       "      <th></th>\n",
       "      <th></th>\n",
       "      <th></th>\n",
       "      <th></th>\n",
       "    </tr>\n",
       "  </thead>\n",
       "  <tbody>\n",
       "    <tr>\n",
       "      <th>Afghanistan</th>\n",
       "      <td>1952</td>\n",
       "      <td>8425333.0</td>\n",
       "      <td>Asia</td>\n",
       "      <td>28.801</td>\n",
       "      <td>779.445314</td>\n",
       "    </tr>\n",
       "    <tr>\n",
       "      <th>Albania</th>\n",
       "      <td>1952</td>\n",
       "      <td>1282697.0</td>\n",
       "      <td>Europe</td>\n",
       "      <td>55.230</td>\n",
       "      <td>1601.056136</td>\n",
       "    </tr>\n",
       "    <tr>\n",
       "      <th>Algeria</th>\n",
       "      <td>1952</td>\n",
       "      <td>9279525.0</td>\n",
       "      <td>Africa</td>\n",
       "      <td>43.077</td>\n",
       "      <td>2449.008185</td>\n",
       "    </tr>\n",
       "    <tr>\n",
       "      <th>Angola</th>\n",
       "      <td>1952</td>\n",
       "      <td>4232095.0</td>\n",
       "      <td>Africa</td>\n",
       "      <td>30.015</td>\n",
       "      <td>3520.610273</td>\n",
       "    </tr>\n",
       "    <tr>\n",
       "      <th>Argentina</th>\n",
       "      <td>1952</td>\n",
       "      <td>17876956.0</td>\n",
       "      <td>Americas</td>\n",
       "      <td>62.485</td>\n",
       "      <td>5911.315053</td>\n",
       "    </tr>\n",
       "  </tbody>\n",
       "</table>\n",
       "</div>"
      ],
      "text/plain": [
       "             year         pop continent  lifeExp    gdpPercap\n",
       "country                                                      \n",
       "Afghanistan  1952   8425333.0      Asia   28.801   779.445314\n",
       "Albania      1952   1282697.0    Europe   55.230  1601.056136\n",
       "Algeria      1952   9279525.0    Africa   43.077  2449.008185\n",
       "Angola       1952   4232095.0    Africa   30.015  3520.610273\n",
       "Argentina    1952  17876956.0  Americas   62.485  5911.315053"
      ]
     },
     "execution_count": 26,
     "metadata": {},
     "output_type": "execute_result"
    }
   ],
   "source": [
    "year1952.head()"
   ]
  },
  {
   "cell_type": "markdown",
   "metadata": {
    "cell_id": "00037-6d3e058f-1e77-4efd-87b6-222573786809",
    "deepnote_cell_type": "markdown",
    "tags": []
   },
   "source": [
    "### What is the minimum value of the population column of `year1952`?"
   ]
  },
  {
   "cell_type": "code",
   "execution_count": 30,
   "metadata": {
    "cell_id": "00035-ee788d55-97e1-4acf-a8d1-2a25180ec582",
    "deepnote_cell_type": "code",
    "execution_millis": 0,
    "execution_start": 1608638006389,
    "output_cleared": false,
    "source_hash": "bcd768df"
   },
   "outputs": [
    {
     "data": {
      "text/plain": [
       "year            1952\n",
       "pop            60011\n",
       "continent     Africa\n",
       "lifeExp       28.801\n",
       "gdpPercap    298.846\n",
       "dtype: object"
      ]
     },
     "execution_count": 30,
     "metadata": {},
     "output_type": "execute_result"
    }
   ],
   "source": [
    "year1952.min()"
   ]
  },
  {
   "cell_type": "markdown",
   "metadata": {
    "cell_id": "00036-de95cb40-6343-4902-a811-c58d7cf8ae9c",
    "deepnote_cell_type": "markdown"
   },
   "source": [
    "## Visualizing the data\n",
    "\n",
    "In [Lesson 2](http://go.gwu.edu/engcomp2lesson2) of this module, you learned to make bubble charts, allowing you to show at least three features of the data in one plot. We'd like to make a bubble chart of life expectancy vs. per-capita GDP, with the size of the bubble proportional to the population. To do that, we'll need to extract the population values into a NumPy array."
   ]
  },
  {
   "cell_type": "code",
   "execution_count": 31,
   "metadata": {
    "cell_id": "00037-538d70e6-c0ec-435b-b78a-efd4c7a44fcc",
    "deepnote_cell_type": "code",
    "execution_millis": 1,
    "execution_start": 1608640051788,
    "output_cleared": false,
    "source_hash": "803af193"
   },
   "outputs": [],
   "source": [
    "populations = year1952['pop'].values"
   ]
  },
  {
   "cell_type": "markdown",
   "metadata": {
    "cell_id": "00038-cbcc1a24-38f2-4aab-b06c-9f60a717d579",
    "deepnote_cell_type": "markdown"
   },
   "source": [
    "If you use the `populations` array unmodified as the size of the bubbles, they come out _huge_ and you get one solid color covering the figure (we tried it!). To make the bubble sizes reasonable, we divide by 60,000—an approximation to the minimum population—so the smallest bubble size is about 1 pt. Finally, we choose a logarithmic scale in the absissa (the GDP). Check it out!"
   ]
  },
  {
   "cell_type": "code",
   "execution_count": 32,
   "metadata": {
    "cell_id": "00039-63c5913d-b574-4e1c-ae09-76c254e15f10",
    "deepnote_cell_type": "code",
    "execution_millis": 422,
    "execution_start": 1608638012262,
    "output_cleared": true,
    "source_hash": null
   },
   "outputs": [
    {
     "data": {
      "image/png": "[encoded data removed]",
      "text/plain": [
       "<Figure size 864x576 with 1 Axes>"
      ]
     },
     "metadata": {
      "needs_background": "light"
     },
     "output_type": "display_data"
    }
   ],
   "source": [
    "year1952.plot.scatter(figsize=(12,8), \n",
    "                       x='gdpPercap', y='lifeExp', s=populations/60000, \n",
    "                       title='Life expectancy in the year 1952',\n",
    "                       edgecolors=\"white\")\n",
    "pyplot.xscale('log');"
   ]
  },
  {
   "cell_type": "markdown",
   "metadata": {
    "cell_id": "00040-3a3e1088-74f8-4d59-ace6-cae5d2bf888e",
    "deepnote_cell_type": "markdown"
   },
   "source": [
    "That's neat! But the Rosling bubble charts include one more feature in the data: the continent of each country, using a color scheme. Can we do that?"
   ]
  },
  {
   "cell_type": "markdown",
   "metadata": {
    "cell_id": "00041-0ddf81e6-a420-497e-9b9a-78f31b989c75",
    "deepnote_cell_type": "markdown"
   },
   "source": [
    "Matplotlib [colormaps](https://matplotlib.org/examples/color/colormaps_reference.html) offer several options for _qualitative_ data, using discrete colors mapped to a sequence of numbers. We'd like to use the `Accent` colormap to code countries by continent. But we need a numeric code to assign to each continent, so it can be mapped to a color.\n",
    "\n",
    "The [Gapminder Animation](https://python-graph-gallery.com/341-python-gapminder-animation/) example at The Python Graph Gallery has a good tip: using the `pandas` _Categorical_ data type, which associates a numerical value for each category in a column containing qualitative (categorical) data. \n",
    "\n",
    "Let's see what we get if we apply  `pandas.Categorical()` to the `continent` column:"
   ]
  },
  {
   "cell_type": "code",
   "execution_count": null,
   "metadata": {
    "cell_id": "00042-039630b9-1954-45e2-b1e0-14f5d7972808",
    "deepnote_cell_type": "code",
    "execution_millis": 0,
    "execution_start": 1608638038185,
    "output_cleared": false,
    "source_hash": "ddc372fd"
   },
   "outputs": [],
   "source": [
    "pandas.Categorical(year1952['continent'])"
   ]
  },
  {
   "cell_type": "markdown",
   "metadata": {
    "cell_id": "00043-a26ab0b4-bff7-407d-9022-cf19c814f195",
    "deepnote_cell_type": "markdown"
   },
   "source": [
    "Right. We see that the `continent` column has repeated entries of 5 distinct categories, one for each continent. In order, they are: Africa, Americas, Asia, Europe, Oceania.\n",
    "\n",
    "Applying [`pandas.Categorical()`](https://pandas.pydata.org/pandas-docs/stable/generated/pandas.Categorical.html) to the `continent` column will create an integer value—the _code_ of the category—associated to each entry. We can then use these integer values to map to the colors in a colormap. The trick will be to extract the `codes` attribute of the _Categorical_ data and save that into a new variable named `colors` (a NumPy array)."
   ]
  },
  {
   "cell_type": "code",
   "execution_count": null,
   "metadata": {
    "cell_id": "00044-daec62e7-8556-4446-92d7-7bbe4c2ac1ec",
    "deepnote_cell_type": "code",
    "execution_millis": 2,
    "execution_start": 1608638039577,
    "output_cleared": false,
    "source_hash": "80f917d4"
   },
   "outputs": [],
   "source": [
    "colors = pandas.Categorical(year1952['continent']).codes"
   ]
  },
  {
   "cell_type": "code",
   "execution_count": null,
   "metadata": {
    "cell_id": "00045-543fa854-6bf3-460e-bec8-caddbd271f6b",
    "deepnote_cell_type": "code",
    "execution_millis": 3,
    "execution_start": 1608638039975,
    "output_cleared": false,
    "source_hash": "8f734145"
   },
   "outputs": [],
   "source": [
    "type(colors)"
   ]
  },
  {
   "cell_type": "code",
   "execution_count": null,
   "metadata": {
    "cell_id": "00046-5ed92630-ecaf-4bf6-a272-c69b4506acd2",
    "deepnote_cell_type": "code",
    "execution_millis": 1,
    "execution_start": 1608638040205,
    "output_cleared": false,
    "source_hash": "d72cbcf"
   },
   "outputs": [],
   "source": [
    "len(colors)"
   ]
  },
  {
   "cell_type": "code",
   "execution_count": null,
   "metadata": {
    "cell_id": "00047-6d9394b7-91ca-48b8-8c13-48b6ab393a8b",
    "deepnote_cell_type": "code",
    "execution_millis": 2,
    "execution_start": 1608638040582,
    "output_cleared": false,
    "source_hash": "80bf8513"
   },
   "outputs": [],
   "source": [
    "print(colors)"
   ]
  },
  {
   "cell_type": "markdown",
   "metadata": {
    "cell_id": "00048-4bce93ef-2ea3-4904-bcd3-d0871366a66c",
    "deepnote_cell_type": "markdown"
   },
   "source": [
    "You see that `colors` is a NumPy array of 142 integers that can take the values: ` 0, 1, 2, 3, 4`. They are the codes to `continent` categories: `Africa, Americas, Asia, Europe, Oceania`. For example, the first entry is `2`, corresponding to Asia, the continent of Afghanistan."
   ]
  },
  {
   "cell_type": "markdown",
   "metadata": {
    "cell_id": "00049-3fe0669c-2e99-4337-afd3-9f6bc58f5cb4",
    "deepnote_cell_type": "markdown"
   },
   "source": [
    "Now we're ready to re-do our bubble chart, using the array `colors` to set the color of the bubble (according to the continent for the given country)."
   ]
  },
  {
   "cell_type": "code",
   "execution_count": null,
   "metadata": {
    "cell_id": "00050-856ab852-7b4a-48c6-92cd-5d96a2da0b1c",
    "deepnote_cell_type": "code",
    "execution_millis": 326,
    "execution_start": 1608638070584,
    "output_cleared": false,
    "source_hash": "516b9369"
   },
   "outputs": [],
   "source": [
    "year1952.plot.scatter(figsize=(12,8), \n",
    "                         x='gdpPercap', y='lifeExp', s=populations/60000, \n",
    "                         c=colors, cmap='Accent',\n",
    "                         title='Life expectancy vs. per-capita GDP in the year 1952,\\n color-coded by continent',\n",
    "                         logx = True,\n",
    "                         ylim = (25,85),\n",
    "                         xlim = (1e2, 1e5),\n",
    "                         edgecolors=\"white\",\n",
    "                         alpha=0.6);"
   ]
  },
  {
   "cell_type": "markdown",
   "metadata": {
    "cell_id": "00051-4be91c28-5157-4751-bff6-bb865576e4ce",
    "deepnote_cell_type": "markdown"
   },
   "source": [
    "##### Note:\n",
    "\n",
    "We encountered a bug in `pandas` scatter plots! The labels of the $x$-axis disappeared when we added the colors to the bubbles. We tried several things to fix it, like adding the line `pyplot.xlabel(\"GDP per Capita\")` at the end of the cell, but nothing worked. Searching online, we found an open [issue report](https://github.com/pandas-dev/pandas/issues/10611) for this problem.\n"
   ]
  },
  {
   "cell_type": "markdown",
   "metadata": {
    "cell_id": "00052-d7f12be2-ee5a-47cc-8202-1369bd136bfd",
    "deepnote_cell_type": "markdown"
   },
   "source": [
    "##### Discuss with your neighbor:\n",
    "\n",
    "What do you see in the colored bubble chart, in regards to 1952 conditions in different countries and different continents?\n",
    "Can you guess some countries? Can you figure out which color corresponds to which continent?"
   ]
  },
  {
   "cell_type": "markdown",
   "metadata": {
    "cell_id": "00053-deef5105-6ee0-4cd3-8d8b-f41e9080754e",
    "deepnote_cell_type": "markdown"
   },
   "source": [
    "### Spaghetti plot of life expectancy\n",
    "\n",
    "The bubble plot shows us that 1952 life expectancies varied quite a lot from country to country: from a minimum of under 30 years, to a maximum under 75 years. The first part of Prof. Rosling's dying message is _\"that the world is making progress_.\" Is it the case that countries around the world _all_ make progress in life expectancy over the years?\n",
    "\n",
    "We have an idea: what if we plot a line of life expectancy over time, for every country in the data set? It could be a bit messy, but it may give an _overall view_ of the world-wide progress in life expectancy.\n",
    "\n",
    "Below, we'll make such a plot, with 142 lines: one for each country. This type of graphic is called a **spaghetti plot** …for obvious reasons!\n",
    "\n",
    "To add a line for each country on the same plot, we'll use a `for`-statement and the `by_country` groups. For each country-group, the line plot takes the series `year` and `lifeExp` as $(x,y)$ coordinates. Since the spaghetti plot is quite busy, we also took off the box around the plot. Study this code carefully."
   ]
  },
  {
   "cell_type": "code",
   "execution_count": null,
   "metadata": {
    "cell_id": "00054-14952bb9-f48c-48be-b38a-5e0233a514a0",
    "deepnote_cell_type": "code",
    "execution_millis": 463,
    "execution_start": 1608638150208,
    "output_cleared": false,
    "source_hash": "7e88e0c6"
   },
   "outputs": [],
   "source": [
    "pyplot.figure(figsize=(12,8))\n",
    "\n",
    "for key,group in by_country:\n",
    "    pyplot.plot(group['year'], group['lifeExp'], alpha=0.4)\n",
    "    \n",
    "pyplot.title('Life expectancy in the years 1952–2007, across 142 countries')\n",
    "pyplot.box(on=None);"
   ]
  },
  {
   "cell_type": "markdown",
   "metadata": {
    "cell_id": "00055-4a19c5c2-f04a-41da-b409-f522573d9ccd",
    "deepnote_cell_type": "markdown"
   },
   "source": [
    "## Dig deeper and get insights from the data\n",
    "\n",
    "The spaghetti plot shows a general upwards tendency, but clearly not all countries have a monotonically increasing life expectancy. Some show a one-year sharp drop (but remember, this data jumps every 5 years), while others drop over several years.\n",
    "And something catastrophic happened to one country in 1977, and to another country in 1992.\n",
    "Let's investigate this!\n",
    "\n",
    "We'd like to explore the data for a particular year: first 1977, then 1992. For those years, we can get the minimum life expectancy, and then find out which country experienced it. \n",
    "\n",
    "To access a particular group in _GroupBy_ data, `pandas` has a `get_group(key)` method, where `key` is the label of the group.\n",
    "For example, we can access yearly data from the `by_year` groups using the year as key. The return type will be a dataframe, containing the same columns as the original data."
   ]
  },
  {
   "cell_type": "code",
   "execution_count": null,
   "metadata": {
    "cell_id": "00056-f6dea681-0ddb-47ac-8f00-46c9129fc51d",
    "deepnote_cell_type": "code",
    "execution_millis": 5,
    "execution_start": 1608638152248,
    "output_cleared": false,
    "source_hash": "1d5d8ed"
   },
   "outputs": [],
   "source": [
    "type(by_year.get_group(1977))"
   ]
  },
  {
   "cell_type": "code",
   "execution_count": null,
   "metadata": {
    "cell_id": "00057-4de59650-6cb1-4e76-964e-33eef0ef4bfe",
    "deepnote_cell_type": "code",
    "execution_millis": 1,
    "execution_start": 1608638153419,
    "output_cleared": false,
    "source_hash": "be153c46"
   },
   "outputs": [],
   "source": [
    "type(by_year['lifeExp'].get_group(1977))"
   ]
  },
  {
   "cell_type": "markdown",
   "metadata": {
    "cell_id": "00058-50340973-4a43-45bb-815d-90868bb878b1",
    "deepnote_cell_type": "markdown"
   },
   "source": [
    "Now we can find the minimum value of life expectancy at the specific years of interest, using the `Series.min()` method. Let' do this for 1977 and 1992, and save the values in new Python variables, to reuse later."
   ]
  },
  {
   "cell_type": "code",
   "execution_count": null,
   "metadata": {
    "cell_id": "00059-3811fa55-eaec-497c-be15-e5e160d36f26",
    "deepnote_cell_type": "code",
    "execution_millis": 1,
    "execution_start": 1608638155416,
    "output_cleared": false,
    "scrolled": true,
    "source_hash": "cda061ec"
   },
   "outputs": [],
   "source": [
    "min_lifeExp1977 = by_year['lifeExp'].get_group(1977).min()\n",
    "min_lifeExp1977"
   ]
  },
  {
   "cell_type": "code",
   "execution_count": null,
   "metadata": {
    "cell_id": "00060-01ddbef6-3f38-43c5-b1f3-5af751c67f08",
    "deepnote_cell_type": "code",
    "execution_millis": 1,
    "execution_start": 1608638156368,
    "output_cleared": false,
    "source_hash": "b70fbb1e"
   },
   "outputs": [],
   "source": [
    "min_lifeExp1992 = by_year['lifeExp'].get_group(1992).min()\n",
    "min_lifeExp1992"
   ]
  },
  {
   "cell_type": "markdown",
   "metadata": {
    "cell_id": "00061-d5c19391-18dd-432e-9fb3-0307511c1ba9",
    "deepnote_cell_type": "markdown"
   },
   "source": [
    "Those values of life expectancy are just terrible! Are you curious to know what countries experienced the dramatic drops in life expectancy?"
   ]
  },
  {
   "cell_type": "markdown",
   "metadata": {
    "cell_id": "00062-de9034e5-54eb-4049-9bfb-2da704a6b4b2",
    "deepnote_cell_type": "markdown"
   },
   "source": [
    "We can find the row _index_ of the minimum value, thanks to the [`pandas.Series.idxmin()`](https://pandas.pydata.org/pandas-docs/stable/generated/pandas.Series.idxmin.html) method. The row indices are preserved from the original dataframe `life_expect` to its groupings, so the index will help us identify the country. Check it out."
   ]
  },
  {
   "cell_type": "code",
   "execution_count": null,
   "metadata": {
    "cell_id": "00063-86777214-2cfe-4e96-b7c4-f901b7a1736b",
    "deepnote_cell_type": "code",
    "execution_millis": 2,
    "execution_start": 1608638158973,
    "output_cleared": false,
    "source_hash": "90b3e82b"
   },
   "outputs": [],
   "source": [
    "by_year['lifeExp'].get_group(1977).idxmin()"
   ]
  },
  {
   "cell_type": "code",
   "execution_count": null,
   "metadata": {
    "cell_id": "00064-bb8f1a53-60ea-4814-8b3c-93fb416a3cfa",
    "deepnote_cell_type": "code",
    "execution_millis": 2,
    "execution_start": 1608638159886,
    "output_cleared": false,
    "source_hash": "6099d55"
   },
   "outputs": [],
   "source": [
    "life_expect['country'][221]"
   ]
  },
  {
   "cell_type": "code",
   "execution_count": null,
   "metadata": {
    "cell_id": "00065-733d0c36-803b-4382-a4de-9005e7320af3",
    "deepnote_cell_type": "code",
    "execution_millis": 21,
    "execution_start": 1608638161414,
    "output_cleared": false,
    "source_hash": "93ef9179"
   },
   "outputs": [],
   "source": [
    "by_country.get_group('Cambodia')"
   ]
  },
  {
   "cell_type": "markdown",
   "metadata": {
    "cell_id": "00066-56bb9850-af58-4876-b1e9-5d276016e608",
    "deepnote_cell_type": "markdown"
   },
   "source": [
    "We searched online to learn what was happening in Cambodia to cause such a drop in life expectancy in the 1970s. Indeed, Cambodia experienced a _mortality crisis_ due to several factors that combined into a perfect storm: war, ethnic cleansing and migration, collapse of the health system, and cruel famine [2].\n",
    "It's hard for a country to keep vital statistics under such circumstances, and certainly the data for Cambodia in the 1970s is uncertain.\n",
    "However, various sources report a life expectancy there in 1977 that was _under 20 years_.\n",
    "See, for example, the World Bank's interactive web page on [Cambodia](https://data.worldbank.org/country/cambodia)."
   ]
  },
  {
   "cell_type": "markdown",
   "metadata": {
    "cell_id": "00067-bd045375-d6f8-45a5-a834-bb018b4d5cb5",
    "deepnote_cell_type": "markdown"
   },
   "source": [
    "Something is strange about the data from the The Python Graph Gallery. Is it wrong?\n",
    "Maybe they are giving us _average_ life expectancy in a five-year period.\n",
    "Let's look at the other dip in life expectancy, in 1992."
   ]
  },
  {
   "cell_type": "code",
   "execution_count": null,
   "metadata": {
    "cell_id": "00068-9eb78664-1c14-46b9-ac6f-dd7b8b834cf4",
    "deepnote_cell_type": "code",
    "execution_millis": 1,
    "execution_start": 1608638165397,
    "output_cleared": false,
    "source_hash": "31051cc0"
   },
   "outputs": [],
   "source": [
    "by_year['lifeExp'].get_group(1992).idxmin()"
   ]
  },
  {
   "cell_type": "code",
   "execution_count": null,
   "metadata": {
    "cell_id": "00069-220c951e-fb37-4064-9f06-819a86aae698",
    "deepnote_cell_type": "code",
    "execution_millis": 6,
    "execution_start": 1608638165879,
    "output_cleared": false,
    "source_hash": "b3866b87"
   },
   "outputs": [],
   "source": [
    "life_expect['country'][1292]"
   ]
  },
  {
   "cell_type": "code",
   "execution_count": null,
   "metadata": {
    "cell_id": "00070-03152458-418f-43f4-991a-41b0ee61fa5f",
    "deepnote_cell_type": "code",
    "execution_millis": 4,
    "execution_start": 1608638166896,
    "output_cleared": false,
    "source_hash": "ac9171"
   },
   "outputs": [],
   "source": [
    "by_country.get_group('Rwanda')"
   ]
  },
  {
   "cell_type": "markdown",
   "metadata": {
    "cell_id": "00071-6728eda0-d5a5-4778-b519-23581bff7e8c",
    "deepnote_cell_type": "markdown"
   },
   "source": [
    "The World Bank's interactive web page on [Rwanda](https://data.worldbank.org/country/rwanda) gives a life expectancy of 28.1 in 1992, and even lower in 1993, at 27.6 years. \n",
    "This doesn't match the value from the data set we sourced from The Python Graph Gallery, which gives 23.6—and since this value is _lower_ than the minimum value given by the World Bank, we conclude that the discepancy is not caused by 5-year averaging."
   ]
  },
  {
   "cell_type": "markdown",
   "metadata": {
    "cell_id": "00072-5c34f334-c02f-44bf-b107-aae2d6d34c6c",
    "deepnote_cell_type": "markdown"
   },
   "source": [
    "## Checking data quality\n",
    "\n",
    "All our work here started with loading a data set we found online. What if this data set has _quality_ problems? \n",
    "\n",
    "Well, nothing better than asking the author of the web source for the data. We used Twitter to communicate with the author of The Python Graph Gallery, and he replied with a link to _his source_: a data package used for teaching a course in Exploratory Data Analysis at the University of British Columbia. "
   ]
  },
  {
   "cell_type": "code",
   "execution_count": null,
   "metadata": {
    "cell_id": "00073-43fc47df-27eb-4f5d-b8ab-8d370b15fc48",
    "deepnote_cell_type": "code",
    "execution_millis": 0,
    "execution_start": 1608649527419,
    "output_cleared": false,
    "source_hash": "3c255be9"
   },
   "outputs": [],
   "source": [
    "%%html\n",
    "<blockquote class=\"twitter-tweet\" data-lang=\"en\"><p lang=\"en\" dir=\"ltr\">Hi. Didn&#39;t receive your email... Gapminder comes from this R library: <a href=\"https://t.co/BU1IFIGSxm\">https://t.co/BU1IFIGSxm</a>. I will add citation asap.</p>&mdash; R+Py Graph Galleries (@R_Graph_Gallery) <a href=\"https://twitter.com/R_Graph_Gallery/status/920074231269941248?ref_src=twsrc%5Etfw\">October 16, 2017</a></blockquote> <script async src=\"//platform.twitter.com/widgets.js\" charset=\"utf-8\"></script>"
   ]
  },
  {
   "cell_type": "markdown",
   "metadata": {
    "cell_id": "00074-550f2098-45bf-4c27-af14-7bde036a0a5c",
    "deepnote_cell_type": "markdown"
   },
   "source": [
    "Note one immediate outcome of our reaching out to the author of The Python Graph Gallery: he realized he was not citing the source of his data [3], and promised to add proper credit. _It's always good form to credit your sources!_\n",
    "\n",
    "We visited the online repository of the data source, and posted an [issue report](https://github.com/jennybc/gapminder/issues/18) there, with our questions about data quality. The author promptly responded, saying that _her_ source was the [Gapminder.org website](http://www.gapminder.org/data/)—**Gapminder** is the non-profit founded by  Hans Rosling to host public data and visualizations. She also said: _\" I don't doubt there could be data quality problems! It should definitely NOT be used as an authoritative source for life expectancy\"_\n",
    "\n",
    "So it turns out that the data we're using comes from a set of tools meant for teaching, and is not up-to-date with the latest vital statistics. The author ended up [adding a warning](https://github.com/jennybc/gapminder/commit/7b3ac7f477c78f21865fa7defea20e72cb9e2b8a) to make this clear to visitors of the repository on GitHub. \n",
    "\n",
    "#### This is a wonderful example of how people collaborate  online via the open-source model.\n",
    "\n",
    "##### Note:\n",
    "\n",
    "For the most accurate data, you can visit the website of the [World Bank](https://data.worldbank.org)."
   ]
  },
  {
   "cell_type": "markdown",
   "metadata": {
    "cell_id": "00075-0894655e-fd2d-4c53-a82e-f98108f1bfba",
    "deepnote_cell_type": "markdown"
   },
   "source": [
    "## Using widgets to visualize interactively\n",
    "\n",
    "One more thing! This whole exploration began with our viewing the 2006 TED Talk by Hans Rosling: [\"The best stats you've ever seen\"](https://www.ted.com/talks/hans_rosling_shows_the_best_stats_you_ve_ever_seen). One of the most effective parts of the presentation is seeing the _animated_ bubble chart, illustrating how countries became healthier and richer over time. Do you want to make something like that?\n",
    "\n",
    "You can! Introducing [Jupyter Widgets](https://ipywidgets.readthedocs.io/en/latest/user_guide.html). The magic of interactive widgets is that they tie together the running Python code in a Jupyter notebook with Javascript and HTML running in the browser. You can use widgets to build interactive controls on data visualizations, with buttons, sliders, and more.\n",
    "\n",
    "To use widgets, the first step is to import the `widgets` module.\n",
    "\n",
    "*N.B. if you are using Deepnote, ipywidgets is not supported*"
   ]
  },
  {
   "cell_type": "code",
   "execution_count": null,
   "metadata": {
    "cell_id": "00076-80e3c39c-cba6-425e-a89d-0ff9eadf1c4a",
    "deepnote_cell_type": "code",
    "execution_millis": 38,
    "execution_start": 1608638177581,
    "output_cleared": false,
    "source_hash": "446c63b4"
   },
   "outputs": [],
   "source": [
    "from ipywidgets import widgets"
   ]
  },
  {
   "cell_type": "markdown",
   "metadata": {
    "cell_id": "00077-712431ba-d187-4c2d-bcc5-4d7113055632",
    "deepnote_cell_type": "markdown"
   },
   "source": [
    "After importing `widgets`, you have available several UI (User Interaction) elements. One of our favorites is a _Slider_: an interactive sliding button. Here is a default slider that takes integer values, from 0 to 100 (but does nothing):"
   ]
  },
  {
   "cell_type": "code",
   "execution_count": null,
   "metadata": {
    "cell_id": "00078-d7dcae8e-c4d0-430c-ac88-df22f0745fd9",
    "deepnote_cell_type": "code",
    "execution_millis": 4,
    "execution_start": 1608638178609,
    "output_cleared": true,
    "source_hash": null
   },
   "outputs": [],
   "source": [
    "widgets.IntSlider()"
   ]
  },
  {
   "cell_type": "markdown",
   "metadata": {
    "cell_id": "00079-a3a595e0-d6c0-4704-931b-c2c4cb369b39",
    "deepnote_cell_type": "markdown"
   },
   "source": [
    "What we'd like to do is make an interactive visualization of bubble charts, with the year in a slider, so that we can run forwards and backwards in time by sliding the button, watching our plot update the bubbles in real time. Sound like magic? It almost is.\n",
    "\n",
    "The magic happens when you program what should happen when the value in the slider changes. A typical scenario is having a function that is executed with the value in the slider, interactively. To create that, we need two things:\n",
    "\n",
    "1. A function that will be called with the slider values, and\n",
    "2. A call to an _interaction_ function from the `ipywidgets` package.\n",
    "\n",
    "Several interaction functions are available, for different actions you expect from the user: a click, a text entered in a box, or sliding the button on a slider.\n",
    "You will need to explore the Jupyter Widgets documentation [4] to learn more.\n",
    "\n",
    "For this example, we'll be using a slider, a plotting function that makes our bubble chart, and the [`.interact()`](http://ipywidgets.readthedocs.io/en/stable/examples/Using%20Interact.html#) function to call our plotting function with each value of the slider.\n",
    "\n",
    "We do everything in one cell below. The first line creates an integer-value slider with our known years—from a minimum 1952, to a maximum 2007, stepping by 5—and assigns it to the variable name `slider`.\n",
    "\n",
    "Next, we define the function `roslingplot()`, which re-calculates the array of population values, gets the year-group we need from the `by_year` _GroupBy_ object, and makes a scater plot of life expectancy vs. per-capita income, like we did above. The `populations` array (divided by 60,000) sets the size of the bubble, and the previously defined `colors` array sets the color coding by continent.\n",
    "\n",
    "We also removed the colorbar (which added little information), and added the option `sharex=False` following the workaround suggested by someone on the open [issue report](https://github.com/pandas-dev/pandas/issues/10611) for the plotting bug we mentioned above.\n",
    "\n",
    "The last line in the cell below is a call to `.interact()`, passing our plotting function and the slider value assigned to its argument, `year`. Watch the magic happen!"
   ]
  },
  {
   "cell_type": "code",
   "execution_count": null,
   "metadata": {
    "cell_id": "00080-7efdc314-a38d-46d8-ab3d-e6eb45e3aa1b",
    "deepnote_cell_type": "code",
    "execution_millis": 349,
    "execution_start": 1608638273349,
    "output_cleared": true,
    "source_hash": null
   },
   "outputs": [],
   "source": [
    "slider = widgets.IntSlider(min=1952, max=2007, step=5)\n",
    "\n",
    "def roslingplot(year):\n",
    "    populations = by_year.get_group(year)['pop'].values\n",
    "    \n",
    "    by_year.get_group(year).plot.scatter(figsize=(12,8), \n",
    "                         x='gdpPercap', y='lifeExp', s=populations/60000, \n",
    "                         c=colors, cmap='Accent',\n",
    "                         title='Life expectancy vs per-capita GDP in the year '+ str(year)+'\\n',\n",
    "                         logx = True,\n",
    "                         ylim = (25,85),\n",
    "                         xlim = (1e2, 1e5),\n",
    "                         edgecolors=\"white\",\n",
    "                         alpha=0.6,\n",
    "                         colorbar=False,\n",
    "                         sharex=False)\n",
    "    pyplot.show();\n",
    "    \n",
    "widgets.interact(roslingplot, year=slider);"
   ]
  },
  {
   "cell_type": "markdown",
   "metadata": {
    "cell_id": "00081-96374e58-cfcd-4618-94fa-d8d42d49286e",
    "deepnote_cell_type": "markdown"
   },
   "source": [
    "## References\n",
    "\n",
    "1. [The Soviet War in Afghanistan, 1979-1989](https://www.theatlantic.com/photo/2014/08/the-soviet-war-in-afghanistan-1979-1989/100786/), The Atlantic (2014), by Alan Taylor.\n",
    "\n",
    "2. US National Research Council Roundtable on the Demography of Forced Migration; H.E. Reed, C.B. Keely, editors.  Forced Migration & Mortality (2001), National Academies Press, Washington DC; Chapter 5: The Demographic Analysis of Mortality Crises: The Case of Cambodia, 1970-1979, Patrick Heuveline. Available at: https://www.ncbi.nlm.nih.gov/books/NBK223346/\n",
    "\n",
    "3. gapminder: Data from Gapminder (R data package), by Jennifer (Jenny) Bryan, repository at  https://github.com/jennybc/gapminder, v0.3.0 (Version v0.3.0) on Zenodo: https://doi.org/10.5281/zenodo.594018, licensed CC-BY 3.0\n",
    "\n",
    "4. [Jupyter Widgets User Guide](https://ipywidgets.readthedocs.io/en/latest/user_guide.html)"
   ]
  },
  {
   "cell_type": "code",
   "execution_count": null,
   "metadata": {
    "cell_id": "00082-045251aa-5610-46fe-95fc-d62849740309",
    "deepnote_cell_type": "code",
    "execution_millis": 0,
    "execution_start": 1608649553783,
    "output_cleared": true,
    "source_hash": null
   },
   "outputs": [],
   "source": [
    "# Execute this cell to load the notebook's style sheet, then ignore it\n",
    "from IPython.core.display import HTML\n",
    "css_file = '../style/custom.css'\n",
    "HTML(open(css_file, \"r\").read())"
   ]
  }
 ],
 "metadata": {
  "deepnote_execution_queue": [],
  "deepnote_notebook_id": "d410ea24-1e6c-48ea-8776-4181b54b0b4d",
  "kernelspec": {
   "display_name": "Python 3",
   "language": "python",
   "name": "python3"
  },
  "language_info": {
   "codemirror_mode": {
    "name": "ipython",
    "version": 3
   },
   "file_extension": ".py",
   "mimetype": "text/x-python",
   "name": "python",
   "nbconvert_exporter": "python",
   "pygments_lexer": "ipython3",
   "version": "3.8.5"
  },
  "widgets": {
   "state": {},
   "version": "1.1.2"
  }
 },
 "nbformat": 4,
 "nbformat_minor": 1
}
