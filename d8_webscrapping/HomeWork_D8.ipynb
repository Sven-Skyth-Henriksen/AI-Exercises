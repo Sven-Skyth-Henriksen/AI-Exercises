{
 "cells": [
  {
   "cell_type": "code",
   "execution_count": 17,
   "metadata": {},
   "outputs": [],
   "source": [
    "from bs4 import BeautifulSoup\n",
    "import pandas as pd\n",
    "import requests\n",
    "import json \n",
    "import csv\n",
    "import html"
   ]
  },
  {
   "cell_type": "code",
   "execution_count": 18,
   "metadata": {},
   "outputs": [],
   "source": [
    "page = requests.get(\"https://forecast.weather.gov/MapClick.php?lat=37.777120000000025&lon=-122.41963999999996#.X9DVpBakolQ\")\n",
    "soup = BeautifulSoup(page.content, 'html.parser') #whole html\n",
    "html = list(soup.children)[2] #whole html nicer format #concept children parent in web dev\n",
    "body = list(html.children)[3] #[in get sibling]\n",
    "main = list(body.children)[1] #one deeper in main\n",
    "#print(body)\n",
    "#print(main)\n",
    "\n",
    "tombstone_container = soup.find_all(\"div\", class_ =\"tombstone-container\")\n",
    "#print(tombstone_container)\n",
    "\n",
    "period_name_container = soup.find_all('div',class_= \"col-sm-2 forecast-label\")\n",
    "#print(period_name_container)\n",
    "\n",
    "temp_container = soup.find_all(\"p\", class_= 'temp')\n",
    "#print(temp_container)\n",
    "\n",
    "\n",
    "\n",
    "#temp_high_container = soup.find_all(\"p\", class_= 'temp-high')\n",
    "#print(temp_high_container)\n",
    "#temp_low_container = soup.find_all(\"p\", class_= 'temp-low')\n",
    "#print(temp_low_container)\n",
    "\n",
    "description_container = soup.find_all(\"div\", class_= \"forecast-text\")\n",
    "#print(description_container)"
   ]
  },
  {
   "cell_type": "code",
   "execution_count": 19,
   "metadata": {},
   "outputs": [
    {
     "name": "stdout",
     "output_type": "stream",
     "text": [
      "['Today', 'Tonight', 'Thursday', 'Thursday Night', 'Friday', 'Friday Night', 'Saturday', 'Saturday Night', 'Sunday', 'Sunday Night', 'Monday', 'Monday Night', 'Tuesday']\n"
     ]
    }
   ],
   "source": [
    "period_name_container = soup.find_all('div',class_= \"col-sm-2 forecast-label\")\n",
    "#print(period_name_container)\n",
    "\n",
    "#print(period_name_container)\n",
    "days = []\n",
    "for b in period_name_container:\n",
    "    days.append(b.getText())\n",
    "print(days)"
   ]
  },
  {
   "cell_type": "code",
   "execution_count": 20,
   "metadata": {},
   "outputs": [
    {
     "name": "stdout",
     "output_type": "stream",
     "text": [
      "['Mostly sunny, with a high near 66. Light and variable wind becoming west 8 to 13 mph in the morning. ', 'Partly cloudy, with a low around 48. West wind 10 to 17 mph, with gusts as high as 23 mph. ', 'Sunny, with a high near 61. West wind 7 to 17 mph, with gusts as high as 23 mph. ', 'Clear, with a low around 46. Northwest wind 5 to 14 mph, with gusts as high as 18 mph. ', 'Sunny, with a high near 69. North wind 8 to 10 mph. ', 'Clear, with a low around 47.', 'Sunny, with a high near 74.', 'Clear, with a low around 49.', 'Sunny, with a high near 69.', 'Mostly clear, with a low around 49.', 'Sunny, with a high near 66.', 'Clear, with a low around 48.', 'Sunny, with a high near 69.']\n"
     ]
    }
   ],
   "source": [
    "description = []\n",
    "for div in description_container:\n",
    "    description.append(div.getText())\n",
    "print(description)"
   ]
  },
  {
   "cell_type": "code",
   "execution_count": 21,
   "metadata": {},
   "outputs": [
    {
     "name": "stdout",
     "output_type": "stream",
     "text": [
      "['66', '48', '61', '46', '69', '47', '74', '49', '69', '49', '66', '48', '69']\n"
     ]
    }
   ],
   "source": [
    "temps = []\n",
    "for i in range(len(description)):\n",
    "    desc = description[i]\n",
    "    desc = desc.split('.')\n",
    "    desc = desc[0]\n",
    "    desc = desc.split()\n",
    "    temps.append(desc[-1])\n",
    "print(temps)"
   ]
  },
  {
   "cell_type": "code",
   "execution_count": 22,
   "metadata": {},
   "outputs": [
    {
     "name": "stdout",
     "output_type": "stream",
     "text": [
      "0              Today\n",
      "1            Tonight\n",
      "2           Thursday\n",
      "3     Thursday Night\n",
      "4             Friday\n",
      "5       Friday Night\n",
      "6           Saturday\n",
      "7     Saturday Night\n",
      "8             Sunday\n",
      "9       Sunday Night\n",
      "10            Monday\n",
      "11      Monday Night\n",
      "12           Tuesday\n",
      "dtype: object\n"
     ]
    }
   ],
   "source": [
    "days = pd.Series(days)\n",
    "temps = pd.Series(temps)\n",
    "description = pd.Series(description)\n",
    "print(days)\n",
    "#df = pd.Series([days,temps,description],columns=['days', 'temps', 'description'] )\n",
    "#display(df)"
   ]
  },
  {
   "cell_type": "code",
   "execution_count": null,
   "metadata": {},
   "outputs": [],
   "source": []
  },
  {
   "cell_type": "code",
   "execution_count": null,
   "metadata": {},
   "outputs": [],
   "source": []
  },
  {
   "cell_type": "code",
   "execution_count": null,
   "metadata": {},
   "outputs": [],
   "source": []
  },
  {
   "cell_type": "code",
   "execution_count": null,
   "metadata": {},
   "outputs": [],
   "source": []
  }
 ],
 "metadata": {
  "kernelspec": {
   "display_name": "Python 3",
   "language": "python",
   "name": "python3"
  },
  "language_info": {
   "codemirror_mode": {
    "name": "ipython",
    "version": 3
   },
   "file_extension": ".py",
   "mimetype": "text/x-python",
   "name": "python",
   "nbconvert_exporter": "python",
   "pygments_lexer": "ipython3",
   "version": "3.8.5"
  }
 },
 "nbformat": 4,
 "nbformat_minor": 4
}
