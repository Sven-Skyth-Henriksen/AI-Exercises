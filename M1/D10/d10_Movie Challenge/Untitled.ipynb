{
 "cells": [
  {
   "cell_type": "code",
   "execution_count": 1,
   "id": "increasing-arthur",
   "metadata": {},
   "outputs": [
    {
     "ename": "ModuleNotFoundError",
     "evalue": "No module named 'requests'",
     "output_type": "error",
     "traceback": [
      "\u001b[0;31m---------------------------------------------------------------------------\u001b[0m",
      "\u001b[0;31mModuleNotFoundError\u001b[0m                       Traceback (most recent call last)",
      "\u001b[0;32m<ipython-input-1-15469230d5b6>\u001b[0m in \u001b[0;36m<module>\u001b[0;34m\u001b[0m\n\u001b[0;32m----> 1\u001b[0;31m \u001b[0;32mimport\u001b[0m \u001b[0mrequests\u001b[0m\u001b[0;34m\u001b[0m\u001b[0;34m\u001b[0m\u001b[0m\n\u001b[0m\u001b[1;32m      2\u001b[0m \u001b[0;32mimport\u001b[0m \u001b[0mpandas\u001b[0m \u001b[0;32mas\u001b[0m \u001b[0mpd\u001b[0m\u001b[0;34m\u001b[0m\u001b[0;34m\u001b[0m\u001b[0m\n\u001b[1;32m      3\u001b[0m \u001b[0;32mfrom\u001b[0m \u001b[0mbs4\u001b[0m \u001b[0;32mimport\u001b[0m \u001b[0mBeautifulSoup\u001b[0m\u001b[0;34m\u001b[0m\u001b[0;34m\u001b[0m\u001b[0m\n\u001b[1;32m      4\u001b[0m \u001b[0;32mfrom\u001b[0m \u001b[0mdateutil\u001b[0m\u001b[0;34m.\u001b[0m\u001b[0mparser\u001b[0m \u001b[0;32mimport\u001b[0m \u001b[0mparse\u001b[0m\u001b[0;34m\u001b[0m\u001b[0;34m\u001b[0m\u001b[0m\n\u001b[1;32m      5\u001b[0m \u001b[0;32mimport\u001b[0m \u001b[0mmatplotlib\u001b[0m\u001b[0;34m.\u001b[0m\u001b[0mpyplot\u001b[0m \u001b[0;32mas\u001b[0m \u001b[0mplt\u001b[0m\u001b[0;34m\u001b[0m\u001b[0;34m\u001b[0m\u001b[0m\n",
      "\u001b[0;31mModuleNotFoundError\u001b[0m: No module named 'requests'"
     ]
    }
   ],
   "source": [
    "import requests\n",
    "import pandas as pd\n",
    "from bs4 import BeautifulSoup\n",
    "from dateutil.parser import parse\n",
    "import matplotlib.pyplot as plt"
   ]
  },
  {
   "cell_type": "code",
   "execution_count": 2,
   "id": "fleet-reviewer",
   "metadata": {},
   "outputs": [
    {
     "ename": "NameError",
     "evalue": "name 'requests' is not defined",
     "output_type": "error",
     "traceback": [
      "\u001b[0;31m---------------------------------------------------------------------------\u001b[0m",
      "\u001b[0;31mNameError\u001b[0m                                 Traceback (most recent call last)",
      "\u001b[0;32m<ipython-input-2-d15c55e21e2c>\u001b[0m in \u001b[0;36m<module>\u001b[0;34m\u001b[0m\n\u001b[1;32m      2\u001b[0m \u001b[0;34m\u001b[0m\u001b[0m\n\u001b[1;32m      3\u001b[0m \u001b[0;31m# request url\u001b[0m\u001b[0;34m\u001b[0m\u001b[0;34m\u001b[0m\u001b[0;34m\u001b[0m\u001b[0m\n\u001b[0;32m----> 4\u001b[0;31m \u001b[0mpage\u001b[0m \u001b[0;34m=\u001b[0m \u001b[0mrequests\u001b[0m\u001b[0;34m.\u001b[0m\u001b[0mget\u001b[0m\u001b[0;34m(\u001b[0m\u001b[0murl\u001b[0m\u001b[0;34m=\u001b[0m\u001b[0mduration_url\u001b[0m\u001b[0;34m)\u001b[0m\u001b[0;34m\u001b[0m\u001b[0;34m\u001b[0m\u001b[0m\n\u001b[0m\u001b[1;32m      5\u001b[0m \u001b[0;34m\u001b[0m\u001b[0m\n\u001b[1;32m      6\u001b[0m \u001b[0;31m# create a BeautifulSoup object\u001b[0m\u001b[0;34m\u001b[0m\u001b[0;34m\u001b[0m\u001b[0;34m\u001b[0m\u001b[0m\n",
      "\u001b[0;31mNameError\u001b[0m: name 'requests' is not defined"
     ]
    }
   ],
   "source": [
    "duration_url=\"https://www.imdb.com/search/title/?genres=western&genres=Adventure&explore=title_type,genres&ref_=adv_explore_rhs\"\n",
    "\n",
    "# request url\n",
    "page = requests.get(url=duration_url)\n",
    "\n",
    "# create a BeautifulSoup object\n",
    "soup = BeautifulSoup(page.content, 'html.parser')\n",
    "\n",
    "#page title -- WORKS\n",
    "title = soup.find('title')\n",
    "display(title.string)\n",
    "# data['title'] = title.string\n",
    "\n",
    "\n",
    "#get rating -- WORKS\n",
    "ratings_container = soup.find_all(class_='lister-item-content')\n",
    "ratings = []\n",
    "for movie in ratings_container:\n",
    "    rating_div = movie.find(class_=\"inline-block ratings-imdb-rating\")\n",
    "    if rating_div !=None:\n",
    "        rating = rating_div.attrs.get(\"data-value\")\n",
    "        ratings.append(rating)\n",
    "    else:\n",
    "        ratings.append(\"NaN\")\n",
    "\n",
    "\n",
    "#release-date \n",
    "\n",
    "\n",
    "\n",
    "#get genre --WORKS\n",
    "genre_container = soup.find_all(class_='genre')\n",
    "gr = [title.get_text() for title in genre_container]\n",
    "gr = [title.split('\\n') for title in gr]\n",
    "genre = [title[1] for title in gr]\n",
    "\n",
    "\n",
    "\n",
    "\n",
    "#get titles -- WORKS\n",
    "titles_container = soup.find_all(class_= \"lister-item-header\")\n",
    "titles = [title.get_text() for title in titles_container ] #loop to getText in days_container\n",
    "titles = [title.split('\\n') for title in titles] #split by \\n\n",
    "chart_number = [title[1] for title in titles] #split by \\n\n",
    "titles_names = [title[2] for title in titles] #split by \\n\n",
    "\n",
    "\n",
    "\n",
    "\n",
    "#Actors & Directors\n",
    "movie_list = soup.find_all(class_=\"lister-item-content\")\n",
    "actor_links_by_movie = [movie.select('a[href*=\"/name\"]') for movie in movie_list]\n",
    "actor_names_by_movie = [[href_link.get_text() for href_link in movie_list] for movie_list in actor_links_by_movie]\n",
    "directors =[] ## This one for PD\n",
    "actors =[] ## This one for pd\n",
    "for movie in actor_names_by_movie:\n",
    "    if len(movie)>0:\n",
    "        directors.append(movie[0])\n",
    "        actors.append(\", \".join(movie[1:]))\n",
    "    else:\n",
    "        directors.append(\"NaN\")\n",
    "        actors.append(\"NaN\")\n",
    "\n",
    "####### duration ########\n",
    "\n",
    "dur_movies = soup.find_all(class_='lister-item-content')\n",
    "movie_durs =[] ###this one\n",
    "#print(len(dur_movies))\n",
    "for movie in dur_movies:\n",
    "\n",
    "    duration_span = movie.find(class_=\"runtime\")\n",
    "    if duration_span != None:\n",
    "        get_text = duration_span.get_text()\n",
    "        get_int_text = \"\".join([i for i in get_text if i.isnumeric()])\n",
    "        movie_durs.append(get_int_text)\n",
    "    else:\n",
    "        movie_durs.append(\"NaN\")\n",
    "\n",
    "\n",
    "\n",
    "\n",
    "\n",
    "#filming date -- WORKS\n",
    "filming_container = soup.find_all(class_='lister-item-year text-muted unbold')\n",
    "filming = [title.get_text() for title in filming_container]\n",
    "filming = [title.split('\\n') for title in filming]\n",
    "filming_date = [title[0] for title in filming]\n"
   ]
  },
  {
   "cell_type": "code",
   "execution_count": null,
   "id": "young-novel",
   "metadata": {},
   "outputs": [],
   "source": [
    "df = pd.DataFrame({'Chart Number': chart_number,\n",
    "                    'Title': titles_names,\n",
    "                    'Release Date': filming_date,\n",
    "                    'Duration(min)': movie_durs,\n",
    "                    'Genre': genre,\n",
    "                    'Rating': ratings,\n",
    "                    'Director': directors,\n",
    "                    'Actors': actors})\n",
    "\n",
    "df"
   ]
  }
 ],
 "metadata": {
  "kernelspec": {
   "display_name": "Python 3",
   "language": "python",
   "name": "python3"
  },
  "language_info": {
   "codemirror_mode": {
    "name": "ipython",
    "version": 3
   },
   "file_extension": ".py",
   "mimetype": "text/x-python",
   "name": "python",
   "nbconvert_exporter": "python",
   "pygments_lexer": "ipython3",
   "version": "3.9.2"
  }
 },
 "nbformat": 4,
 "nbformat_minor": 5
}
