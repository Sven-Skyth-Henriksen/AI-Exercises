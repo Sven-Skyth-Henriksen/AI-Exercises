{
 "cells": [
  {
   "cell_type": "code",
   "execution_count": 2,
   "metadata": {},
   "outputs": [],
   "source": [
    "import requests\n",
    "from bs4 import BeautifulSoup\n",
    "import pandas as pd"
   ]
  },
  {
   "cell_type": "code",
   "execution_count": 20,
   "metadata": {},
   "outputs": [],
   "source": [
    "baseurl = 'https://www.goodreads.com/list/show/264.Books_That_Everyone_Should_Read_At_Least_Once'\n",
    "\n",
    "header = {\n",
    "    'User-Agent':'Mozilla/5.0 (Macintosh; Intel Mac OS X 10_11_6) AppleWebKit/605.1.15 (KHTML, like Gecko) Version/11.1.2 Safari/605.1.15'\n",
    "}\n"
   ]
  },
  {
   "cell_type": "code",
   "execution_count": 27,
   "metadata": {},
   "outputs": [
    {
     "name": "stdout",
     "output_type": "stream",
     "text": [
      "[]\n"
     ]
    }
   ],
   "source": [
    "booklinks = []\n",
    "\n",
    "for x in range(1,1):\n",
    "    r = requests.get('https://www.goodreads.com/list/show/264.Books_That_Everyone_Should_Read_At_Least_Once?page={x}')\n",
    "    soup = BeautifulSoup(r.content,'lxml')\n",
    "    \n",
    "    booklist = soup.find_all('tr', itemtype= 'http://schema.org/Book')\n",
    "\n",
    "\n",
    "    for item in booklist:\n",
    "        for link in item.find_all('a',class_ = 'bookTitle',href=True):\n",
    "            #print(link['href'])\n",
    "            booklinks.append(baseurl + link['href'])\n",
    "\n",
    "#testlink = https://www.goodreads.com/book/show/2657.To_Kill_a_Mockingbird"
   ]
  },
  {
   "cell_type": "code",
   "execution_count": null,
   "metadata": {},
   "outputs": [],
   "source": []
  }
 ],
 "metadata": {
  "kernelspec": {
   "display_name": "Python 3",
   "language": "python",
   "name": "python3"
  },
  "language_info": {
   "codemirror_mode": {
    "name": "ipython",
    "version": 3
   },
   "file_extension": ".py",
   "mimetype": "text/x-python",
   "name": "python",
   "nbconvert_exporter": "python",
   "pygments_lexer": "ipython3",
   "version": "3.8.5"
  }
 },
 "nbformat": 4,
 "nbformat_minor": 4
}
