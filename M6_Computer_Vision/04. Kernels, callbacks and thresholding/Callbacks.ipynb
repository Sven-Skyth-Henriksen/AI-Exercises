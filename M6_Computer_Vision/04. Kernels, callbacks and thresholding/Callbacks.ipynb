{
 "cells": [
  {
   "cell_type": "markdown",
   "metadata": {},
   "source": [
    "# OpenCV Callbacks"
   ]
  },
  {
   "cell_type": "code",
   "execution_count": 7,
   "metadata": {
    "ExecuteTime": {
     "end_time": "2019-11-19T09:54:11.762369Z",
     "start_time": "2019-11-19T09:54:09.945225Z"
    }
   },
   "outputs": [],
   "source": [
    "import cv2\n",
    "import numpy as np\n",
    "import matplotlib.pyplot as plt\n",
    "%matplotlib inline"
   ]
  },
  {
   "cell_type": "markdown",
   "metadata": {},
   "source": [
    "## Keyboard callbacks"
   ]
  },
  {
   "cell_type": "code",
   "execution_count": 15,
   "metadata": {
    "ExecuteTime": {
     "end_time": "2019-11-19T11:10:33.575331Z",
     "start_time": "2019-11-19T11:10:32.647518Z"
    }
   },
   "outputs": [
    {
     "output_type": "execute_result",
     "data": {
      "text/plain": [
       "-1"
      ]
     },
     "metadata": {},
     "execution_count": 15
    }
   ],
   "source": [
    "# Load an image and show it on screen with cv2.imshow\n",
    "# When the key g or G is detected then change the image to show in grayscale\n",
    "# When the key c or C is detected then change the image to show in color\n",
    "# When the key t or T is detected then change the image to show the thresholded version of the image\n",
    "# When the key esc is detected close the image\n",
    "\n",
    "img = cv2.imread('img/jon.png')\n",
    "img2 = cv2.cvtColor(img, cv2.COLOR_BGR2GRAY)\n",
    "img3 = cv2.cvtColor(img, cv2.COLOR_BGR2RGB)\n",
    "\n",
    "\n",
    "threshold_value = 128\n",
    "threshold_type = cv2.THRESH_BINARY\n",
    "\n",
    "threshold_types = [cv2.THRESH_BINARY, cv2.THRESH_BINARY_INV, cv2.THRESH_TOZERO, cv2.THRESH_TOZERO_INV, cv2.THRESH_TRUNC]\n",
    "window_name = 'Callbacks'\n",
    "key = 0\n",
    "cv2.namedWindow(window_name, cv2.WINDOW_AUTOSIZE)\n",
    "\n",
    "\n",
    "while True:\n",
    "    \n",
    "    if key == ord('q'):\n",
    "        break\n",
    "\n",
    "    if key == ord('g') or key == ord('G'):\n",
    "        cv2.imshow(window_name,img2)\n",
    "\n",
    "\n",
    "    if key == ord('c') or key == ord('C'):\n",
    "        cv2.imshow(window_name,img3)\n",
    "        \n",
    "\n",
    "    \n",
    "    if key == ord('t') or key == ord('T'):\n",
    "        img2 = img.copy()\n",
    "\n",
    "        def change_threshold_value(val):\n",
    "            threshold_value = val\n",
    "            ret, thresh = cv2.threshold(img2, threshold_value, 255, threshold_type)\n",
    "            cv2.imshow(window_name, thresh)\n",
    "\n",
    "        def change_threshold_type(val):\n",
    "            threshold_type = threshold_types[val]\n",
    "            ret, thresh = cv2.threshold(img2, threshold_value, 255, threshold_type)\n",
    "            cv2.imshow(window_name, thresh)\n",
    "\n",
    "        cv2.createTrackbar('Threshold Value', window_name, threshold_value, 255, change_threshold_value)\n",
    "        cv2.createTrackbar('Threshold Typ', window_name, threshold_type, 4, change_threshold_type)\n",
    "    \n",
    "    key = cv2.waitKey(1)\n",
    "\n",
    "cv2.imshow(window_name, img)\n",
    "cv2.waitKey(0)\n",
    "cv2.destroyAllWindows()\n",
    "cv2.waitKey(1)\n"
   ]
  },
  {
   "cell_type": "markdown",
   "metadata": {},
   "source": [
    "[Hint](# \"You will need to use cv2.waitKey and python ord functions\") "
   ]
  },
  {
   "cell_type": "code",
   "execution_count": 6,
   "metadata": {},
   "outputs": [
    {
     "output_type": "error",
     "ename": "SyntaxError",
     "evalue": "invalid syntax (<ipython-input-6-fba4cabc2955>, line 30)",
     "traceback": [
      "\u001b[0;36m  File \u001b[0;32m\"<ipython-input-6-fba4cabc2955>\"\u001b[0;36m, line \u001b[0;32m30\u001b[0m\n\u001b[0;31m    cv2.imshow('Image',image)\u001b[0m\n\u001b[0m    ^\u001b[0m\n\u001b[0;31mSyntaxError\u001b[0m\u001b[0;31m:\u001b[0m invalid syntax\n"
     ]
    }
   ],
   "source": [
    "# Do the same as above but using your webcam image \n",
    "pic = cv2.imread('img/noisy.png')\n",
    "cap = cv2.VideoCapture(0)\n",
    "key = 0\n",
    "\n",
    "\n",
    "while True: \n",
    "    ret, frame = cap.read()\n",
    "\n",
    "    if key == ord('q'):\n",
    "        break\n",
    "\n",
    "    if key == ord('g') or key == ord('G'):\n",
    "        image = frame.copy()\n",
    "        image = cv2.cvtColor(frame, cv2.COLOR_BGR2GRAY)\n",
    "        #image.flags.writeable = False\n",
    "\n",
    "\n",
    "    if key == ord('c') or key == ord('C'):\n",
    "        image = frame.copy()\n",
    "        image = cv2.cvtColor(frame, cv2.COLOR_BGR2RGB)\n",
    "        #image.flags.writeable = False\n",
    "\n",
    "    \n",
    "    if key == ord('t') or key == ord('T'):\n",
    "        image = frame.copy()\n",
    "        image = cv2.cvtColor(frame, cv2.COLOR_BGR2LAB\n",
    "        #image.flags.writeable = False\n",
    "    \n",
    "    cv2.imshow('Image',image)\n",
    "    key = cv2.waitKey(1)\n",
    "\n",
    "cap.release()\n",
    "cv2.destroyAllWindows()\n",
    "cv2.waitKey(1)"
   ]
  },
  {
   "cell_type": "markdown",
   "metadata": {},
   "source": [
    "[Hint](# \"You will need to use cv2.VideoCapture function\") "
   ]
  },
  {
   "cell_type": "markdown",
   "metadata": {},
   "source": [
    "## Mouse callbacks"
   ]
  },
  {
   "cell_type": "code",
   "execution_count": null,
   "metadata": {},
   "outputs": [],
   "source": [
    "# Load an image and show it on screen with cv2.imshow\n",
    "# When the user clicks on top of the image save the coordinates\n",
    "# The user will then move the cursor without releasing the mouse button to another position\n",
    "# When the user releases the button draw a rectagle around the ROI\n",
    "# When the key esc is detected close the image\n"
   ]
  },
  {
   "cell_type": "code",
   "execution_count": null,
   "metadata": {},
   "outputs": [],
   "source": [
    "# Crop and save the ROI image to disk \n"
   ]
  },
  {
   "cell_type": "markdown",
   "metadata": {},
   "source": [
    "[Hint](# \"cv2.setMouseCallback\") "
   ]
  },
  {
   "cell_type": "markdown",
   "metadata": {},
   "source": [
    "## Trackbars"
   ]
  },
  {
   "cell_type": "code",
   "execution_count": null,
   "metadata": {
    "ExecuteTime": {
     "end_time": "2019-11-19T11:17:26.647991Z",
     "start_time": "2019-11-19T11:17:26.635749Z"
    }
   },
   "outputs": [],
   "source": [
    "# Create a named window, load and show an image in that window\n",
    "\n"
   ]
  },
  {
   "cell_type": "markdown",
   "metadata": {},
   "source": [
    "[Hint](# \"cv2.namedWindow\") "
   ]
  },
  {
   "cell_type": "code",
   "execution_count": null,
   "metadata": {},
   "outputs": [],
   "source": [
    "# Add at least 3 different trackbars to the window (choose of any parameters that you want to modify with them)\n",
    "# Each trackbar will modify some parameter of the image, write a function for each trackbar\n",
    "# When the user move the trackbar around the image should be updated accordingly\n",
    "# When the key esc is detected close the image\n"
   ]
  },
  {
   "cell_type": "markdown",
   "metadata": {},
   "source": [
    "[Hint](# \"cv2.createTrackbar\") "
   ]
  },
  {
   "cell_type": "code",
   "execution_count": null,
   "metadata": {
    "ExecuteTime": {
     "end_time": "2019-11-19T11:17:40.562115Z",
     "start_time": "2019-11-19T11:17:39.321415Z"
    },
    "scrolled": false
   },
   "outputs": [],
   "source": [
    "# Do the same as above but using your webcam image so the trackbars will apply the changes on live image\n"
   ]
  }
 ],
 "metadata": {
  "kernelspec": {
   "name": "python388jvsc74a57bd0a39c75215214a0c56e27045d7dad723d3913eeb2c88109ae83ee6a2d98838bf1",
   "display_name": "Python 3.8.8 64-bit ('Work': conda)"
  },
  "language_info": {
   "codemirror_mode": {
    "name": "ipython",
    "version": 3
   },
   "file_extension": ".py",
   "mimetype": "text/x-python",
   "name": "python",
   "nbconvert_exporter": "python",
   "pygments_lexer": "ipython3",
   "version": "3.8.8"
  },
  "metadata": {
   "interpreter": {
    "hash": "a39c75215214a0c56e27045d7dad723d3913eeb2c88109ae83ee6a2d98838bf1"
   }
  }
 },
 "nbformat": 4,
 "nbformat_minor": 2
}