{
 "cells": [
  {
   "cell_type": "code",
   "execution_count": 6,
   "metadata": {},
   "outputs": [
    {
     "name": "stdout",
     "output_type": "stream",
     "text": [
      "[3 4 4 1 1 1 2 4 1 1 7 1 2 7 4 6 1 6 2 4 2 3 1 2 1 1]\n",
      "[5 4 4 1 1 1 2 4 1 1 7 1 2 7 4 6 1 6 2 4 2 3 1 2 1 1]\n",
      "Accuracy:  0.9615384615384616\n"
     ]
    }
   ],
   "source": [
    "import pandas as pd\n",
    "from sklearn.tree import DecisionTreeClassifier\n",
    "from sklearn.model_selection import train_test_split\n",
    "from sklearn.metrics import accuracy_score\n",
    "\n",
    "\n",
    "# with open('zoo.data') as my_file:\n",
    "#     data = my_file.read()\n",
    "zoo_df = pd.read_csv('zoo.data', header=None)\n",
    "#print(zoo_df.head())\n",
    "#zoo_df = pd.DataFrame(data[0], index=None)\n",
    "X = zoo_df.iloc[:, 1:16]\n",
    "y = zoo_df[17]\n",
    "\n",
    "X_train, X_test, y_train, y_test = train_test_split(X, y, random_state=0)\n",
    "\n",
    "model = DecisionTreeClassifier(random_state=6)\n",
    "model.fit(X_train, y_train)\n",
    "\n",
    "predictions = model.predict(X_test)\n",
    "\n",
    "print(predictions)\n",
    "print(y_test.values)\n",
    "accuracy = accuracy_score(y_test, predictions)\n",
    "print('Accuracy: ',accuracy)"
   ]
  }
 ],
 "metadata": {
  "kernelspec": {
   "display_name": "Python 3",
   "language": "python",
   "name": "python3"
  },
  "language_info": {
   "codemirror_mode": {
    "name": "ipython",
    "version": 3
   },
   "file_extension": ".py",
   "mimetype": "text/x-python",
   "name": "python",
   "nbconvert_exporter": "python",
   "pygments_lexer": "ipython3",
   "version": "3.8.5"
  }
 },
 "nbformat": 4,
 "nbformat_minor": 4
}
