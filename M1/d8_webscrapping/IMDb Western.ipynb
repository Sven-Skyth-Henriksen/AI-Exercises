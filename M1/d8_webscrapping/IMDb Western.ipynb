{
 "cells": [
  {
   "cell_type": "code",
   "execution_count": 1,
   "metadata": {
    "cell_id": "00000-28b6ea33-b05d-4e4e-94b2-8df66dd503e4",
    "deepnote_cell_type": "code",
    "deepnote_to_be_reexecuted": false,
    "execution_millis": 134,
    "execution_start": 1616941166670,
    "source_hash": "a0e7df00",
    "tags": []
   },
   "outputs": [],
   "source": [
    "import requests\n",
    "import pandas as pd\n",
    "from bs4 import BeautifulSoup\n",
    "from dateutil.parser import parse\n",
    "import matplotlib.pyplot as plt"
   ]
  },
  {
   "cell_type": "code",
   "execution_count": null,
   "metadata": {
    "cell_id": "00002-84668d04-80f9-4866-b8ba-fa14e30178f5",
    "deepnote_cell_type": "code",
    "deepnote_to_be_reexecuted": true,
    "execution_millis": 961,
    "source_hash": "a391c1bb",
    "tags": []
   },
   "outputs": [
    {
     "data": {
      "text/plain": [
       "'Top 50 Western, Adventure Movies and TV Shows - IMDb'"
      ]
     },
     "metadata": {},
     "output_type": "display_data"
    }
   ],
   "source": [
    "\n",
    "duration_url=\"https://www.imdb.com/search/title/?genres=western&genres=Adventure&explore=title_type,genres&ref_=adv_explore_rhs\"\n",
    "\n",
    "# request url\n",
    "page = requests.get(url=duration_url)\n",
    "\n",
    "# create a BeautifulSoup object\n",
    "soup = BeautifulSoup(page.content, 'html.parser')\n",
    "\n",
    "#page title -- WORKS\n",
    "title = soup.find('title')\n",
    "display(title.string)\n",
    "# data['title'] = title.string\n",
    "\n",
    "\n",
    "#get rating -- WORKS\n",
    "ratings_container = soup.find_all(class_='lister-item-content')\n",
    "ratings = []\n",
    "for movie in ratings_container:\n",
    "    rating_div = movie.find(class_=\"inline-block ratings-imdb-rating\")\n",
    "    if rating_div !=None:\n",
    "        rating = rating_div.attrs.get(\"data-value\")\n",
    "        ratings.append(rating)\n",
    "    else:\n",
    "        ratings.append(\"NaN\")\n",
    "\n",
    "\n",
    "\n",
    "#get genre --WORKS\n",
    "genre_container = soup.find_all(class_='genre')\n",
    "gr = [title.get_text() for title in genre_container]\n",
    "gr = [title.split('\\n') for title in gr]\n",
    "genre = [title[1] for title in gr]\n",
    "\n",
    "#Description\n",
    "#description_container = soup.find(class_='text-muted')\n",
    "#desc = [title.get_text() for title in description_container]\n",
    "#desc = [title.split('\\n') for title in desc]\n",
    "#display(desc)\n",
    "#description = [title[3] for title in desc]\n",
    "#display(description)\n",
    "\n",
    "\n",
    "#get titles -- WORKS\n",
    "titles_container = soup.find_all(class_= \"lister-item-header\")\n",
    "titles = [title.get_text() for title in titles_container ] #loop to getText in days_container\n",
    "titles = [title.split('\\n') for title in titles] #split by \\n\n",
    "chart_number = [title[1] for title in titles] #split by \\n\n",
    "titles_names = [title[2] for title in titles] #split by \\n\n",
    "\n",
    "\n",
    "\n",
    "\n",
    "#Actors & Directors -- WORKS\n",
    "movie_list = soup.find_all(class_=\"lister-item-content\")\n",
    "actor_links_by_movie = [movie.select('a[href*=\"/name\"]') for movie in movie_list]\n",
    "actor_names_by_movie = [[href_link.get_text() for href_link in movie_list] for movie_list in actor_links_by_movie]\n",
    "directors =[] ## This one for PD\n",
    "actors =[] ## This one for pd\n",
    "for movie in actor_names_by_movie:\n",
    "    if len(movie)>0:\n",
    "        directors.append(movie[0])\n",
    "        actors.append(\", \".join(movie[1:]))\n",
    "    else:\n",
    "        directors.append(\"NaN\")\n",
    "        actors.append(\"NaN\")\n",
    "\n",
    "\n",
    "\n",
    "####### duration ########\n",
    "dur_movies = soup.find_all(class_='lister-item-content')\n",
    "movie_durs =[] ###this one\n",
    "#print(len(dur_movies))\n",
    "for movie in dur_movies:\n",
    "\n",
    "    duration_span = movie.find(class_=\"runtime\")\n",
    "    if duration_span != None:\n",
    "        get_text = duration_span.get_text()\n",
    "        get_int_text = \"\".join([i for i in get_text if i.isnumeric()])\n",
    "        movie_durs.append(get_int_text)\n",
    "    else:\n",
    "        movie_durs.append(\"NaN\")\n",
    "\n",
    "\n",
    "\n",
    "\n",
    "\n",
    "#filming date -- WORKS\n",
    "filming_container = soup.find_all(class_='lister-item-year text-muted unbold')\n",
    "filming = [title.get_text() for title in filming_container]\n",
    "filming = [title.split('\\n') for title in filming]\n",
    "filming_date = [title[0] for title in filming]\n",
    "\n",
    "\n",
    "\n"
   ]
  },
  {
   "cell_type": "code",
   "execution_count": 3,
   "metadata": {
    "cell_id": "00002-e0707f72-bbe3-46a3-9ae7-f93c74c56ae9",
    "deepnote_cell_type": "code",
    "deepnote_to_be_reexecuted": true,
    "execution_millis": 59,
    "source_hash": "5cd60694",
    "tags": []
   },
   "outputs": [
    {
     "ename": "NameError",
     "evalue": "name 'chart_number' is not defined",
     "output_type": "error",
     "traceback": [
      "\u001b[0;31m---------------------------------------------------------------------------\u001b[0m",
      "\u001b[0;31mNameError\u001b[0m                                 Traceback (most recent call last)",
      "\u001b[0;32m<ipython-input-3-501e07936d89>\u001b[0m in \u001b[0;36m<module>\u001b[0;34m\u001b[0m\n\u001b[0;32m----> 1\u001b[0;31m df = pd.DataFrame({'Chart Number': chart_number,\n\u001b[0m\u001b[1;32m      2\u001b[0m                     \u001b[0;34m'Title'\u001b[0m\u001b[0;34m:\u001b[0m \u001b[0mtitles_names\u001b[0m\u001b[0;34m,\u001b[0m\u001b[0;34m\u001b[0m\u001b[0;34m\u001b[0m\u001b[0m\n\u001b[1;32m      3\u001b[0m                     \u001b[0;34m'Release Date'\u001b[0m\u001b[0;34m:\u001b[0m \u001b[0mfilming_date\u001b[0m\u001b[0;34m,\u001b[0m\u001b[0;34m\u001b[0m\u001b[0;34m\u001b[0m\u001b[0m\n\u001b[1;32m      4\u001b[0m                     \u001b[0;34m'Duration(min)'\u001b[0m\u001b[0;34m:\u001b[0m \u001b[0mmovie_durs\u001b[0m\u001b[0;34m,\u001b[0m\u001b[0;34m\u001b[0m\u001b[0;34m\u001b[0m\u001b[0m\n\u001b[1;32m      5\u001b[0m                     \u001b[0;34m'Genre'\u001b[0m\u001b[0;34m:\u001b[0m \u001b[0mgenre\u001b[0m\u001b[0;34m,\u001b[0m\u001b[0;34m\u001b[0m\u001b[0;34m\u001b[0m\u001b[0m\n",
      "\u001b[0;31mNameError\u001b[0m: name 'chart_number' is not defined"
     ]
    }
   ],
   "source": [
    "df = pd.DataFrame({'Chart Number': chart_number,\n",
    "                    'Title': titles_names,\n",
    "                    'Release Date': filming_date,\n",
    "                    'Duration(min)': movie_durs,\n",
    "                    'Genre': genre,\n",
    "                    'Rating': ratings,\n",
    "                    'Director': directors,\n",
    "                    'Actors': actors})\n",
    "\n",
    "df"
   ]
  },
  {
   "cell_type": "code",
   "execution_count": 4,
   "metadata": {
    "cell_id": "00001-0ca9298f-6bda-40a4-a378-e01189de89a1",
    "deepnote_cell_type": "code",
    "deepnote_to_be_reexecuted": true,
    "execution_millis": 0,
    "source_hash": "9668beae",
    "tags": []
   },
   "outputs": [],
   "source": [
    "# get all the div tags use find_all\n",
    "#soup.find_all('div')\n",
    "# to get a tag with class value\n",
    "#soup.find(\"div\",{'class':'titleBar'})"
   ]
  },
  {
   "cell_type": "code",
   "execution_count": 5,
   "metadata": {
    "cell_id": "00002-006d592d-87cf-4e1a-8a49-fa6c22aec937",
    "deepnote_cell_type": "code",
    "deepnote_to_be_reexecuted": true,
    "execution_millis": 4,
    "source_hash": "bd9b5485",
    "tags": []
   },
   "outputs": [],
   "source": [
    "#pages = [str(i) for i in range(1,5)]\n",
    "#years_url = [str(i) for i in range(2000,2018)]"
   ]
  },
  {
   "cell_type": "code",
   "execution_count": 6,
   "metadata": {
    "cell_id": "00005-98b61d4d-8802-4da9-af8b-02e0b0266c98",
    "deepnote_cell_type": "code",
    "deepnote_to_be_reexecuted": true,
    "execution_millis": 6,
    "source_hash": "536873c6",
    "tags": []
   },
   "outputs": [
    {
     "ename": "NameError",
     "evalue": "name 'df' is not defined",
     "output_type": "error",
     "traceback": [
      "\u001b[0;31m---------------------------------------------------------------------------\u001b[0m",
      "\u001b[0;31mNameError\u001b[0m                                 Traceback (most recent call last)",
      "\u001b[0;32m<ipython-input-6-e9d42f88090e>\u001b[0m in \u001b[0;36m<module>\u001b[0;34m\u001b[0m\n\u001b[0;32m----> 1\u001b[0;31m \u001b[0mfreq\u001b[0m \u001b[0;34m=\u001b[0m \u001b[0mdf\u001b[0m\u001b[0;34m.\u001b[0m\u001b[0mgroupby\u001b[0m\u001b[0;34m(\u001b[0m\u001b[0;34m'Release Date'\u001b[0m\u001b[0;34m)\u001b[0m\u001b[0;34m.\u001b[0m\u001b[0mcount\u001b[0m\u001b[0;34m(\u001b[0m\u001b[0;34m)\u001b[0m\u001b[0;34m\u001b[0m\u001b[0;34m\u001b[0m\u001b[0m\n\u001b[0m\u001b[1;32m      2\u001b[0m \u001b[0mfreq\u001b[0m\u001b[0;34m\u001b[0m\u001b[0;34m\u001b[0m\u001b[0m\n",
      "\u001b[0;31mNameError\u001b[0m: name 'df' is not defined"
     ]
    }
   ],
   "source": [
    "\n",
    "freq = df.groupby('Release Date').count()\n",
    "freq"
   ]
  },
  {
   "cell_type": "code",
   "execution_count": null,
   "metadata": {
    "cell_id": "00006-dabdc600-d06d-4488-904f-29189c8a836b",
    "deepnote_cell_type": "code",
    "deepnote_to_be_reexecuted": true,
    "execution_millis": 1619,
    "source_hash": "7b5944de",
    "tags": []
   },
   "outputs": [
    {
     "data": {
      "text/plain": [
       "'Top 50 Western, Adventure Movies and TV Shows - IMDb'"
      ]
     },
     "metadata": {},
     "output_type": "display_data"
    },
    {
     "data": {
      "text/plain": [
       "'Western, Adventure\\n(Sorted by Popularity Ascending) - IMDb'"
      ]
     },
     "metadata": {},
     "output_type": "display_data"
    },
    {
     "data": {
      "application/vnd.deepnote.dataframe.v2+json": {
       "column_count": 8,
       "columns": [
        {
         "dtype": "int64",
         "name": "Chart Number",
         "stats": {
          "histogram": [
           {
            "bin_end": 10.9,
            "bin_start": 1,
            "count": 10
           },
           {
            "bin_end": 20.8,
            "bin_start": 10.9,
            "count": 10
           },
           {
            "bin_end": 30.700000000000003,
            "bin_start": 20.8,
            "count": 10
           },
           {
            "bin_end": 40.6,
            "bin_start": 30.700000000000003,
            "count": 10
           },
           {
            "bin_end": 50.5,
            "bin_start": 40.6,
            "count": 10
           },
           {
            "bin_end": 60.400000000000006,
            "bin_start": 50.5,
            "count": 10
           },
           {
            "bin_end": 70.3,
            "bin_start": 60.400000000000006,
            "count": 10
           },
           {
            "bin_end": 80.2,
            "bin_start": 70.3,
            "count": 10
           },
           {
            "bin_end": 90.10000000000001,
            "bin_start": 80.2,
            "count": 10
           },
           {
            "bin_end": 100,
            "bin_start": 90.10000000000001,
            "count": 10
           }
          ],
          "max": 100,
          "min": 1,
          "nan_count": 0,
          "unique_count": 100
         }
        },
        {
         "dtype": "object",
         "name": "Title",
         "stats": {
          "categories": [
           {
            "count": 3,
            "name": "Zorro"
           },
           {
            "count": 2,
            "name": "The Magnificent Seven"
           },
           {
            "count": 95,
            "name": "95 others"
           }
          ],
          "nan_count": 0,
          "unique_count": 97
         }
        },
        {
         "dtype": "object",
         "name": "Release Date",
         "stats": {
          "categories": [
           {
            "count": 5,
            "name": "1969"
           },
           {
            "count": 4,
            "name": "2020"
           },
           {
            "count": 91,
            "name": "51 others"
           }
          ],
          "nan_count": 0,
          "unique_count": 53
         }
        },
        {
         "dtype": "object",
         "name": "Duration(min)",
         "stats": {
          "categories": [
           {
            "count": 6,
            "name": "NaN"
           },
           {
            "count": 5,
            "name": "119"
           },
           {
            "count": 89,
            "name": "58 others"
           }
          ],
          "nan_count": 0,
          "unique_count": 60
         }
        },
        {
         "dtype": "object",
         "name": "Genre",
         "stats": {
          "categories": [
           {
            "count": 14,
            "name": "Adventure, Drama, Western            "
           },
           {
            "count": 10,
            "name": "Action, Adventure, Comedy            "
           },
           {
            "count": 76,
            "name": "33 others"
           }
          ],
          "nan_count": 0,
          "unique_count": 35
         }
        },
        {
         "dtype": "object",
         "name": "Rating",
         "stats": {
          "categories": [
           {
            "count": 7,
            "name": "6.9"
           },
           {
            "count": 7,
            "name": "7.4"
           },
           {
            "count": 86,
            "name": "35 others"
           }
          ],
          "nan_count": 0,
          "unique_count": 37
         }
        },
        {
         "dtype": "object",
         "name": "Director",
         "stats": {
          "categories": [
           {
            "count": 4,
            "name": "John Ford"
           },
           {
            "count": 2,
            "name": "Gore Verbinski"
           },
           {
            "count": 94,
            "name": "87 others"
           }
          ],
          "nan_count": 0,
          "unique_count": 89
         }
        },
        {
         "dtype": "object",
         "name": "Actors",
         "stats": {
          "categories": [
           {
            "count": 2,
            "name": "NaN"
           },
           {
            "count": 1,
            "name": "Tom Hanks, Helena Zengel, Tom Astor, Travis Johnson"
           },
           {
            "count": 97,
            "name": "97 others"
           }
          ],
          "nan_count": 0,
          "unique_count": 99
         }
        },
        {
         "dtype": "int64",
         "name": "_deepnote_index_column"
        }
       ],
       "row_count": 100,
       "rows_bottom": null,
       "rows_top": [
        {
         "Actors": "Tom Hanks, Helena Zengel, Tom Astor, Travis Johnson",
         "Chart Number": 1,
         "Director": "Paul Greengrass",
         "Duration(min)": "118",
         "Genre": "Action, Adventure, Drama            ",
         "Rating": "6.8",
         "Release Date": "2020",
         "Title": "News of the World",
         "_deepnote_index_column": 0
        },
        {
         "Actors": "Kevin Costner, Mary McDonnell, Graham Greene, Rodney A. Grant",
         "Chart Number": 2,
         "Director": "Kevin Costner",
         "Duration(min)": "181",
         "Genre": "Adventure, Drama, Western            ",
         "Rating": "8",
         "Release Date": "1990",
         "Title": "Dances with Wolves",
         "_deepnote_index_column": 1
        },
        {
         "Actors": "Denzel Washington, Chris Pratt, Ethan Hawke, Vincent D'Onofrio",
         "Chart Number": 3,
         "Director": "Antoine Fuqua",
         "Duration(min)": "132",
         "Genre": "Action, Adventure, Western            ",
         "Rating": "6.9",
         "Release Date": "2016",
         "Title": "The Magnificent Seven",
         "_deepnote_index_column": 2
        },
        {
         "Actors": "John Wayne, Jeffrey Hunter, Vera Miles, Ward Bond",
         "Chart Number": 4,
         "Director": "John Ford",
         "Duration(min)": "119",
         "Genre": "Adventure, Drama, Western            ",
         "Rating": "7.9",
         "Release Date": "1956",
         "Title": "The Searchers",
         "_deepnote_index_column": 3
        },
        {
         "Actors": "Leonardo DiCaprio, Tom Hardy, Will Poulter, Domhnall Gleeson",
         "Chart Number": 5,
         "Director": "Alejandro G. Iñárritu",
         "Duration(min)": "156",
         "Genre": "Action, Adventure, Drama            ",
         "Rating": "8",
         "Release Date": "2015",
         "Title": "The Revenant",
         "_deepnote_index_column": 4
        },
        {
         "Actors": "Yul Brynner, Steve McQueen, Charles Bronson, Eli Wallach",
         "Chart Number": 6,
         "Director": "John Sturges",
         "Duration(min)": "128",
         "Genre": "Action, Adventure, Western            ",
         "Rating": "7.7",
         "Release Date": "1960",
         "Title": "The Magnificent Seven",
         "_deepnote_index_column": 5
        },
        {
         "Actors": "Ennio Torresan, Eiza González, Isabela Merced, Jake Gyllenhaal, Mckenna Grace",
         "Chart Number": 7,
         "Director": "Elaine Bogan",
         "Duration(min)": "NaN",
         "Genre": "Animation, Adventure, Family            ",
         "Rating": "NaN",
         "Release Date": "2021",
         "Title": "Spirit Untamed",
         "_deepnote_index_column": 6
        },
        {
         "Actors": "Johnny Depp, Isla Fisher, Timothy Olyphant, Abigail Breslin",
         "Chart Number": 8,
         "Director": "Gore Verbinski",
         "Duration(min)": "107",
         "Genre": "Animation, Adventure, Comedy            ",
         "Rating": "7.2",
         "Release Date": "2011",
         "Title": "Rango",
         "_deepnote_index_column": 7
        },
        {
         "Actors": "Clarence Gilyard Jr., Sheree J. Wilson, Noble Willingham",
         "Chart Number": 9,
         "Director": "Chuck Norris",
         "Duration(min)": "43",
         "Genre": "Action, Adventure, Crime            ",
         "Rating": "5.5",
         "Release Date": "1993",
         "Title": "Walker, Texas Ranger",
         "_deepnote_index_column": 8
        },
        {
         "Actors": "Johnny Depp, Armie Hammer, William Fichtner, Tom Wilkinson",
         "Chart Number": 10,
         "Director": "Gore Verbinski",
         "Duration(min)": "150",
         "Genre": "Action, Adventure, Western            ",
         "Rating": "6.4",
         "Release Date": "2013",
         "Title": "The Lone Ranger",
         "_deepnote_index_column": 9
        },
        {
         "Actors": "Roger Clark, Rob Wiethoff, Cali Elizabeth Moore",
         "Chart Number": 11,
         "Director": "Benjamin Byron Davis",
         "Duration(min)": "NaN",
         "Genre": "Action, Adventure, Crime            ",
         "Rating": "9.7",
         "Release Date": "2018",
         "Title": "Red Dead Redemption II",
         "_deepnote_index_column": 10
        },
        {
         "Actors": "William Holden, Ernest Borgnine, Robert Ryan, Edmond O'Brien",
         "Chart Number": 12,
         "Director": "Sam Peckinpah",
         "Duration(min)": "135",
         "Genre": "Action, Adventure, Western            ",
         "Rating": "7.9",
         "Release Date": "1969",
         "Title": "The Wild Bunch",
         "_deepnote_index_column": 11
        },
        {
         "Actors": "Michael J. Fox, Christopher Lloyd, Mary Steenburgen, Thomas F. Wilson",
         "Chart Number": 13,
         "Director": "Robert Zemeckis",
         "Duration(min)": "118",
         "Genre": "Adventure, Comedy, Sci-Fi            ",
         "Rating": "7.4",
         "Release Date": "1990",
         "Title": "Back to the Future Part III",
         "_deepnote_index_column": 12
        },
        {
         "Actors": "Idris Elba, Matthew McConaughey, Tom Taylor, Dennis Haysbert",
         "Chart Number": 14,
         "Director": "Nikolaj Arcel",
         "Duration(min)": "95",
         "Genre": "Action, Adventure, Fantasy            ",
         "Rating": "5.6",
         "Release Date": "2017",
         "Title": "The Dark Tower",
         "_deepnote_index_column": 13
        },
        {
         "Actors": "Kris Kristofferson, Christopher Walken, John Hurt, Sam Waterston",
         "Chart Number": 15,
         "Director": "Michael Cimino",
         "Duration(min)": "219",
         "Genre": "Adventure, Drama, Western            ",
         "Rating": "6.8",
         "Release Date": "1980",
         "Title": "Heaven's Gate",
         "_deepnote_index_column": 14
        },
        {
         "Actors": "Nicole Kidman, Hugh Jackman, Shea Adams, Eddie Baroo",
         "Chart Number": 16,
         "Director": "Baz Luhrmann",
         "Duration(min)": "165",
         "Genre": "Adventure, Comedy, Drama            ",
         "Rating": "6.6",
         "Release Date": "2008",
         "Title": "Australia",
         "_deepnote_index_column": 15
        },
        {
         "Actors": "Antonio Banderas, Anthony Hopkins, Catherine Zeta-Jones, José María de Tavira",
         "Chart Number": 17,
         "Director": "Martin Campbell",
         "Duration(min)": "136",
         "Genre": "Action, Adventure, Comedy            ",
         "Rating": "6.7",
         "Release Date": "1998",
         "Title": "The Mask of Zorro",
         "_deepnote_index_column": 16
        },
        {
         "Actors": "Adam Sandler, Terry Crews, Jorge Garcia, Taylor Lautner",
         "Chart Number": 18,
         "Director": "Frank Coraci",
         "Duration(min)": "119",
         "Genre": "Action, Adventure, Comedy            ",
         "Rating": "4.8",
         "Release Date": "2015",
         "Title": "The Ridiculous 6",
         "_deepnote_index_column": 17
        },
        {
         "Actors": "Kevin Costner, Dennis Quaid, Gene Hackman, David Andrews",
         "Chart Number": 19,
         "Director": "Lawrence Kasdan",
         "Duration(min)": "191",
         "Genre": "Adventure, Biography, Crime            ",
         "Rating": "6.7",
         "Release Date": "1994",
         "Title": "Wyatt Earp",
         "_deepnote_index_column": 18
        },
        {
         "Actors": "Lorna Cook, Matt Damon, James Cromwell, Daniel Studi, Chopper Bernet",
         "Chart Number": 20,
         "Director": "Kelly Asbury",
         "Duration(min)": "83",
         "Genre": "Animation, Adventure, Drama            ",
         "Rating": "7.2",
         "Release Date": "2002",
         "Title": "Spirit: Stallion of the Cimarron",
         "_deepnote_index_column": 19
        },
        {
         "Actors": "Ross Martin, Dick Cangey, Whitey Hughes",
         "Chart Number": 21,
         "Director": "Robert Conrad",
         "Duration(min)": "50",
         "Genre": "Action, Adventure, Sci-Fi            ",
         "Rating": "8.1",
         "Release Date": "1965",
         "Title": "The Wild Wild West",
         "_deepnote_index_column": 20
        },
        {
         "Actors": "John Wayne, Claire Trevor, Andy Devine, John Carradine",
         "Chart Number": 22,
         "Director": "John Ford",
         "Duration(min)": "96",
         "Genre": "Adventure, Drama, Western            ",
         "Rating": "7.8",
         "Release Date": "1939",
         "Title": "Stagecoach",
         "_deepnote_index_column": 21
        },
        {
         "Actors": "Tommy Lee Jones, Danny Glover, Diane Lane",
         "Chart Number": 23,
         "Director": "Robert Duvall",
         "Duration(min)": "384",
         "Genre": "Adventure, Drama, Western            ",
         "Rating": "8.7",
         "Release Date": "1989",
         "Title": "Lonesome Dove",
         "_deepnote_index_column": 22
        },
        {
         "Actors": "Jake Allyn, Frank Grillo, Jorge A. Jimenez, Andie MacDowell",
         "Chart Number": 24,
         "Director": "Conor Allyn",
         "Duration(min)": "114",
         "Genre": "Action, Adventure, Thriller            ",
         "Rating": "5.1",
         "Release Date": "2020",
         "Title": "No Man's Land",
         "_deepnote_index_column": 23
        },
        {
         "Actors": "Richard Harris, John Huston, Henry Wilcoxon, Percy Herbert",
         "Chart Number": 25,
         "Director": "Richard C. Sarafian",
         "Duration(min)": "104",
         "Genre": "Adventure, Drama, Western            ",
         "Rating": "6.8",
         "Release Date": "1971",
         "Title": "Man in the Wilderness",
         "_deepnote_index_column": 24
        },
        {
         "Actors": "Tom Selleck, Laura San Giacomo, Alan Rickman, Chris Haywood",
         "Chart Number": 26,
         "Director": "Simon Wincer",
         "Duration(min)": "119",
         "Genre": "Action, Adventure, Drama            ",
         "Rating": "6.9",
         "Release Date": "1990",
         "Title": "Quigley Down Under",
         "_deepnote_index_column": 25
        },
        {
         "Actors": "Mel Gibson, Jodie Foster, James Garner, Graham Greene",
         "Chart Number": 27,
         "Director": "Richard Donner",
         "Duration(min)": "127",
         "Genre": "Action, Adventure, Comedy            ",
         "Rating": "7.1",
         "Release Date": "1994",
         "Title": "Maverick",
         "_deepnote_index_column": 26
        },
        {
         "Actors": "Jackie Chan, Owen Wilson, Lucy Liu, Brandon Merrill",
         "Chart Number": 28,
         "Director": "Tom Dey",
         "Duration(min)": "110",
         "Genre": "Action, Adventure, Comedy            ",
         "Rating": "6.6",
         "Release Date": "2000",
         "Title": "Shanghai Noon",
         "_deepnote_index_column": 27
        },
        {
         "Actors": "Tom Cruise, Nicole Kidman, Thomas Gibson, Robert Prosky",
         "Chart Number": 29,
         "Director": "Ron Howard",
         "Duration(min)": "140",
         "Genre": "Adventure, Drama, Romance            ",
         "Rating": "6.6",
         "Release Date": "1992",
         "Title": "Far and Away",
         "_deepnote_index_column": 28
        },
        {
         "Actors": "Kleber Mendonça Filho, Bárbara Colen, Thomas Aquino, Silvero Pereira, Thardelly Lima",
         "Chart Number": 30,
         "Director": "Juliano Dornelles",
         "Duration(min)": "131",
         "Genre": "Adventure, Horror, Mystery            ",
         "Rating": "7.4",
         "Release Date": "2019",
         "Title": "Bacurau",
         "_deepnote_index_column": 29
        },
        {
         "Actors": "Barbara Carrera, Richard Chamberlain, Robert Conrad",
         "Chart Number": 31,
         "Director": "Raymond Burr",
         "Duration(min)": "1256",
         "Genre": "Action, Adventure, Drama            ",
         "Rating": "8.3",
         "Release Date": "1978",
         "Title": "Centennial",
         "_deepnote_index_column": 30
        },
        {
         "Actors": "John Wayne, Kim Darby, Glen Campbell, Jeremy Slate",
         "Chart Number": 32,
         "Director": "Henry Hathaway",
         "Duration(min)": "128",
         "Genre": "Adventure, Drama, Western            ",
         "Rating": "7.4",
         "Release Date": "1969",
         "Title": "True Grit",
         "_deepnote_index_column": 31
        },
        {
         "Actors": "Robert Redford, Will Geer, Delle Bolton, Josh Albee",
         "Chart Number": 33,
         "Director": "Sydney Pollack",
         "Duration(min)": "108",
         "Genre": "Adventure, Drama, Western            ",
         "Rating": "7.6",
         "Release Date": "1972",
         "Title": "Jeremiah Johnson",
         "_deepnote_index_column": 32
        },
        {
         "Actors": "Arthur Rosson, John Wayne, Montgomery Clift, Joanne Dru, Walter Brennan",
         "Chart Number": 34,
         "Director": "Howard Hawks",
         "Duration(min)": "133",
         "Genre": "Action, Adventure, Drama            ",
         "Rating": "7.8",
         "Release Date": "1948",
         "Title": "Red River",
         "_deepnote_index_column": 33
        },
        {
         "Actors": "NaN",
         "Chart Number": 35,
         "Director": "NaN",
         "Duration(min)": "NaN",
         "Genre": "Adventure, Drama, Western            ",
         "Rating": "NaN",
         "Release Date": "2022",
         "Title": "Django/Zorro",
         "_deepnote_index_column": 34
        },
        {
         "Actors": "Antonio Banderas, Catherine Zeta-Jones, Rufus Sewell, Alberto Reyes",
         "Chart Number": 36,
         "Director": "Martin Campbell",
         "Duration(min)": "129",
         "Genre": "Action, Adventure, Romance            ",
         "Rating": "6",
         "Release Date": "2005",
         "Title": "The Legend of Zorro",
         "_deepnote_index_column": 35
        },
        {
         "Actors": "Tommy Lee Jones, Cate Blanchett, Evan Rachel Wood, Jenna Boyd",
         "Chart Number": 37,
         "Director": "Ron Howard",
         "Duration(min)": "137",
         "Genre": "Adventure, Thriller, Western            ",
         "Rating": "6.5",
         "Release Date": "2003",
         "Title": "The Missing",
         "_deepnote_index_column": 36
        },
        {
         "Actors": "Tony Curtis, Natalie Wood, Jack Lemmon, Peter Falk",
         "Chart Number": 38,
         "Director": "Blake Edwards",
         "Duration(min)": "160",
         "Genre": "Action, Adventure, Comedy            ",
         "Rating": "7.3",
         "Release Date": "1965",
         "Title": "The Great Race",
         "_deepnote_index_column": 37
        },
        {
         "Actors": "Jackie Chan, Steve Coogan, Jim Broadbent, Kathy Bates",
         "Chart Number": 39,
         "Director": "Frank Coraci",
         "Duration(min)": "120",
         "Genre": "Action, Adventure, Comedy            ",
         "Rating": "5.9",
         "Release Date": "2004",
         "Title": "Around the World in 80 Days",
         "_deepnote_index_column": 38
        },
        {
         "Actors": "Radames Pera, Keye Luke, Philip Ahn",
         "Chart Number": 40,
         "Director": "David Carradine",
         "Duration(min)": "60",
         "Genre": "Adventure, Drama, Western            ",
         "Rating": "7.7",
         "Release Date": "1972",
         "Title": "Kung Fu",
         "_deepnote_index_column": 39
        },
        {
         "Actors": "Kirk Douglas, Tom Burlinson, Terence Donovan, Tommy Dysart",
         "Chart Number": 41,
         "Director": "George Miller",
         "Duration(min)": "102",
         "Genre": "Adventure, Drama, Romance            ",
         "Rating": "7.3",
         "Release Date": "1982",
         "Title": "The Man from Snowy River",
         "_deepnote_index_column": 40
        },
        {
         "Actors": "Johnny Depp, Gary Farmer, Crispin Glover, Lance Henriksen",
         "Chart Number": 42,
         "Director": "Jim Jarmusch",
         "Duration(min)": "121",
         "Genre": "Adventure, Drama, Fantasy            ",
         "Rating": "7.6",
         "Release Date": "1995",
         "Title": "Dead Man",
         "_deepnote_index_column": 41
        },
        {
         "Actors": "Burt Lancaster, Lee Marvin, Robert Ryan, Woody Strode",
         "Chart Number": 43,
         "Director": "Richard Brooks",
         "Duration(min)": "117",
         "Genre": "Action, Adventure, Western            ",
         "Rating": "7.3",
         "Release Date": "1966",
         "Title": "The Professionals",
         "_deepnote_index_column": 42
        },
        {
         "Actors": "John Wayne, Jorge Rivero, Jennifer O'Neill, Jack Elam",
         "Chart Number": 44,
         "Director": "Howard Hawks",
         "Duration(min)": "114",
         "Genre": "Adventure, Romance, War            ",
         "Rating": "6.8",
         "Release Date": "1970",
         "Title": "Rio Lobo",
         "_deepnote_index_column": 43
        },
        {
         "Actors": "John Wayne, Roscoe Lee Browne, Bruce Dern, Colleen Dewhurst",
         "Chart Number": 45,
         "Director": "Mark Rydell",
         "Duration(min)": "134",
         "Genre": "Adventure, Drama, Western            ",
         "Rating": "7.4",
         "Release Date": "1972",
         "Title": "The Cowboys",
         "_deepnote_index_column": 44
        },
        {
         "Actors": "Dustin Hoffman, Faye Dunaway, Chief Dan George, Martin Balsam",
         "Chart Number": 46,
         "Director": "Arthur Penn",
         "Duration(min)": "139",
         "Genre": "Adventure, Comedy, Drama            ",
         "Rating": "7.6",
         "Release Date": "1970",
         "Title": "Little Big Man",
         "_deepnote_index_column": 45
        },
        {
         "Actors": "Humphrey Bogart, Walter Huston, Tim Holt, Bruce Bennett",
         "Chart Number": 47,
         "Director": "John Huston",
         "Duration(min)": "126",
         "Genre": "Adventure, Drama, Western            ",
         "Rating": "8.2",
         "Release Date": "1948",
         "Title": "The Treasure of the Sierra Madre",
         "_deepnote_index_column": 46
        },
        {
         "Actors": "Viggo Mortensen, Omar Sharif, Zuleikha Robinson, Louise Lombard",
         "Chart Number": 48,
         "Director": "Joe Johnston",
         "Duration(min)": "136",
         "Genre": "Action, Adventure, Biography            ",
         "Rating": "6.7",
         "Release Date": "2004",
         "Title": "Hidalgo",
         "_deepnote_index_column": 47
        },
        {
         "Actors": "Sam Quartin, Dylan Sprouse, Nekhebet Kum Juch, Thea Sofie Loch Næss",
         "Chart Number": 49,
         "Director": "Kerry Mondragon",
         "Duration(min)": "92",
         "Genre": "Adventure, Romance, Western            ",
         "Rating": "5.1",
         "Release Date": "2021",
         "Title": "Tyger Tyger",
         "_deepnote_index_column": 48
        },
        {
         "Actors": "Kodi Smit-McPhee, Caren Pistorius, Aorere Paki, Jeffrey Thomas",
         "Chart Number": 50,
         "Director": "John Maclean",
         "Duration(min)": "84",
         "Genre": "Action, Adventure, Drama            ",
         "Rating": "6.9",
         "Release Date": "2015",
         "Title": "Slow West",
         "_deepnote_index_column": 49
        },
        {
         "Actors": "Irene Bedard, Gil Birmingham, John Terry",
         "Chart Number": 51,
         "Director": "Joseph M. Marshall",
         "Duration(min)": "552",
         "Genre": "Adventure, Drama, History            ",
         "Rating": "8.1",
         "Release Date": "2005",
         "Title": "Into the West",
         "_deepnote_index_column": 50
        },
        {
         "Actors": "Patricia Blair, Darby Hinton, Dal McKennon",
         "Chart Number": 52,
         "Director": "Fess Parker",
         "Duration(min)": "60",
         "Genre": "Adventure, Western            ",
         "Rating": "7.4",
         "Release Date": "1964",
         "Title": "Daniel Boone",
         "_deepnote_index_column": 51
        },
        {
         "Actors": "Matthew Perry, Wayne Newton, Kris Kristofferson, Ron Perlman",
         "Chart Number": 53,
         "Director": "Josh Sawyer",
         "Duration(min)": "NaN",
         "Genre": "Action, Adventure, Sci-Fi            ",
         "Rating": "8.8",
         "Release Date": "2010",
         "Title": "Fallout: New Vegas",
         "_deepnote_index_column": 52
        },
        {
         "Actors": "Clint Eastwood, Shirley MacLaine, Manolo Fábregas, Alberto Morin",
         "Chart Number": 54,
         "Director": "Don Siegel",
         "Duration(min)": "116",
         "Genre": "Adventure, Romance, War            ",
         "Rating": "7",
         "Release Date": "1970",
         "Title": "Two Mules for Sister Sara",
         "_deepnote_index_column": 53
        },
        {
         "Actors": "Duncan Regehr, James Victor, Juan Diego Botto",
         "Chart Number": 55,
         "Director": "Patrice Martinez",
         "Duration(min)": "30",
         "Genre": "Adventure, Family, Romance            ",
         "Rating": "6.8",
         "Release Date": "1990",
         "Title": "Zorro",
         "_deepnote_index_column": 54
        },
        {
         "Actors": "Madeleine Stowe, Mary Stuart Masterson, Andie MacDowell, Drew Barrymore",
         "Chart Number": 56,
         "Director": "Jonathan Kaplan",
         "Duration(min)": "99",
         "Genre": "Action, Adventure, Romance            ",
         "Rating": "5.2",
         "Release Date": "1994",
         "Title": "Bad Girls",
         "_deepnote_index_column": 55
        },
        {
         "Actors": "John Wayne, Richard Widmark, Laurence Harvey, Frankie Avalon",
         "Chart Number": 57,
         "Director": "John Wayne",
         "Duration(min)": "162",
         "Genre": "Adventure, Drama, History            ",
         "Rating": "6.9",
         "Release Date": "1960",
         "Title": "The Alamo",
         "_deepnote_index_column": 56
        },
        {
         "Actors": "Julius Carry, Christian Clemenson, Comet",
         "Chart Number": 58,
         "Director": "Bruce Campbell",
         "Duration(min)": "45",
         "Genre": "Action, Adventure, Comedy            ",
         "Rating": "8.3",
         "Release Date": "1993",
         "Title": "The Adventures of Brisco County, Jr.",
         "_deepnote_index_column": 57
        },
        {
         "Actors": "Dorothy McGuire, Fess Parker, Tommy Kirk, Jeff York",
         "Chart Number": 59,
         "Director": "Robert Stevenson",
         "Duration(min)": "83",
         "Genre": "Adventure, Drama, Family            ",
         "Rating": "7.3",
         "Release Date": "1957",
         "Title": "Old Yeller",
         "_deepnote_index_column": 58
        },
        {
         "Actors": "Kelly Brown, Debi Kalman, Christine Taylor",
         "Chart Number": 60,
         "Director": "David Brisbin",
         "Duration(min)": "30",
         "Genre": "Adventure, Comedy, Family            ",
         "Rating": "7.2",
         "Release Date": "1989",
         "Title": "Hey Dude",
         "_deepnote_index_column": 59
        },
        {
         "Actors": "Gregory Peck, Omar Sharif, Telly Savalas, Camilla Sparv",
         "Chart Number": 61,
         "Director": "J. Lee Thompson",
         "Duration(min)": "128",
         "Genre": "Action, Adventure, Romance            ",
         "Rating": "6.8",
         "Release Date": "1969",
         "Title": "Mackenna's Gold",
         "_deepnote_index_column": 60
        },
        {
         "Actors": "Guy Pearce, Devon Sawa, Kelly Greyson, Michael Sirow",
         "Chart Number": 62,
         "Director": "York Alec Shackleton",
         "Duration(min)": "91",
         "Genre": "Action, Adventure, Thriller            ",
         "Rating": "3.2",
         "Release Date": "2020",
         "Title": "Disturbing the Peace",
         "_deepnote_index_column": 61
        },
        {
         "Actors": "Josh Blaylock, Sophia Marzocchi, Spider Madison",
         "Chart Number": 63,
         "Director": "Rob Wiethoff",
         "Duration(min)": "NaN",
         "Genre": "Action, Adventure, Crime            ",
         "Rating": "9.5",
         "Release Date": "2010",
         "Title": "Red Dead Redemption",
         "_deepnote_index_column": 62
        },
        {
         "Actors": "Michelle Williams, Bruce Greenwood, Paul Dano, Will Patton",
         "Chart Number": 64,
         "Director": "Kelly Reichardt",
         "Duration(min)": "104",
         "Genre": "Adventure, Drama, Thriller            ",
         "Rating": "6.6",
         "Release Date": "2010",
         "Title": "Meek's Cutoff",
         "_deepnote_index_column": 63
        },
        {
         "Actors": "John Sanford, Judi Dench, Cuba Gooding Jr., Jennifer Tilly, Randy Quaid",
         "Chart Number": 65,
         "Director": "Will Finn",
         "Duration(min)": "76",
         "Genre": "Animation, Adventure, Comedy            ",
         "Rating": "5.4",
         "Release Date": "2004",
         "Title": "Home on the Range",
         "_deepnote_index_column": 64
        },
        {
         "Actors": "Bailey Gambertoglio, Sydney Park, Nolan North",
         "Chart Number": 66,
         "Director": "Amber Frank",
         "Duration(min)": "23",
         "Genre": "Animation, Action, Adventure            ",
         "Rating": "6.6",
         "Release Date": "2017",
         "Title": "Spirit Riding Free",
         "_deepnote_index_column": 65
        },
        {
         "Actors": "Kang-ho Song, Lee Byung-Hun, Jung Woo-sung, Je-mun Yun",
         "Chart Number": 67,
         "Director": "Jee-woon Kim",
         "Duration(min)": "130",
         "Genre": "Action, Adventure, Comedy            ",
         "Rating": "7.3",
         "Release Date": "2008",
         "Title": "The Good the Bad the Weird",
         "_deepnote_index_column": 66
        },
        {
         "Actors": "Chris Farley, Matthew Perry, Bokeem Woodbine, Barry Del Sherman",
         "Chart Number": 68,
         "Director": "Christopher Guest",
         "Duration(min)": "90",
         "Genre": "Adventure, Comedy, Western            ",
         "Rating": "5.9",
         "Release Date": "1998",
         "Title": "Almost Heroes",
         "_deepnote_index_column": 67
        },
        {
         "Actors": "Jean Negulesco, Robert Mitchum, Marilyn Monroe, Rory Calhoun, Tommy Rettig",
         "Chart Number": 69,
         "Director": "Otto Preminger",
         "Duration(min)": "91",
         "Genre": "Action, Adventure, Drama            ",
         "Rating": "6.6",
         "Release Date": "1954",
         "Title": "River of No Return",
         "_deepnote_index_column": 68
        },
        {
         "Actors": "Heath Ledger, Orlando Bloom, Geoffrey Rush, Naomi Watts",
         "Chart Number": 70,
         "Director": "Gregor Jordan",
         "Duration(min)": "110",
         "Genre": "Action, Adventure, Biography            ",
         "Rating": "6.5",
         "Release Date": "2003",
         "Title": "Ned Kelly",
         "_deepnote_index_column": 69
        },
        {
         "Actors": "Patrick Swayze, Oliver Platt, Roger Aaron Brown, Nick Stahl",
         "Chart Number": 71,
         "Director": "Jeremiah S. Chechik",
         "Duration(min)": "96",
         "Genre": "Adventure, Family, Fantasy            ",
         "Rating": "5.9",
         "Release Date": "1995",
         "Title": "Tall Tale",
         "_deepnote_index_column": 70
        },
        {
         "Actors": "Charles Chaplin, Mack Swain, Tom Murray, Henry Bergman",
         "Chart Number": 72,
         "Director": "Charles Chaplin",
         "Duration(min)": "95",
         "Genre": "Adventure, Comedy, Drama            ",
         "Rating": "8.2",
         "Release Date": "1925",
         "Title": "The Gold Rush",
         "_deepnote_index_column": 71
        },
        {
         "Actors": "Jim Brown, Raquel Welch, Burt Reynolds, Fernando Lamas",
         "Chart Number": 73,
         "Director": "Tom Gries",
         "Duration(min)": "110",
         "Genre": "Adventure, Romance, War            ",
         "Rating": "6",
         "Release Date": "1969",
         "Title": "100 Rifles",
         "_deepnote_index_column": 72
        },
        {
         "Actors": "Alan Cumming, Neal McDonough, Kathleen Robertson",
         "Chart Number": 74,
         "Director": "Zooey Deschanel",
         "Duration(min)": "270",
         "Genre": "Adventure, Fantasy, Sci-Fi            ",
         "Rating": "7.2",
         "Release Date": "2007",
         "Title": "Tin Man",
         "_deepnote_index_column": 73
        },
        {
         "Actors": "Chikahiro Kobayashi, Kentarô Itô, Fumihiko Tachiki",
         "Chart Number": 75,
         "Director": "Haruka Shiraishi",
         "Duration(min)": "24",
         "Genre": "Animation, Action, Adventure            ",
         "Rating": "7.9",
         "Release Date": "2018",
         "Title": "Golden Kamuy",
         "_deepnote_index_column": 74
        },
        {
         "Actors": "Jonathan Taylor Thomas, Brad Renfro, Charles Rocket, Eric Schweig",
         "Chart Number": 76,
         "Director": "Peter Hewitt",
         "Duration(min)": "97",
         "Genre": "Adventure, Comedy, Drama            ",
         "Rating": "5.5",
         "Release Date": "1995",
         "Title": "Tom and Huck",
         "_deepnote_index_column": 75
        },
        {
         "Actors": "Hamilton Morris, Shanika Cole, Ewen Leslie, Sam Neill",
         "Chart Number": 77,
         "Director": "Warwick Thornton",
         "Duration(min)": "113",
         "Genre": "Adventure, Crime, Drama            ",
         "Rating": "6.9",
         "Release Date": "2017",
         "Title": "Sweet Country",
         "_deepnote_index_column": 76
        },
        {
         "Actors": "Gene Sheldon, Henry Calvin, Don Diamond",
         "Chart Number": 78,
         "Director": "Guy Williams",
         "Duration(min)": "30",
         "Genre": "Action, Adventure, Comedy            ",
         "Rating": "8.2",
         "Release Date": "1957",
         "Title": "Zorro",
         "_deepnote_index_column": 77
        },
        {
         "Actors": "David Gyasi, Ron Perlman, Frank Grillo, Manu Intiraymi",
         "Chart Number": 79,
         "Director": "Wes Miller",
         "Duration(min)": "106",
         "Genre": "Adventure, Biography, Western            ",
         "Rating": "4.2",
         "Release Date": "2019",
         "Title": "Hell on the Border",
         "_deepnote_index_column": 78
        },
        {
         "Actors": "Simon Wells, James Stewart, John Cleese, Amy Irving, Phillip Glasser",
         "Chart Number": 80,
         "Director": "Phil Nibbelink",
         "Duration(min)": "75",
         "Genre": "Animation, Adventure, Family            ",
         "Rating": "6.5",
         "Release Date": "1991",
         "Title": "An American Tail: Fievel Goes West",
         "_deepnote_index_column": 79
        },
        {
         "Actors": "Richard Harris, Judith Anderson, Jean Gascon, Manu Tupou",
         "Chart Number": 81,
         "Director": "Elliot Silverstein",
         "Duration(min)": "114",
         "Genre": "Adventure, Drama, Western            ",
         "Rating": "6.9",
         "Release Date": "1970",
         "Title": "A Man Called Horse",
         "_deepnote_index_column": 80
        },
        {
         "Actors": "Tommy Lee Jones, Barry Pepper, Dwight Yoakam, January Jones",
         "Chart Number": 82,
         "Director": "Tommy Lee Jones",
         "Duration(min)": "121",
         "Genre": "Adventure, Crime, Drama            ",
         "Rating": "7.4",
         "Release Date": "2005",
         "Title": "The Three Burials of Melquiades Estrada",
         "_deepnote_index_column": 81
        },
        {
         "Actors": "John Wayne, Henry Fonda, Shirley Temple, Pedro Armendáriz",
         "Chart Number": 83,
         "Director": "John Ford",
         "Duration(min)": "128",
         "Genre": "Action, Adventure, Western            ",
         "Rating": "7.5",
         "Release Date": "1948",
         "Title": "Fort Apache",
         "_deepnote_index_column": 82
        },
        {
         "Actors": "Gene Hackman, Candice Bergen, James Coburn, Ben Johnson",
         "Chart Number": 84,
         "Director": "Richard Brooks",
         "Duration(min)": "132",
         "Genre": "Action, Adventure, Western            ",
         "Rating": "6.7",
         "Release Date": "1975",
         "Title": "Bite the Bullet",
         "_deepnote_index_column": 83
        },
        {
         "Actors": "Marton Csokas, Ian Hart, Greg Lawson",
         "Chart Number": 85,
         "Director": "Abbie Cornish",
         "Duration(min)": "274",
         "Genre": "Adventure, Drama, Western            ",
         "Rating": "7.4",
         "Release Date": "2014",
         "Title": "Klondike",
         "_deepnote_index_column": 84
        },
        {
         "Actors": "Charles Bronson, Jack Warden, Will Sampson, Kim Novak",
         "Chart Number": 86,
         "Director": "J. Lee Thompson",
         "Duration(min)": "97",
         "Genre": "Action, Adventure, Western            ",
         "Rating": "6.2",
         "Release Date": "1977",
         "Title": "The White Buffalo",
         "_deepnote_index_column": 85
        },
        {
         "Actors": "Bobby Sherman, David Soul, Bridget Hanley",
         "Chart Number": 87,
         "Director": "Robert Brown",
         "Duration(min)": "60",
         "Genre": "Adventure, Comedy, Western            ",
         "Rating": "7.7",
         "Release Date": "1968",
         "Title": "Here Come the Brides",
         "_deepnote_index_column": 86
        },
        {
         "Actors": "Burt Lancaster, Robert Ryan, Lee J. Cobb, Robert Duvall",
         "Chart Number": 88,
         "Director": "Michael Winner",
         "Duration(min)": "99",
         "Genre": "Adventure, Western            ",
         "Rating": "7",
         "Release Date": "1971",
         "Title": "Lawman",
         "_deepnote_index_column": 87
        },
        {
         "Actors": "John Candy, Joe Bays, Abraham Benrubi, Jill Boyd",
         "Chart Number": 89,
         "Director": "Peter Markle",
         "Duration(min)": "107",
         "Genre": "Adventure, Comedy, Western            ",
         "Rating": "4.9",
         "Release Date": "1994",
         "Title": "Wagons East",
         "_deepnote_index_column": 88
        },
        {
         "Actors": "John Wayne, John Wayne, Stuart Whitman, Ina Balin, Nehemiah Persoff",
         "Chart Number": 90,
         "Director": "Michael Curtiz",
         "Duration(min)": "107",
         "Genre": "Action, Adventure, Romance            ",
         "Rating": "6.9",
         "Release Date": "1961",
         "Title": "The Comancheros",
         "_deepnote_index_column": 89
        },
        {
         "Actors": "David Wenham, Jay Ryan, Erik Thomson, Mahesh Jadu",
         "Chart Number": 91,
         "Director": "Roderick MacKay",
         "Duration(min)": "116",
         "Genre": "Adventure, Drama, History            ",
         "Rating": "6.7",
         "Release Date": "2020",
         "Title": "The Furnace",
         "_deepnote_index_column": 90
        },
        {
         "Actors": "Gene Wilder, Harrison Ford, Ramon Bieri, Val Bisoglio",
         "Chart Number": 92,
         "Director": "Robert Aldrich",
         "Duration(min)": "119",
         "Genre": "Adventure, Comedy, Drama            ",
         "Rating": "6.4",
         "Release Date": "1979",
         "Title": "The Frisco Kid",
         "_deepnote_index_column": 91
        },
        {
         "Actors": "James Stewart, Audie Murphy, Dan Duryea, Dianne Foster",
         "Chart Number": 93,
         "Director": "James Neilson",
         "Duration(min)": "90",
         "Genre": "Action, Adventure, Drama            ",
         "Rating": "6.7",
         "Release Date": "1957",
         "Title": "Night Passage",
         "_deepnote_index_column": 92
        },
        {
         "Actors": "NaN",
         "Chart Number": 94,
         "Director": "NaN",
         "Duration(min)": "NaN",
         "Genre": "Action, Adventure, Family            ",
         "Rating": "NaN",
         "Release Date": "NaN",
         "Title": "National Treasure 3",
         "_deepnote_index_column": 93
        },
        {
         "Actors": "Tom Berenger, Barbara Hershey, Kurtwood Smith, Steve Reevis",
         "Chart Number": 95,
         "Director": "Tab Murphy",
         "Duration(min)": "118",
         "Genre": "Adventure, Western            ",
         "Rating": "7",
         "Release Date": "1995",
         "Title": "Last of the Dogmen",
         "_deepnote_index_column": 94
        },
        {
         "Actors": "Gloria Winters, Ewing Mitchell, Ron Hagerthy",
         "Chart Number": 96,
         "Director": "Kirby Grant",
         "Duration(min)": "30",
         "Genre": "Adventure, Western            ",
         "Rating": "7.7",
         "Release Date": "1951",
         "Title": "Sky King",
         "_deepnote_index_column": 95
        },
        {
         "Actors": "John Wayne, Rock Hudson, Antonio Aguilar, Roman Gabriel",
         "Chart Number": 97,
         "Director": "Andrew V. McLaglen",
         "Duration(min)": "119",
         "Genre": "Action, Adventure, Romance            ",
         "Rating": "6.7",
         "Release Date": "1969",
         "Title": "The Undefeated",
         "_deepnote_index_column": 96
        },
        {
         "Actors": "Alain Delon, Stanley Baker, Ottavia Piccolo, Moustache",
         "Chart Number": 98,
         "Director": "Duccio Tessari",
         "Duration(min)": "120",
         "Genre": "Action, Adventure, Comedy            ",
         "Rating": "6.5",
         "Release Date": "1975",
         "Title": "Zorro",
         "_deepnote_index_column": 97
        },
        {
         "Actors": "Charles Bronson, Lee Marvin, Andrew Stevens, Carl Weathers",
         "Chart Number": 99,
         "Director": "Peter R. Hunt",
         "Duration(min)": "97",
         "Genre": "Action, Adventure, Crime            ",
         "Rating": "7",
         "Release Date": "1981",
         "Title": "Death Hunt",
         "_deepnote_index_column": 98
        },
        {
         "Actors": "John Wayne, William Holden, Constance Towers, Judson Pratt",
         "Chart Number": 100,
         "Director": "John Ford",
         "Duration(min)": "120",
         "Genre": "Adventure, Romance, War            ",
         "Rating": "7.2",
         "Release Date": "1959",
         "Title": "The Horse Soldiers",
         "_deepnote_index_column": 99
        }
       ]
      },
      "text/html": [
       "<div>\n",
       "<style scoped>\n",
       "    .dataframe tbody tr th:only-of-type {\n",
       "        vertical-align: middle;\n",
       "    }\n",
       "\n",
       "    .dataframe tbody tr th {\n",
       "        vertical-align: top;\n",
       "    }\n",
       "\n",
       "    .dataframe thead th {\n",
       "        text-align: right;\n",
       "    }\n",
       "</style>\n",
       "<table border=\"1\" class=\"dataframe\">\n",
       "  <thead>\n",
       "    <tr style=\"text-align: right;\">\n",
       "      <th></th>\n",
       "      <th>Chart Number</th>\n",
       "      <th>Title</th>\n",
       "      <th>Release Date</th>\n",
       "      <th>Duration(min)</th>\n",
       "      <th>Genre</th>\n",
       "      <th>Rating</th>\n",
       "      <th>Director</th>\n",
       "      <th>Actors</th>\n",
       "    </tr>\n",
       "  </thead>\n",
       "  <tbody>\n",
       "    <tr>\n",
       "      <th>0</th>\n",
       "      <td>1</td>\n",
       "      <td>News of the World</td>\n",
       "      <td>2020</td>\n",
       "      <td>118</td>\n",
       "      <td>Action, Adventure, Drama</td>\n",
       "      <td>6.8</td>\n",
       "      <td>Paul Greengrass</td>\n",
       "      <td>Tom Hanks, Helena Zengel, Tom Astor, Travis Jo...</td>\n",
       "    </tr>\n",
       "    <tr>\n",
       "      <th>1</th>\n",
       "      <td>2</td>\n",
       "      <td>Dances with Wolves</td>\n",
       "      <td>1990</td>\n",
       "      <td>181</td>\n",
       "      <td>Adventure, Drama, Western</td>\n",
       "      <td>8</td>\n",
       "      <td>Kevin Costner</td>\n",
       "      <td>Kevin Costner, Mary McDonnell, Graham Greene, ...</td>\n",
       "    </tr>\n",
       "    <tr>\n",
       "      <th>2</th>\n",
       "      <td>3</td>\n",
       "      <td>The Magnificent Seven</td>\n",
       "      <td>2016</td>\n",
       "      <td>132</td>\n",
       "      <td>Action, Adventure, Western</td>\n",
       "      <td>6.9</td>\n",
       "      <td>Antoine Fuqua</td>\n",
       "      <td>Denzel Washington, Chris Pratt, Ethan Hawke, V...</td>\n",
       "    </tr>\n",
       "    <tr>\n",
       "      <th>3</th>\n",
       "      <td>4</td>\n",
       "      <td>The Searchers</td>\n",
       "      <td>1956</td>\n",
       "      <td>119</td>\n",
       "      <td>Adventure, Drama, Western</td>\n",
       "      <td>7.9</td>\n",
       "      <td>John Ford</td>\n",
       "      <td>John Wayne, Jeffrey Hunter, Vera Miles, Ward Bond</td>\n",
       "    </tr>\n",
       "    <tr>\n",
       "      <th>4</th>\n",
       "      <td>5</td>\n",
       "      <td>The Revenant</td>\n",
       "      <td>2015</td>\n",
       "      <td>156</td>\n",
       "      <td>Action, Adventure, Drama</td>\n",
       "      <td>8</td>\n",
       "      <td>Alejandro G. Iñárritu</td>\n",
       "      <td>Leonardo DiCaprio, Tom Hardy, Will Poulter, Do...</td>\n",
       "    </tr>\n",
       "    <tr>\n",
       "      <th>...</th>\n",
       "      <td>...</td>\n",
       "      <td>...</td>\n",
       "      <td>...</td>\n",
       "      <td>...</td>\n",
       "      <td>...</td>\n",
       "      <td>...</td>\n",
       "      <td>...</td>\n",
       "      <td>...</td>\n",
       "    </tr>\n",
       "    <tr>\n",
       "      <th>95</th>\n",
       "      <td>96</td>\n",
       "      <td>Sky King</td>\n",
       "      <td>1951</td>\n",
       "      <td>30</td>\n",
       "      <td>Adventure, Western</td>\n",
       "      <td>7.7</td>\n",
       "      <td>Kirby Grant</td>\n",
       "      <td>Gloria Winters, Ewing Mitchell, Ron Hagerthy</td>\n",
       "    </tr>\n",
       "    <tr>\n",
       "      <th>96</th>\n",
       "      <td>97</td>\n",
       "      <td>The Undefeated</td>\n",
       "      <td>1969</td>\n",
       "      <td>119</td>\n",
       "      <td>Action, Adventure, Romance</td>\n",
       "      <td>6.7</td>\n",
       "      <td>Andrew V. McLaglen</td>\n",
       "      <td>John Wayne, Rock Hudson, Antonio Aguilar, Roma...</td>\n",
       "    </tr>\n",
       "    <tr>\n",
       "      <th>97</th>\n",
       "      <td>98</td>\n",
       "      <td>Zorro</td>\n",
       "      <td>1975</td>\n",
       "      <td>120</td>\n",
       "      <td>Action, Adventure, Comedy</td>\n",
       "      <td>6.5</td>\n",
       "      <td>Duccio Tessari</td>\n",
       "      <td>Alain Delon, Stanley Baker, Ottavia Piccolo, M...</td>\n",
       "    </tr>\n",
       "    <tr>\n",
       "      <th>98</th>\n",
       "      <td>99</td>\n",
       "      <td>Death Hunt</td>\n",
       "      <td>1981</td>\n",
       "      <td>97</td>\n",
       "      <td>Action, Adventure, Crime</td>\n",
       "      <td>7</td>\n",
       "      <td>Peter R. Hunt</td>\n",
       "      <td>Charles Bronson, Lee Marvin, Andrew Stevens, C...</td>\n",
       "    </tr>\n",
       "    <tr>\n",
       "      <th>99</th>\n",
       "      <td>100</td>\n",
       "      <td>The Horse Soldiers</td>\n",
       "      <td>1959</td>\n",
       "      <td>120</td>\n",
       "      <td>Adventure, Romance, War</td>\n",
       "      <td>7.2</td>\n",
       "      <td>John Ford</td>\n",
       "      <td>John Wayne, William Holden, Constance Towers, ...</td>\n",
       "    </tr>\n",
       "  </tbody>\n",
       "</table>\n",
       "<p>100 rows × 8 columns</p>\n",
       "</div>"
      ],
      "text/plain": [
       "    Chart Number                  Title Release Date Duration(min)  \\\n",
       "0              1      News of the World         2020           118   \n",
       "1              2     Dances with Wolves         1990           181   \n",
       "2              3  The Magnificent Seven         2016           132   \n",
       "3              4          The Searchers         1956           119   \n",
       "4              5           The Revenant         2015           156   \n",
       "..           ...                    ...          ...           ...   \n",
       "95            96               Sky King         1951            30   \n",
       "96            97         The Undefeated         1969           119   \n",
       "97            98                  Zorro         1975           120   \n",
       "98            99             Death Hunt         1981            97   \n",
       "99           100     The Horse Soldiers         1959           120   \n",
       "\n",
       "                                     Genre Rating               Director  \\\n",
       "0     Action, Adventure, Drama                6.8        Paul Greengrass   \n",
       "1    Adventure, Drama, Western                  8          Kevin Costner   \n",
       "2   Action, Adventure, Western                6.9          Antoine Fuqua   \n",
       "3    Adventure, Drama, Western                7.9              John Ford   \n",
       "4     Action, Adventure, Drama                  8  Alejandro G. Iñárritu   \n",
       "..                                     ...    ...                    ...   \n",
       "95          Adventure, Western                7.7            Kirby Grant   \n",
       "96  Action, Adventure, Romance                6.7     Andrew V. McLaglen   \n",
       "97   Action, Adventure, Comedy                6.5         Duccio Tessari   \n",
       "98    Action, Adventure, Crime                  7          Peter R. Hunt   \n",
       "99     Adventure, Romance, War                7.2              John Ford   \n",
       "\n",
       "                                               Actors  \n",
       "0   Tom Hanks, Helena Zengel, Tom Astor, Travis Jo...  \n",
       "1   Kevin Costner, Mary McDonnell, Graham Greene, ...  \n",
       "2   Denzel Washington, Chris Pratt, Ethan Hawke, V...  \n",
       "3   John Wayne, Jeffrey Hunter, Vera Miles, Ward Bond  \n",
       "4   Leonardo DiCaprio, Tom Hardy, Will Poulter, Do...  \n",
       "..                                                ...  \n",
       "95       Gloria Winters, Ewing Mitchell, Ron Hagerthy  \n",
       "96  John Wayne, Rock Hudson, Antonio Aguilar, Roma...  \n",
       "97  Alain Delon, Stanley Baker, Ottavia Piccolo, M...  \n",
       "98  Charles Bronson, Lee Marvin, Andrew Stevens, C...  \n",
       "99  John Wayne, William Holden, Constance Towers, ...  \n",
       "\n",
       "[100 rows x 8 columns]"
      ]
     },
     "metadata": {},
     "output_type": "display_data"
    }
   ],
   "source": [
    "\"\"\" \n",
    "get page data takes an IMDB chart url and pulls the data into a list\n",
    "\"\"\"\n",
    "\n",
    "def get_page_data(input_url):\n",
    "    # request url\n",
    "    page = requests.get(url=input_url)\n",
    "\n",
    "    # create a BeautifulSoup object\n",
    "    soup = BeautifulSoup(page.content, 'html.parser')\n",
    "\n",
    "    #page title -- WORKS\n",
    "    title = soup.find('title')\n",
    "    display(title.string)\n",
    "    # data['title'] = title.string\n",
    "\n",
    "\n",
    "    #get rating -- WORKS\n",
    "    ratings_container = soup.find_all(class_='lister-item-content')\n",
    "    ratings = []\n",
    "    for movie in ratings_container:\n",
    "        rating_div = movie.find(class_=\"inline-block ratings-imdb-rating\")\n",
    "        if rating_div !=None:\n",
    "            rating = rating_div.attrs.get(\"data-value\")\n",
    "            ratings.append(rating)\n",
    "        else:\n",
    "            ratings.append(\"NaN\")\n",
    "\n",
    "\n",
    "    #release-date \n",
    "\n",
    "\n",
    "    # Get genre --WORKS\n",
    "    genre_container = soup.find_all(class_='genre')\n",
    "    gr = [title.get_text() for title in genre_container]\n",
    "    gr = [title.split('\\n') for title in gr]\n",
    "    genre = [title[1] for title in gr]\n",
    "\n",
    "    # Get titles -- WORKS\n",
    "    titles_container = soup.find_all(class_= \"lister-item-header\")\n",
    "    titles = [title.get_text() for title in titles_container ] #loop to getText in days_container\n",
    "    titles = [title.split('\\n') for title in titles] #split by \\n\n",
    "    chart_number = [title[1] for title in titles] #split by \\n\n",
    "    titles_names = [title[2] for title in titles] #split by \\n\n",
    "    int_chart_number = [int(\"\".join([i for i in movie if i.isnumeric()])) for movie in chart_number]\n",
    " \n",
    "    # Get Actors & Directors -- WORKS\n",
    "    movie_list = soup.find_all(class_=\"lister-item-content\")\n",
    "    actor_links_by_movie = [movie.select('a[href*=\"/name\"]') for movie in movie_list]\n",
    "    actor_names_by_movie = [[href_link.get_text() for href_link in movie_list] for movie_list in actor_links_by_movie]\n",
    "    directors =[] ## This one for PD\n",
    "    actors =[] ## This one for pd\n",
    "    for movie in actor_names_by_movie:\n",
    "        if len(movie)>0:\n",
    "            directors.append(movie[0])\n",
    "            actors.append(\", \".join(movie[1:]))\n",
    "        else:\n",
    "            directors.append(\"NaN\")\n",
    "            actors.append(\"NaN\")\n",
    "\n",
    "    # Get Duration -- WORKS\n",
    "    dur_movies = soup.find_all(class_='lister-item-content')\n",
    "    movie_durs =[] \n",
    "    for movie in dur_movies:\n",
    "        duration_span = movie.find(class_=\"runtime\")\n",
    "        if duration_span != None:\n",
    "            get_text = duration_span.get_text()\n",
    "            get_int_text = \"\".join([i for i in get_text if i.isnumeric()])\n",
    "            movie_durs.append(int(get_int_text))\n",
    "        else:\n",
    "            movie_durs.append(\"NaN\")\n",
    "\n",
    "\n",
    "    # Filming date -- WORKS\n",
    "    film_release = soup.find_all(class_='lister-item-content')\n",
    "    release_year =  []\n",
    "    for movie in film_release:\n",
    "        year_div = movie.find(class_='lister-item-year text-muted unbold')\n",
    "        if year_div != None and len(year_div.get_text()) > 4:\n",
    "            get_ints = [i for i in year_div.get_text() if i.isnumeric()]\n",
    "            #print(get_ints)\n",
    "            year = \"\".join(get_ints[0:4])\n",
    "            release_year.append(year)\n",
    "        else:\n",
    "            release_year.append(\"NaN\")\n",
    "  \n",
    "\n",
    "\n",
    "    data_dict = {'Chart Number': chart_number,\n",
    "                    'Title': titles_names,\n",
    "                    'Release Date': filming_date,\n",
    "                    'Duration(min)': movie_durs,\n",
    "                    'Genre': genre,\n",
    "                    'Rating': ratings,\n",
    "                    'Director': directors,\n",
    "                    'Actors': actors}\n",
    "\n",
    "    return [int_chart_number,titles_names, release_year, movie_durs, genre, ratings,directors,actors]\n",
    "\n",
    "## returns the lists of data for the first 50\n",
    "first_50 = get_page_data(\"https://www.imdb.com/search/title/?genres=western&genres=Adventure&explore=title_type,genres&ref_=adv_explore_rhs\")\n",
    "## returns the lists of data for the second 50\n",
    "second_50 = get_page_data(\"https://www.imdb.com/search/title/?genres=western,adventure&start=51&explore=title_type,genres&ref_=adv_nxt\")\n",
    "\n",
    "# Combines them both into a dictionary containing all 100\n",
    "data_dict = {'Chart Number': first_50[0]+second_50[0],\n",
    "                    'Title': first_50[1]+second_50[1],\n",
    "                    'Release Date': first_50[2]+second_50[2],\n",
    "                    'Duration(min)': first_50[3]+second_50[3],\n",
    "                    'Genre': first_50[4]+second_50[4],\n",
    "                    'Rating': first_50[5]+second_50[5],\n",
    "                    'Director': first_50[6]+second_50[6],\n",
    "                    'Actors': first_50[7]+second_50[7]}\n",
    "\n",
    "# creates dataframe from the dictionary\n",
    "df = pd.DataFrame(data_dict)\n",
    "\n",
    "display(df)"
   ]
  },
  {
   "cell_type": "code",
   "execution_count": null,
   "metadata": {
    "cell_id": "00007-179d0a45-cb5e-4fdb-9055-856df6b76c33",
    "deepnote_cell_type": "code",
    "deepnote_to_be_reexecuted": true,
    "execution_millis": 37,
    "source_hash": "52aaf8d2",
    "tags": []
   },
   "outputs": [
    {
     "data": {
      "application/vnd.deepnote.dataframe.v2+json": {
       "column_count": 8,
       "columns": [
        {
         "dtype": "int64",
         "name": "Chart Number",
         "stats": {
          "histogram": [
           {
            "bin_end": 10.9,
            "bin_start": 1,
            "count": 10
           },
           {
            "bin_end": 20.8,
            "bin_start": 10.9,
            "count": 10
           },
           {
            "bin_end": 30.700000000000003,
            "bin_start": 20.8,
            "count": 10
           },
           {
            "bin_end": 40.6,
            "bin_start": 30.700000000000003,
            "count": 10
           },
           {
            "bin_end": 50.5,
            "bin_start": 40.6,
            "count": 10
           },
           {
            "bin_end": 60.400000000000006,
            "bin_start": 50.5,
            "count": 10
           },
           {
            "bin_end": 70.3,
            "bin_start": 60.400000000000006,
            "count": 10
           },
           {
            "bin_end": 80.2,
            "bin_start": 70.3,
            "count": 10
           },
           {
            "bin_end": 90.10000000000001,
            "bin_start": 80.2,
            "count": 10
           },
           {
            "bin_end": 100,
            "bin_start": 90.10000000000001,
            "count": 10
           }
          ],
          "max": 100,
          "min": 1,
          "nan_count": 0,
          "unique_count": 100
         }
        },
        {
         "dtype": "object",
         "name": "Title",
         "stats": {
          "categories": [
           {
            "count": 3,
            "name": "Zorro"
           },
           {
            "count": 2,
            "name": "The Magnificent Seven"
           },
           {
            "count": 95,
            "name": "95 others"
           }
          ],
          "nan_count": 0,
          "unique_count": 97
         }
        },
        {
         "dtype": "object",
         "name": "Release Date",
         "stats": {
          "categories": [
           {
            "count": 5,
            "name": "1969"
           },
           {
            "count": 4,
            "name": "1970"
           },
           {
            "count": 91,
            "name": "51 others"
           }
          ],
          "nan_count": 0,
          "unique_count": 53
         }
        },
        {
         "dtype": "object",
         "name": "Duration(min)",
         "stats": {
          "categories": [
           {
            "count": 6,
            "name": "NaN"
           },
           {
            "count": 5,
            "name": "119"
           },
           {
            "count": 89,
            "name": "58 others"
           }
          ],
          "nan_count": 0,
          "unique_count": 60
         }
        },
        {
         "dtype": "object",
         "name": "Genre",
         "stats": {
          "categories": [
           {
            "count": 14,
            "name": "Adventure, Drama, Western            "
           },
           {
            "count": 10,
            "name": "Action, Adventure, Comedy            "
           },
           {
            "count": 76,
            "name": "33 others"
           }
          ],
          "nan_count": 0,
          "unique_count": 35
         }
        },
        {
         "dtype": "object",
         "name": "Rating",
         "stats": {
          "categories": [
           {
            "count": 7,
            "name": "6.7"
           },
           {
            "count": 7,
            "name": "6.9"
           },
           {
            "count": 86,
            "name": "35 others"
           }
          ],
          "nan_count": 0,
          "unique_count": 37
         }
        },
        {
         "dtype": "object",
         "name": "Director",
         "stats": {
          "categories": [
           {
            "count": 4,
            "name": "John Ford"
           },
           {
            "count": 2,
            "name": "Howard Hawks"
           },
           {
            "count": 94,
            "name": "87 others"
           }
          ],
          "nan_count": 0,
          "unique_count": 89
         }
        },
        {
         "dtype": "object",
         "name": "Actors",
         "stats": {
          "categories": [
           {
            "count": 2,
            "name": "NaN"
           },
           {
            "count": 1,
            "name": "Charles Chaplin, Mack Swain, Tom Murray, Henry Bergman"
           },
           {
            "count": 97,
            "name": "97 others"
           }
          ],
          "nan_count": 0,
          "unique_count": 99
         }
        },
        {
         "dtype": "int64",
         "name": "_deepnote_index_column"
        }
       ],
       "row_count": 100,
       "rows_bottom": null,
       "rows_top": [
        {
         "Actors": "Charles Chaplin, Mack Swain, Tom Murray, Henry Bergman",
         "Chart Number": 72,
         "Director": "Charles Chaplin",
         "Duration(min)": "95",
         "Genre": "Adventure, Comedy, Drama            ",
         "Rating": "8.2",
         "Release Date": "1925",
         "Title": "The Gold Rush",
         "_deepnote_index_column": 71
        },
        {
         "Actors": "John Wayne, Claire Trevor, Andy Devine, John Carradine",
         "Chart Number": 22,
         "Director": "John Ford",
         "Duration(min)": "96",
         "Genre": "Adventure, Drama, Western            ",
         "Rating": "7.8",
         "Release Date": "1939",
         "Title": "Stagecoach",
         "_deepnote_index_column": 21
        },
        {
         "Actors": "John Wayne, Henry Fonda, Shirley Temple, Pedro Armendáriz",
         "Chart Number": 83,
         "Director": "John Ford",
         "Duration(min)": "128",
         "Genre": "Action, Adventure, Western            ",
         "Rating": "7.5",
         "Release Date": "1948",
         "Title": "Fort Apache",
         "_deepnote_index_column": 82
        },
        {
         "Actors": "Humphrey Bogart, Walter Huston, Tim Holt, Bruce Bennett",
         "Chart Number": 47,
         "Director": "John Huston",
         "Duration(min)": "126",
         "Genre": "Adventure, Drama, Western            ",
         "Rating": "8.2",
         "Release Date": "1948",
         "Title": "The Treasure of the Sierra Madre",
         "_deepnote_index_column": 46
        },
        {
         "Actors": "Arthur Rosson, John Wayne, Montgomery Clift, Joanne Dru, Walter Brennan",
         "Chart Number": 34,
         "Director": "Howard Hawks",
         "Duration(min)": "133",
         "Genre": "Action, Adventure, Drama            ",
         "Rating": "7.8",
         "Release Date": "1948",
         "Title": "Red River",
         "_deepnote_index_column": 33
        },
        {
         "Actors": "Gloria Winters, Ewing Mitchell, Ron Hagerthy",
         "Chart Number": 96,
         "Director": "Kirby Grant",
         "Duration(min)": "30",
         "Genre": "Adventure, Western            ",
         "Rating": "7.7",
         "Release Date": "1951",
         "Title": "Sky King",
         "_deepnote_index_column": 95
        },
        {
         "Actors": "Jean Negulesco, Robert Mitchum, Marilyn Monroe, Rory Calhoun, Tommy Rettig",
         "Chart Number": 69,
         "Director": "Otto Preminger",
         "Duration(min)": "91",
         "Genre": "Action, Adventure, Drama            ",
         "Rating": "6.6",
         "Release Date": "1954",
         "Title": "River of No Return",
         "_deepnote_index_column": 68
        },
        {
         "Actors": "John Wayne, Jeffrey Hunter, Vera Miles, Ward Bond",
         "Chart Number": 4,
         "Director": "John Ford",
         "Duration(min)": "119",
         "Genre": "Adventure, Drama, Western            ",
         "Rating": "7.9",
         "Release Date": "1956",
         "Title": "The Searchers",
         "_deepnote_index_column": 3
        },
        {
         "Actors": "James Stewart, Audie Murphy, Dan Duryea, Dianne Foster",
         "Chart Number": 93,
         "Director": "James Neilson",
         "Duration(min)": "90",
         "Genre": "Action, Adventure, Drama            ",
         "Rating": "6.7",
         "Release Date": "1957",
         "Title": "Night Passage",
         "_deepnote_index_column": 92
        },
        {
         "Actors": "Gene Sheldon, Henry Calvin, Don Diamond",
         "Chart Number": 78,
         "Director": "Guy Williams",
         "Duration(min)": "30",
         "Genre": "Action, Adventure, Comedy            ",
         "Rating": "8.2",
         "Release Date": "1957",
         "Title": "Zorro",
         "_deepnote_index_column": 77
        },
        {
         "Actors": "Dorothy McGuire, Fess Parker, Tommy Kirk, Jeff York",
         "Chart Number": 59,
         "Director": "Robert Stevenson",
         "Duration(min)": "83",
         "Genre": "Adventure, Drama, Family            ",
         "Rating": "7.3",
         "Release Date": "1957",
         "Title": "Old Yeller",
         "_deepnote_index_column": 58
        },
        {
         "Actors": "John Wayne, William Holden, Constance Towers, Judson Pratt",
         "Chart Number": 100,
         "Director": "John Ford",
         "Duration(min)": "120",
         "Genre": "Adventure, Romance, War            ",
         "Rating": "7.2",
         "Release Date": "1959",
         "Title": "The Horse Soldiers",
         "_deepnote_index_column": 99
        },
        {
         "Actors": "John Wayne, Richard Widmark, Laurence Harvey, Frankie Avalon",
         "Chart Number": 57,
         "Director": "John Wayne",
         "Duration(min)": "162",
         "Genre": "Adventure, Drama, History            ",
         "Rating": "6.9",
         "Release Date": "1960",
         "Title": "The Alamo",
         "_deepnote_index_column": 56
        },
        {
         "Actors": "Yul Brynner, Steve McQueen, Charles Bronson, Eli Wallach",
         "Chart Number": 6,
         "Director": "John Sturges",
         "Duration(min)": "128",
         "Genre": "Action, Adventure, Western            ",
         "Rating": "7.7",
         "Release Date": "1960",
         "Title": "The Magnificent Seven",
         "_deepnote_index_column": 5
        },
        {
         "Actors": "John Wayne, John Wayne, Stuart Whitman, Ina Balin, Nehemiah Persoff",
         "Chart Number": 90,
         "Director": "Michael Curtiz",
         "Duration(min)": "107",
         "Genre": "Action, Adventure, Romance            ",
         "Rating": "6.9",
         "Release Date": "1961",
         "Title": "The Comancheros",
         "_deepnote_index_column": 89
        },
        {
         "Actors": "Patricia Blair, Darby Hinton, Dal McKennon",
         "Chart Number": 52,
         "Director": "Fess Parker",
         "Duration(min)": "60",
         "Genre": "Adventure, Western            ",
         "Rating": "7.4",
         "Release Date": "1964",
         "Title": "Daniel Boone",
         "_deepnote_index_column": 51
        },
        {
         "Actors": "Ross Martin, Dick Cangey, Whitey Hughes",
         "Chart Number": 21,
         "Director": "Robert Conrad",
         "Duration(min)": "50",
         "Genre": "Action, Adventure, Sci-Fi            ",
         "Rating": "8.1",
         "Release Date": "1965",
         "Title": "The Wild Wild West",
         "_deepnote_index_column": 20
        },
        {
         "Actors": "Tony Curtis, Natalie Wood, Jack Lemmon, Peter Falk",
         "Chart Number": 38,
         "Director": "Blake Edwards",
         "Duration(min)": "160",
         "Genre": "Action, Adventure, Comedy            ",
         "Rating": "7.3",
         "Release Date": "1965",
         "Title": "The Great Race",
         "_deepnote_index_column": 37
        },
        {
         "Actors": "Burt Lancaster, Lee Marvin, Robert Ryan, Woody Strode",
         "Chart Number": 43,
         "Director": "Richard Brooks",
         "Duration(min)": "117",
         "Genre": "Action, Adventure, Western            ",
         "Rating": "7.3",
         "Release Date": "1966",
         "Title": "The Professionals",
         "_deepnote_index_column": 42
        },
        {
         "Actors": "Bobby Sherman, David Soul, Bridget Hanley",
         "Chart Number": 87,
         "Director": "Robert Brown",
         "Duration(min)": "60",
         "Genre": "Adventure, Comedy, Western            ",
         "Rating": "7.7",
         "Release Date": "1968",
         "Title": "Here Come the Brides",
         "_deepnote_index_column": 86
        },
        {
         "Actors": "Gregory Peck, Omar Sharif, Telly Savalas, Camilla Sparv",
         "Chart Number": 61,
         "Director": "J. Lee Thompson",
         "Duration(min)": "128",
         "Genre": "Action, Adventure, Romance            ",
         "Rating": "6.8",
         "Release Date": "1969",
         "Title": "Mackenna's Gold",
         "_deepnote_index_column": 60
        },
        {
         "Actors": "Jim Brown, Raquel Welch, Burt Reynolds, Fernando Lamas",
         "Chart Number": 73,
         "Director": "Tom Gries",
         "Duration(min)": "110",
         "Genre": "Adventure, Romance, War            ",
         "Rating": "6",
         "Release Date": "1969",
         "Title": "100 Rifles",
         "_deepnote_index_column": 72
        },
        {
         "Actors": "John Wayne, Rock Hudson, Antonio Aguilar, Roman Gabriel",
         "Chart Number": 97,
         "Director": "Andrew V. McLaglen",
         "Duration(min)": "119",
         "Genre": "Action, Adventure, Romance            ",
         "Rating": "6.7",
         "Release Date": "1969",
         "Title": "The Undefeated",
         "_deepnote_index_column": 96
        },
        {
         "Actors": "William Holden, Ernest Borgnine, Robert Ryan, Edmond O'Brien",
         "Chart Number": 12,
         "Director": "Sam Peckinpah",
         "Duration(min)": "135",
         "Genre": "Action, Adventure, Western            ",
         "Rating": "7.9",
         "Release Date": "1969",
         "Title": "The Wild Bunch",
         "_deepnote_index_column": 11
        },
        {
         "Actors": "John Wayne, Kim Darby, Glen Campbell, Jeremy Slate",
         "Chart Number": 32,
         "Director": "Henry Hathaway",
         "Duration(min)": "128",
         "Genre": "Adventure, Drama, Western            ",
         "Rating": "7.4",
         "Release Date": "1969",
         "Title": "True Grit",
         "_deepnote_index_column": 31
        },
        {
         "Actors": "Clint Eastwood, Shirley MacLaine, Manolo Fábregas, Alberto Morin",
         "Chart Number": 54,
         "Director": "Don Siegel",
         "Duration(min)": "116",
         "Genre": "Adventure, Romance, War            ",
         "Rating": "7",
         "Release Date": "1970",
         "Title": "Two Mules for Sister Sara",
         "_deepnote_index_column": 53
        },
        {
         "Actors": "Dustin Hoffman, Faye Dunaway, Chief Dan George, Martin Balsam",
         "Chart Number": 46,
         "Director": "Arthur Penn",
         "Duration(min)": "139",
         "Genre": "Adventure, Comedy, Drama            ",
         "Rating": "7.6",
         "Release Date": "1970",
         "Title": "Little Big Man",
         "_deepnote_index_column": 45
        },
        {
         "Actors": "John Wayne, Jorge Rivero, Jennifer O'Neill, Jack Elam",
         "Chart Number": 44,
         "Director": "Howard Hawks",
         "Duration(min)": "114",
         "Genre": "Adventure, Romance, War            ",
         "Rating": "6.8",
         "Release Date": "1970",
         "Title": "Rio Lobo",
         "_deepnote_index_column": 43
        },
        {
         "Actors": "Richard Harris, Judith Anderson, Jean Gascon, Manu Tupou",
         "Chart Number": 81,
         "Director": "Elliot Silverstein",
         "Duration(min)": "114",
         "Genre": "Adventure, Drama, Western            ",
         "Rating": "6.9",
         "Release Date": "1970",
         "Title": "A Man Called Horse",
         "_deepnote_index_column": 80
        },
        {
         "Actors": "Richard Harris, John Huston, Henry Wilcoxon, Percy Herbert",
         "Chart Number": 25,
         "Director": "Richard C. Sarafian",
         "Duration(min)": "104",
         "Genre": "Adventure, Drama, Western            ",
         "Rating": "6.8",
         "Release Date": "1971",
         "Title": "Man in the Wilderness",
         "_deepnote_index_column": 24
        },
        {
         "Actors": "Burt Lancaster, Robert Ryan, Lee J. Cobb, Robert Duvall",
         "Chart Number": 88,
         "Director": "Michael Winner",
         "Duration(min)": "99",
         "Genre": "Adventure, Western            ",
         "Rating": "7",
         "Release Date": "1971",
         "Title": "Lawman",
         "_deepnote_index_column": 87
        },
        {
         "Actors": "Robert Redford, Will Geer, Delle Bolton, Josh Albee",
         "Chart Number": 33,
         "Director": "Sydney Pollack",
         "Duration(min)": "108",
         "Genre": "Adventure, Drama, Western            ",
         "Rating": "7.6",
         "Release Date": "1972",
         "Title": "Jeremiah Johnson",
         "_deepnote_index_column": 32
        },
        {
         "Actors": "John Wayne, Roscoe Lee Browne, Bruce Dern, Colleen Dewhurst",
         "Chart Number": 45,
         "Director": "Mark Rydell",
         "Duration(min)": "134",
         "Genre": "Adventure, Drama, Western            ",
         "Rating": "7.4",
         "Release Date": "1972",
         "Title": "The Cowboys",
         "_deepnote_index_column": 44
        },
        {
         "Actors": "Radames Pera, Keye Luke, Philip Ahn",
         "Chart Number": 40,
         "Director": "David Carradine",
         "Duration(min)": "60",
         "Genre": "Adventure, Drama, Western            ",
         "Rating": "7.7",
         "Release Date": "1972",
         "Title": "Kung Fu",
         "_deepnote_index_column": 39
        },
        {
         "Actors": "Alain Delon, Stanley Baker, Ottavia Piccolo, Moustache",
         "Chart Number": 98,
         "Director": "Duccio Tessari",
         "Duration(min)": "120",
         "Genre": "Action, Adventure, Comedy            ",
         "Rating": "6.5",
         "Release Date": "1975",
         "Title": "Zorro",
         "_deepnote_index_column": 97
        },
        {
         "Actors": "Gene Hackman, Candice Bergen, James Coburn, Ben Johnson",
         "Chart Number": 84,
         "Director": "Richard Brooks",
         "Duration(min)": "132",
         "Genre": "Action, Adventure, Western            ",
         "Rating": "6.7",
         "Release Date": "1975",
         "Title": "Bite the Bullet",
         "_deepnote_index_column": 83
        },
        {
         "Actors": "Charles Bronson, Jack Warden, Will Sampson, Kim Novak",
         "Chart Number": 86,
         "Director": "J. Lee Thompson",
         "Duration(min)": "97",
         "Genre": "Action, Adventure, Western            ",
         "Rating": "6.2",
         "Release Date": "1977",
         "Title": "The White Buffalo",
         "_deepnote_index_column": 85
        },
        {
         "Actors": "Barbara Carrera, Richard Chamberlain, Robert Conrad",
         "Chart Number": 31,
         "Director": "Raymond Burr",
         "Duration(min)": "1256",
         "Genre": "Action, Adventure, Drama            ",
         "Rating": "8.3",
         "Release Date": "1978",
         "Title": "Centennial",
         "_deepnote_index_column": 30
        },
        {
         "Actors": "Gene Wilder, Harrison Ford, Ramon Bieri, Val Bisoglio",
         "Chart Number": 92,
         "Director": "Robert Aldrich",
         "Duration(min)": "119",
         "Genre": "Adventure, Comedy, Drama            ",
         "Rating": "6.4",
         "Release Date": "1979",
         "Title": "The Frisco Kid",
         "_deepnote_index_column": 91
        },
        {
         "Actors": "Kris Kristofferson, Christopher Walken, John Hurt, Sam Waterston",
         "Chart Number": 15,
         "Director": "Michael Cimino",
         "Duration(min)": "219",
         "Genre": "Adventure, Drama, Western            ",
         "Rating": "6.8",
         "Release Date": "1980",
         "Title": "Heaven's Gate",
         "_deepnote_index_column": 14
        },
        {
         "Actors": "Charles Bronson, Lee Marvin, Andrew Stevens, Carl Weathers",
         "Chart Number": 99,
         "Director": "Peter R. Hunt",
         "Duration(min)": "97",
         "Genre": "Action, Adventure, Crime            ",
         "Rating": "7",
         "Release Date": "1981",
         "Title": "Death Hunt",
         "_deepnote_index_column": 98
        },
        {
         "Actors": "Kirk Douglas, Tom Burlinson, Terence Donovan, Tommy Dysart",
         "Chart Number": 41,
         "Director": "George Miller",
         "Duration(min)": "102",
         "Genre": "Adventure, Drama, Romance            ",
         "Rating": "7.3",
         "Release Date": "1982",
         "Title": "The Man from Snowy River",
         "_deepnote_index_column": 40
        },
        {
         "Actors": "Tommy Lee Jones, Danny Glover, Diane Lane",
         "Chart Number": 23,
         "Director": "Robert Duvall",
         "Duration(min)": "384",
         "Genre": "Adventure, Drama, Western            ",
         "Rating": "8.7",
         "Release Date": "1989",
         "Title": "Lonesome Dove",
         "_deepnote_index_column": 22
        },
        {
         "Actors": "Kelly Brown, Debi Kalman, Christine Taylor",
         "Chart Number": 60,
         "Director": "David Brisbin",
         "Duration(min)": "30",
         "Genre": "Adventure, Comedy, Family            ",
         "Rating": "7.2",
         "Release Date": "1989",
         "Title": "Hey Dude",
         "_deepnote_index_column": 59
        },
        {
         "Actors": "Kevin Costner, Mary McDonnell, Graham Greene, Rodney A. Grant",
         "Chart Number": 2,
         "Director": "Kevin Costner",
         "Duration(min)": "181",
         "Genre": "Adventure, Drama, Western            ",
         "Rating": "8",
         "Release Date": "1990",
         "Title": "Dances with Wolves",
         "_deepnote_index_column": 1
        },
        {
         "Actors": "Michael J. Fox, Christopher Lloyd, Mary Steenburgen, Thomas F. Wilson",
         "Chart Number": 13,
         "Director": "Robert Zemeckis",
         "Duration(min)": "118",
         "Genre": "Adventure, Comedy, Sci-Fi            ",
         "Rating": "7.4",
         "Release Date": "1990",
         "Title": "Back to the Future Part III",
         "_deepnote_index_column": 12
        },
        {
         "Actors": "Duncan Regehr, James Victor, Juan Diego Botto",
         "Chart Number": 55,
         "Director": "Patrice Martinez",
         "Duration(min)": "30",
         "Genre": "Adventure, Family, Romance            ",
         "Rating": "6.8",
         "Release Date": "1990",
         "Title": "Zorro",
         "_deepnote_index_column": 54
        },
        {
         "Actors": "Tom Selleck, Laura San Giacomo, Alan Rickman, Chris Haywood",
         "Chart Number": 26,
         "Director": "Simon Wincer",
         "Duration(min)": "119",
         "Genre": "Action, Adventure, Drama            ",
         "Rating": "6.9",
         "Release Date": "1990",
         "Title": "Quigley Down Under",
         "_deepnote_index_column": 25
        },
        {
         "Actors": "Simon Wells, James Stewart, John Cleese, Amy Irving, Phillip Glasser",
         "Chart Number": 80,
         "Director": "Phil Nibbelink",
         "Duration(min)": "75",
         "Genre": "Animation, Adventure, Family            ",
         "Rating": "6.5",
         "Release Date": "1991",
         "Title": "An American Tail: Fievel Goes West",
         "_deepnote_index_column": 79
        },
        {
         "Actors": "Tom Cruise, Nicole Kidman, Thomas Gibson, Robert Prosky",
         "Chart Number": 29,
         "Director": "Ron Howard",
         "Duration(min)": "140",
         "Genre": "Adventure, Drama, Romance            ",
         "Rating": "6.6",
         "Release Date": "1992",
         "Title": "Far and Away",
         "_deepnote_index_column": 28
        },
        {
         "Actors": "Clarence Gilyard Jr., Sheree J. Wilson, Noble Willingham",
         "Chart Number": 9,
         "Director": "Chuck Norris",
         "Duration(min)": "43",
         "Genre": "Action, Adventure, Crime            ",
         "Rating": "5.5",
         "Release Date": "1993",
         "Title": "Walker, Texas Ranger",
         "_deepnote_index_column": 8
        },
        {
         "Actors": "Julius Carry, Christian Clemenson, Comet",
         "Chart Number": 58,
         "Director": "Bruce Campbell",
         "Duration(min)": "45",
         "Genre": "Action, Adventure, Comedy            ",
         "Rating": "8.3",
         "Release Date": "1993",
         "Title": "The Adventures of Brisco County, Jr.",
         "_deepnote_index_column": 57
        },
        {
         "Actors": "Kevin Costner, Dennis Quaid, Gene Hackman, David Andrews",
         "Chart Number": 19,
         "Director": "Lawrence Kasdan",
         "Duration(min)": "191",
         "Genre": "Adventure, Biography, Crime            ",
         "Rating": "6.7",
         "Release Date": "1994",
         "Title": "Wyatt Earp",
         "_deepnote_index_column": 18
        },
        {
         "Actors": "Madeleine Stowe, Mary Stuart Masterson, Andie MacDowell, Drew Barrymore",
         "Chart Number": 56,
         "Director": "Jonathan Kaplan",
         "Duration(min)": "99",
         "Genre": "Action, Adventure, Romance            ",
         "Rating": "5.2",
         "Release Date": "1994",
         "Title": "Bad Girls",
         "_deepnote_index_column": 55
        },
        {
         "Actors": "John Candy, Joe Bays, Abraham Benrubi, Jill Boyd",
         "Chart Number": 89,
         "Director": "Peter Markle",
         "Duration(min)": "107",
         "Genre": "Adventure, Comedy, Western            ",
         "Rating": "4.9",
         "Release Date": "1994",
         "Title": "Wagons East",
         "_deepnote_index_column": 88
        },
        {
         "Actors": "Mel Gibson, Jodie Foster, James Garner, Graham Greene",
         "Chart Number": 27,
         "Director": "Richard Donner",
         "Duration(min)": "127",
         "Genre": "Action, Adventure, Comedy            ",
         "Rating": "7.1",
         "Release Date": "1994",
         "Title": "Maverick",
         "_deepnote_index_column": 26
        },
        {
         "Actors": "Johnny Depp, Gary Farmer, Crispin Glover, Lance Henriksen",
         "Chart Number": 42,
         "Director": "Jim Jarmusch",
         "Duration(min)": "121",
         "Genre": "Adventure, Drama, Fantasy            ",
         "Rating": "7.6",
         "Release Date": "1995",
         "Title": "Dead Man",
         "_deepnote_index_column": 41
        },
        {
         "Actors": "Tom Berenger, Barbara Hershey, Kurtwood Smith, Steve Reevis",
         "Chart Number": 95,
         "Director": "Tab Murphy",
         "Duration(min)": "118",
         "Genre": "Adventure, Western            ",
         "Rating": "7",
         "Release Date": "1995",
         "Title": "Last of the Dogmen",
         "_deepnote_index_column": 94
        },
        {
         "Actors": "Patrick Swayze, Oliver Platt, Roger Aaron Brown, Nick Stahl",
         "Chart Number": 71,
         "Director": "Jeremiah S. Chechik",
         "Duration(min)": "96",
         "Genre": "Adventure, Family, Fantasy            ",
         "Rating": "5.9",
         "Release Date": "1995",
         "Title": "Tall Tale",
         "_deepnote_index_column": 70
        },
        {
         "Actors": "Jonathan Taylor Thomas, Brad Renfro, Charles Rocket, Eric Schweig",
         "Chart Number": 76,
         "Director": "Peter Hewitt",
         "Duration(min)": "97",
         "Genre": "Adventure, Comedy, Drama            ",
         "Rating": "5.5",
         "Release Date": "1995",
         "Title": "Tom and Huck",
         "_deepnote_index_column": 75
        },
        {
         "Actors": "Antonio Banderas, Anthony Hopkins, Catherine Zeta-Jones, José María de Tavira",
         "Chart Number": 17,
         "Director": "Martin Campbell",
         "Duration(min)": "136",
         "Genre": "Action, Adventure, Comedy            ",
         "Rating": "6.7",
         "Release Date": "1998",
         "Title": "The Mask of Zorro",
         "_deepnote_index_column": 16
        },
        {
         "Actors": "Chris Farley, Matthew Perry, Bokeem Woodbine, Barry Del Sherman",
         "Chart Number": 68,
         "Director": "Christopher Guest",
         "Duration(min)": "90",
         "Genre": "Adventure, Comedy, Western            ",
         "Rating": "5.9",
         "Release Date": "1998",
         "Title": "Almost Heroes",
         "_deepnote_index_column": 67
        },
        {
         "Actors": "Jackie Chan, Owen Wilson, Lucy Liu, Brandon Merrill",
         "Chart Number": 28,
         "Director": "Tom Dey",
         "Duration(min)": "110",
         "Genre": "Action, Adventure, Comedy            ",
         "Rating": "6.6",
         "Release Date": "2000",
         "Title": "Shanghai Noon",
         "_deepnote_index_column": 27
        },
        {
         "Actors": "Lorna Cook, Matt Damon, James Cromwell, Daniel Studi, Chopper Bernet",
         "Chart Number": 20,
         "Director": "Kelly Asbury",
         "Duration(min)": "83",
         "Genre": "Animation, Adventure, Drama            ",
         "Rating": "7.2",
         "Release Date": "2002",
         "Title": "Spirit: Stallion of the Cimarron",
         "_deepnote_index_column": 19
        },
        {
         "Actors": "Heath Ledger, Orlando Bloom, Geoffrey Rush, Naomi Watts",
         "Chart Number": 70,
         "Director": "Gregor Jordan",
         "Duration(min)": "110",
         "Genre": "Action, Adventure, Biography            ",
         "Rating": "6.5",
         "Release Date": "2003",
         "Title": "Ned Kelly",
         "_deepnote_index_column": 69
        },
        {
         "Actors": "Tommy Lee Jones, Cate Blanchett, Evan Rachel Wood, Jenna Boyd",
         "Chart Number": 37,
         "Director": "Ron Howard",
         "Duration(min)": "137",
         "Genre": "Adventure, Thriller, Western            ",
         "Rating": "6.5",
         "Release Date": "2003",
         "Title": "The Missing",
         "_deepnote_index_column": 36
        },
        {
         "Actors": "Viggo Mortensen, Omar Sharif, Zuleikha Robinson, Louise Lombard",
         "Chart Number": 48,
         "Director": "Joe Johnston",
         "Duration(min)": "136",
         "Genre": "Action, Adventure, Biography            ",
         "Rating": "6.7",
         "Release Date": "2004",
         "Title": "Hidalgo",
         "_deepnote_index_column": 47
        },
        {
         "Actors": "John Sanford, Judi Dench, Cuba Gooding Jr., Jennifer Tilly, Randy Quaid",
         "Chart Number": 65,
         "Director": "Will Finn",
         "Duration(min)": "76",
         "Genre": "Animation, Adventure, Comedy            ",
         "Rating": "5.4",
         "Release Date": "2004",
         "Title": "Home on the Range",
         "_deepnote_index_column": 64
        },
        {
         "Actors": "Jackie Chan, Steve Coogan, Jim Broadbent, Kathy Bates",
         "Chart Number": 39,
         "Director": "Frank Coraci",
         "Duration(min)": "120",
         "Genre": "Action, Adventure, Comedy            ",
         "Rating": "5.9",
         "Release Date": "2004",
         "Title": "Around the World in 80 Days",
         "_deepnote_index_column": 38
        },
        {
         "Actors": "Antonio Banderas, Catherine Zeta-Jones, Rufus Sewell, Alberto Reyes",
         "Chart Number": 36,
         "Director": "Martin Campbell",
         "Duration(min)": "129",
         "Genre": "Action, Adventure, Romance            ",
         "Rating": "6",
         "Release Date": "2005",
         "Title": "The Legend of Zorro",
         "_deepnote_index_column": 35
        },
        {
         "Actors": "Irene Bedard, Gil Birmingham, John Terry",
         "Chart Number": 51,
         "Director": "Joseph M. Marshall",
         "Duration(min)": "552",
         "Genre": "Adventure, Drama, History            ",
         "Rating": "8.1",
         "Release Date": "2005",
         "Title": "Into the West",
         "_deepnote_index_column": 50
        },
        {
         "Actors": "Tommy Lee Jones, Barry Pepper, Dwight Yoakam, January Jones",
         "Chart Number": 82,
         "Director": "Tommy Lee Jones",
         "Duration(min)": "121",
         "Genre": "Adventure, Crime, Drama            ",
         "Rating": "7.4",
         "Release Date": "2005",
         "Title": "The Three Burials of Melquiades Estrada",
         "_deepnote_index_column": 81
        },
        {
         "Actors": "Alan Cumming, Neal McDonough, Kathleen Robertson",
         "Chart Number": 74,
         "Director": "Zooey Deschanel",
         "Duration(min)": "270",
         "Genre": "Adventure, Fantasy, Sci-Fi            ",
         "Rating": "7.2",
         "Release Date": "2007",
         "Title": "Tin Man",
         "_deepnote_index_column": 73
        },
        {
         "Actors": "Nicole Kidman, Hugh Jackman, Shea Adams, Eddie Baroo",
         "Chart Number": 16,
         "Director": "Baz Luhrmann",
         "Duration(min)": "165",
         "Genre": "Adventure, Comedy, Drama            ",
         "Rating": "6.6",
         "Release Date": "2008",
         "Title": "Australia",
         "_deepnote_index_column": 15
        },
        {
         "Actors": "Kang-ho Song, Lee Byung-Hun, Jung Woo-sung, Je-mun Yun",
         "Chart Number": 67,
         "Director": "Jee-woon Kim",
         "Duration(min)": "130",
         "Genre": "Action, Adventure, Comedy            ",
         "Rating": "7.3",
         "Release Date": "2008",
         "Title": "The Good the Bad the Weird",
         "_deepnote_index_column": 66
        },
        {
         "Actors": "Josh Blaylock, Sophia Marzocchi, Spider Madison",
         "Chart Number": 63,
         "Director": "Rob Wiethoff",
         "Duration(min)": "NaN",
         "Genre": "Action, Adventure, Crime            ",
         "Rating": "9.5",
         "Release Date": "2010",
         "Title": "Red Dead Redemption",
         "_deepnote_index_column": 62
        },
        {
         "Actors": "Matthew Perry, Wayne Newton, Kris Kristofferson, Ron Perlman",
         "Chart Number": 53,
         "Director": "Josh Sawyer",
         "Duration(min)": "NaN",
         "Genre": "Action, Adventure, Sci-Fi            ",
         "Rating": "8.8",
         "Release Date": "2010",
         "Title": "Fallout: New Vegas",
         "_deepnote_index_column": 52
        },
        {
         "Actors": "Michelle Williams, Bruce Greenwood, Paul Dano, Will Patton",
         "Chart Number": 64,
         "Director": "Kelly Reichardt",
         "Duration(min)": "104",
         "Genre": "Adventure, Drama, Thriller            ",
         "Rating": "6.6",
         "Release Date": "2010",
         "Title": "Meek's Cutoff",
         "_deepnote_index_column": 63
        },
        {
         "Actors": "Johnny Depp, Isla Fisher, Timothy Olyphant, Abigail Breslin",
         "Chart Number": 8,
         "Director": "Gore Verbinski",
         "Duration(min)": "107",
         "Genre": "Animation, Adventure, Comedy            ",
         "Rating": "7.2",
         "Release Date": "2011",
         "Title": "Rango",
         "_deepnote_index_column": 7
        },
        {
         "Actors": "Johnny Depp, Armie Hammer, William Fichtner, Tom Wilkinson",
         "Chart Number": 10,
         "Director": "Gore Verbinski",
         "Duration(min)": "150",
         "Genre": "Action, Adventure, Western            ",
         "Rating": "6.4",
         "Release Date": "2013",
         "Title": "The Lone Ranger",
         "_deepnote_index_column": 9
        },
        {
         "Actors": "Marton Csokas, Ian Hart, Greg Lawson",
         "Chart Number": 85,
         "Director": "Abbie Cornish",
         "Duration(min)": "274",
         "Genre": "Adventure, Drama, Western            ",
         "Rating": "7.4",
         "Release Date": "2014",
         "Title": "Klondike",
         "_deepnote_index_column": 84
        },
        {
         "Actors": "Kodi Smit-McPhee, Caren Pistorius, Aorere Paki, Jeffrey Thomas",
         "Chart Number": 50,
         "Director": "John Maclean",
         "Duration(min)": "84",
         "Genre": "Action, Adventure, Drama            ",
         "Rating": "6.9",
         "Release Date": "2015",
         "Title": "Slow West",
         "_deepnote_index_column": 49
        },
        {
         "Actors": "Leonardo DiCaprio, Tom Hardy, Will Poulter, Domhnall Gleeson",
         "Chart Number": 5,
         "Director": "Alejandro G. Iñárritu",
         "Duration(min)": "156",
         "Genre": "Action, Adventure, Drama            ",
         "Rating": "8",
         "Release Date": "2015",
         "Title": "The Revenant",
         "_deepnote_index_column": 4
        },
        {
         "Actors": "Adam Sandler, Terry Crews, Jorge Garcia, Taylor Lautner",
         "Chart Number": 18,
         "Director": "Frank Coraci",
         "Duration(min)": "119",
         "Genre": "Action, Adventure, Comedy            ",
         "Rating": "4.8",
         "Release Date": "2015",
         "Title": "The Ridiculous 6",
         "_deepnote_index_column": 17
        },
        {
         "Actors": "Denzel Washington, Chris Pratt, Ethan Hawke, Vincent D'Onofrio",
         "Chart Number": 3,
         "Director": "Antoine Fuqua",
         "Duration(min)": "132",
         "Genre": "Action, Adventure, Western            ",
         "Rating": "6.9",
         "Release Date": "2016",
         "Title": "The Magnificent Seven",
         "_deepnote_index_column": 2
        },
        {
         "Actors": "Hamilton Morris, Shanika Cole, Ewen Leslie, Sam Neill",
         "Chart Number": 77,
         "Director": "Warwick Thornton",
         "Duration(min)": "113",
         "Genre": "Adventure, Crime, Drama            ",
         "Rating": "6.9",
         "Release Date": "2017",
         "Title": "Sweet Country",
         "_deepnote_index_column": 76
        },
        {
         "Actors": "Bailey Gambertoglio, Sydney Park, Nolan North",
         "Chart Number": 66,
         "Director": "Amber Frank",
         "Duration(min)": "23",
         "Genre": "Animation, Action, Adventure            ",
         "Rating": "6.6",
         "Release Date": "2017",
         "Title": "Spirit Riding Free",
         "_deepnote_index_column": 65
        },
        {
         "Actors": "Idris Elba, Matthew McConaughey, Tom Taylor, Dennis Haysbert",
         "Chart Number": 14,
         "Director": "Nikolaj Arcel",
         "Duration(min)": "95",
         "Genre": "Action, Adventure, Fantasy            ",
         "Rating": "5.6",
         "Release Date": "2017",
         "Title": "The Dark Tower",
         "_deepnote_index_column": 13
        },
        {
         "Actors": "Chikahiro Kobayashi, Kentarô Itô, Fumihiko Tachiki",
         "Chart Number": 75,
         "Director": "Haruka Shiraishi",
         "Duration(min)": "24",
         "Genre": "Animation, Action, Adventure            ",
         "Rating": "7.9",
         "Release Date": "2018",
         "Title": "Golden Kamuy",
         "_deepnote_index_column": 74
        },
        {
         "Actors": "Roger Clark, Rob Wiethoff, Cali Elizabeth Moore",
         "Chart Number": 11,
         "Director": "Benjamin Byron Davis",
         "Duration(min)": "NaN",
         "Genre": "Action, Adventure, Crime            ",
         "Rating": "9.7",
         "Release Date": "2018",
         "Title": "Red Dead Redemption II",
         "_deepnote_index_column": 10
        },
        {
         "Actors": "Kleber Mendonça Filho, Bárbara Colen, Thomas Aquino, Silvero Pereira, Thardelly Lima",
         "Chart Number": 30,
         "Director": "Juliano Dornelles",
         "Duration(min)": "131",
         "Genre": "Adventure, Horror, Mystery            ",
         "Rating": "7.4",
         "Release Date": "2019",
         "Title": "Bacurau",
         "_deepnote_index_column": 29
        },
        {
         "Actors": "David Gyasi, Ron Perlman, Frank Grillo, Manu Intiraymi",
         "Chart Number": 79,
         "Director": "Wes Miller",
         "Duration(min)": "106",
         "Genre": "Adventure, Biography, Western            ",
         "Rating": "4.2",
         "Release Date": "2019",
         "Title": "Hell on the Border",
         "_deepnote_index_column": 78
        },
        {
         "Actors": "David Wenham, Jay Ryan, Erik Thomson, Mahesh Jadu",
         "Chart Number": 91,
         "Director": "Roderick MacKay",
         "Duration(min)": "116",
         "Genre": "Adventure, Drama, History            ",
         "Rating": "6.7",
         "Release Date": "2020",
         "Title": "The Furnace",
         "_deepnote_index_column": 90
        },
        {
         "Actors": "Guy Pearce, Devon Sawa, Kelly Greyson, Michael Sirow",
         "Chart Number": 62,
         "Director": "York Alec Shackleton",
         "Duration(min)": "91",
         "Genre": "Action, Adventure, Thriller            ",
         "Rating": "3.2",
         "Release Date": "2020",
         "Title": "Disturbing the Peace",
         "_deepnote_index_column": 61
        },
        {
         "Actors": "Jake Allyn, Frank Grillo, Jorge A. Jimenez, Andie MacDowell",
         "Chart Number": 24,
         "Director": "Conor Allyn",
         "Duration(min)": "114",
         "Genre": "Action, Adventure, Thriller            ",
         "Rating": "5.1",
         "Release Date": "2020",
         "Title": "No Man's Land",
         "_deepnote_index_column": 23
        },
        {
         "Actors": "Tom Hanks, Helena Zengel, Tom Astor, Travis Johnson",
         "Chart Number": 1,
         "Director": "Paul Greengrass",
         "Duration(min)": "118",
         "Genre": "Action, Adventure, Drama            ",
         "Rating": "6.8",
         "Release Date": "2020",
         "Title": "News of the World",
         "_deepnote_index_column": 0
        },
        {
         "Actors": "Ennio Torresan, Eiza González, Isabela Merced, Jake Gyllenhaal, Mckenna Grace",
         "Chart Number": 7,
         "Director": "Elaine Bogan",
         "Duration(min)": "NaN",
         "Genre": "Animation, Adventure, Family            ",
         "Rating": "NaN",
         "Release Date": "2021",
         "Title": "Spirit Untamed",
         "_deepnote_index_column": 6
        },
        {
         "Actors": "Sam Quartin, Dylan Sprouse, Nekhebet Kum Juch, Thea Sofie Loch Næss",
         "Chart Number": 49,
         "Director": "Kerry Mondragon",
         "Duration(min)": "92",
         "Genre": "Adventure, Romance, Western            ",
         "Rating": "5.1",
         "Release Date": "2021",
         "Title": "Tyger Tyger",
         "_deepnote_index_column": 48
        },
        {
         "Actors": "NaN",
         "Chart Number": 35,
         "Director": "NaN",
         "Duration(min)": "NaN",
         "Genre": "Adventure, Drama, Western            ",
         "Rating": "NaN",
         "Release Date": "2022",
         "Title": "Django/Zorro",
         "_deepnote_index_column": 34
        },
        {
         "Actors": "NaN",
         "Chart Number": 94,
         "Director": "NaN",
         "Duration(min)": "NaN",
         "Genre": "Action, Adventure, Family            ",
         "Rating": "NaN",
         "Release Date": "NaN",
         "Title": "National Treasure 3",
         "_deepnote_index_column": 93
        }
       ]
      },
      "text/html": [
       "<div>\n",
       "<style scoped>\n",
       "    .dataframe tbody tr th:only-of-type {\n",
       "        vertical-align: middle;\n",
       "    }\n",
       "\n",
       "    .dataframe tbody tr th {\n",
       "        vertical-align: top;\n",
       "    }\n",
       "\n",
       "    .dataframe thead th {\n",
       "        text-align: right;\n",
       "    }\n",
       "</style>\n",
       "<table border=\"1\" class=\"dataframe\">\n",
       "  <thead>\n",
       "    <tr style=\"text-align: right;\">\n",
       "      <th></th>\n",
       "      <th>Chart Number</th>\n",
       "      <th>Title</th>\n",
       "      <th>Release Date</th>\n",
       "      <th>Duration(min)</th>\n",
       "      <th>Genre</th>\n",
       "      <th>Rating</th>\n",
       "      <th>Director</th>\n",
       "      <th>Actors</th>\n",
       "    </tr>\n",
       "  </thead>\n",
       "  <tbody>\n",
       "    <tr>\n",
       "      <th>71</th>\n",
       "      <td>72</td>\n",
       "      <td>The Gold Rush</td>\n",
       "      <td>1925</td>\n",
       "      <td>95</td>\n",
       "      <td>Adventure, Comedy, Drama</td>\n",
       "      <td>8.2</td>\n",
       "      <td>Charles Chaplin</td>\n",
       "      <td>Charles Chaplin, Mack Swain, Tom Murray, Henry...</td>\n",
       "    </tr>\n",
       "    <tr>\n",
       "      <th>21</th>\n",
       "      <td>22</td>\n",
       "      <td>Stagecoach</td>\n",
       "      <td>1939</td>\n",
       "      <td>96</td>\n",
       "      <td>Adventure, Drama, Western</td>\n",
       "      <td>7.8</td>\n",
       "      <td>John Ford</td>\n",
       "      <td>John Wayne, Claire Trevor, Andy Devine, John C...</td>\n",
       "    </tr>\n",
       "    <tr>\n",
       "      <th>82</th>\n",
       "      <td>83</td>\n",
       "      <td>Fort Apache</td>\n",
       "      <td>1948</td>\n",
       "      <td>128</td>\n",
       "      <td>Action, Adventure, Western</td>\n",
       "      <td>7.5</td>\n",
       "      <td>John Ford</td>\n",
       "      <td>John Wayne, Henry Fonda, Shirley Temple, Pedro...</td>\n",
       "    </tr>\n",
       "    <tr>\n",
       "      <th>46</th>\n",
       "      <td>47</td>\n",
       "      <td>The Treasure of the Sierra Madre</td>\n",
       "      <td>1948</td>\n",
       "      <td>126</td>\n",
       "      <td>Adventure, Drama, Western</td>\n",
       "      <td>8.2</td>\n",
       "      <td>John Huston</td>\n",
       "      <td>Humphrey Bogart, Walter Huston, Tim Holt, Bruc...</td>\n",
       "    </tr>\n",
       "    <tr>\n",
       "      <th>33</th>\n",
       "      <td>34</td>\n",
       "      <td>Red River</td>\n",
       "      <td>1948</td>\n",
       "      <td>133</td>\n",
       "      <td>Action, Adventure, Drama</td>\n",
       "      <td>7.8</td>\n",
       "      <td>Howard Hawks</td>\n",
       "      <td>Arthur Rosson, John Wayne, Montgomery Clift, J...</td>\n",
       "    </tr>\n",
       "    <tr>\n",
       "      <th>...</th>\n",
       "      <td>...</td>\n",
       "      <td>...</td>\n",
       "      <td>...</td>\n",
       "      <td>...</td>\n",
       "      <td>...</td>\n",
       "      <td>...</td>\n",
       "      <td>...</td>\n",
       "      <td>...</td>\n",
       "    </tr>\n",
       "    <tr>\n",
       "      <th>0</th>\n",
       "      <td>1</td>\n",
       "      <td>News of the World</td>\n",
       "      <td>2020</td>\n",
       "      <td>118</td>\n",
       "      <td>Action, Adventure, Drama</td>\n",
       "      <td>6.8</td>\n",
       "      <td>Paul Greengrass</td>\n",
       "      <td>Tom Hanks, Helena Zengel, Tom Astor, Travis Jo...</td>\n",
       "    </tr>\n",
       "    <tr>\n",
       "      <th>6</th>\n",
       "      <td>7</td>\n",
       "      <td>Spirit Untamed</td>\n",
       "      <td>2021</td>\n",
       "      <td>NaN</td>\n",
       "      <td>Animation, Adventure, Family</td>\n",
       "      <td>NaN</td>\n",
       "      <td>Elaine Bogan</td>\n",
       "      <td>Ennio Torresan, Eiza González, Isabela Merced,...</td>\n",
       "    </tr>\n",
       "    <tr>\n",
       "      <th>48</th>\n",
       "      <td>49</td>\n",
       "      <td>Tyger Tyger</td>\n",
       "      <td>2021</td>\n",
       "      <td>92</td>\n",
       "      <td>Adventure, Romance, Western</td>\n",
       "      <td>5.1</td>\n",
       "      <td>Kerry Mondragon</td>\n",
       "      <td>Sam Quartin, Dylan Sprouse, Nekhebet Kum Juch,...</td>\n",
       "    </tr>\n",
       "    <tr>\n",
       "      <th>34</th>\n",
       "      <td>35</td>\n",
       "      <td>Django/Zorro</td>\n",
       "      <td>2022</td>\n",
       "      <td>NaN</td>\n",
       "      <td>Adventure, Drama, Western</td>\n",
       "      <td>NaN</td>\n",
       "      <td>NaN</td>\n",
       "      <td>NaN</td>\n",
       "    </tr>\n",
       "    <tr>\n",
       "      <th>93</th>\n",
       "      <td>94</td>\n",
       "      <td>National Treasure 3</td>\n",
       "      <td>NaN</td>\n",
       "      <td>NaN</td>\n",
       "      <td>Action, Adventure, Family</td>\n",
       "      <td>NaN</td>\n",
       "      <td>NaN</td>\n",
       "      <td>NaN</td>\n",
       "    </tr>\n",
       "  </tbody>\n",
       "</table>\n",
       "<p>100 rows × 8 columns</p>\n",
       "</div>"
      ],
      "text/plain": [
       "    Chart Number                             Title Release Date Duration(min)  \\\n",
       "71            72                     The Gold Rush         1925            95   \n",
       "21            22                        Stagecoach         1939            96   \n",
       "82            83                       Fort Apache         1948           128   \n",
       "46            47  The Treasure of the Sierra Madre         1948           126   \n",
       "33            34                         Red River         1948           133   \n",
       "..           ...                               ...          ...           ...   \n",
       "0              1                 News of the World         2020           118   \n",
       "6              7                    Spirit Untamed         2021           NaN   \n",
       "48            49                       Tyger Tyger         2021            92   \n",
       "34            35                      Django/Zorro         2022           NaN   \n",
       "93            94               National Treasure 3          NaN           NaN   \n",
       "\n",
       "                                       Genre Rating         Director  \\\n",
       "71      Adventure, Comedy, Drama                8.2  Charles Chaplin   \n",
       "21     Adventure, Drama, Western                7.8        John Ford   \n",
       "82    Action, Adventure, Western                7.5        John Ford   \n",
       "46     Adventure, Drama, Western                8.2      John Huston   \n",
       "33      Action, Adventure, Drama                7.8     Howard Hawks   \n",
       "..                                       ...    ...              ...   \n",
       "0       Action, Adventure, Drama                6.8  Paul Greengrass   \n",
       "6   Animation, Adventure, Family                NaN     Elaine Bogan   \n",
       "48   Adventure, Romance, Western                5.1  Kerry Mondragon   \n",
       "34     Adventure, Drama, Western                NaN              NaN   \n",
       "93     Action, Adventure, Family                NaN              NaN   \n",
       "\n",
       "                                               Actors  \n",
       "71  Charles Chaplin, Mack Swain, Tom Murray, Henry...  \n",
       "21  John Wayne, Claire Trevor, Andy Devine, John C...  \n",
       "82  John Wayne, Henry Fonda, Shirley Temple, Pedro...  \n",
       "46  Humphrey Bogart, Walter Huston, Tim Holt, Bruc...  \n",
       "33  Arthur Rosson, John Wayne, Montgomery Clift, J...  \n",
       "..                                                ...  \n",
       "0   Tom Hanks, Helena Zengel, Tom Astor, Travis Jo...  \n",
       "6   Ennio Torresan, Eiza González, Isabela Merced,...  \n",
       "48  Sam Quartin, Dylan Sprouse, Nekhebet Kum Juch,...  \n",
       "34                                                NaN  \n",
       "93                                                NaN  \n",
       "\n",
       "[100 rows x 8 columns]"
      ]
     },
     "metadata": {},
     "output_type": "display_data"
    }
   ],
   "source": [
    "display(df.sort_values(by=['Release Date']))"
   ]
  },
  {
   "cell_type": "code",
   "execution_count": null,
   "metadata": {
    "cell_id": "00007-8faf00ea-780a-4ff4-a856-1c0738fc1051",
    "deepnote_cell_type": "code",
    "deepnote_to_be_reexecuted": true,
    "execution_millis": 1537,
    "source_hash": "a08d8434",
    "tags": []
   },
   "outputs": [
    {
     "data": {
      "text/plain": [
       "<BarContainer object of 100 artists>"
      ]
     },
     "execution_count": 9,
     "metadata": {},
     "output_type": "execute_result"
    },
    {
     "data": {
      "image/png": "[encoded data removed]",
      "text/plain": [
       "<Figure size 1440x720 with 1 Axes>"
      ]
     },
     "metadata": {
      "needs_background": "light"
     },
     "output_type": "display_data"
    }
   ],
   "source": [
    "plt.figure(figsize=(20,10))\n",
    "plt.bar(sorted(df['Release Date']), sorted(df['Rating']))\n"
   ]
  },
  {
   "cell_type": "code",
   "execution_count": null,
   "metadata": {
    "cell_id": "00008-89fdfa12-7ef4-4b0a-9465-034dc897512d",
    "deepnote_cell_type": "code",
    "deepnote_to_be_reexecuted": true,
    "execution_millis": 41,
    "source_hash": "536873c6",
    "tags": []
   },
   "outputs": [
    {
     "data": {
      "application/vnd.deepnote.dataframe.v2+json": {
       "column_count": 7,
       "columns": [
        {
         "dtype": "int64",
         "name": "Chart Number",
         "stats": {
          "histogram": [
           {
            "bin_end": 1.4,
            "bin_start": 1,
            "count": 27
           },
           {
            "bin_end": 1.8,
            "bin_start": 1.4,
            "count": 0
           },
           {
            "bin_end": 2.2,
            "bin_start": 1.8,
            "count": 12
           },
           {
            "bin_end": 2.6,
            "bin_start": 2.2,
            "count": 0
           },
           {
            "bin_end": 3,
            "bin_start": 2.6,
            "count": 0
           },
           {
            "bin_end": 3.4000000000000004,
            "bin_start": 3,
            "count": 8
           },
           {
            "bin_end": 3.8000000000000003,
            "bin_start": 3.4000000000000004,
            "count": 0
           },
           {
            "bin_end": 4.2,
            "bin_start": 3.8000000000000003,
            "count": 5
           },
           {
            "bin_end": 4.6,
            "bin_start": 4.2,
            "count": 0
           },
           {
            "bin_end": 5,
            "bin_start": 4.6,
            "count": 1
           }
          ],
          "max": 5,
          "min": 1,
          "nan_count": 0,
          "unique_count": 5
         }
        },
        {
         "dtype": "int64",
         "name": "Title",
         "stats": {
          "histogram": [
           {
            "bin_end": 1.4,
            "bin_start": 1,
            "count": 27
           },
           {
            "bin_end": 1.8,
            "bin_start": 1.4,
            "count": 0
           },
           {
            "bin_end": 2.2,
            "bin_start": 1.8,
            "count": 12
           },
           {
            "bin_end": 2.6,
            "bin_start": 2.2,
            "count": 0
           },
           {
            "bin_end": 3,
            "bin_start": 2.6,
            "count": 0
           },
           {
            "bin_end": 3.4000000000000004,
            "bin_start": 3,
            "count": 8
           },
           {
            "bin_end": 3.8000000000000003,
            "bin_start": 3.4000000000000004,
            "count": 0
           },
           {
            "bin_end": 4.2,
            "bin_start": 3.8000000000000003,
            "count": 5
           },
           {
            "bin_end": 4.6,
            "bin_start": 4.2,
            "count": 0
           },
           {
            "bin_end": 5,
            "bin_start": 4.6,
            "count": 1
           }
          ],
          "max": 5,
          "min": 1,
          "nan_count": 0,
          "unique_count": 5
         }
        },
        {
         "dtype": "int64",
         "name": "Duration(min)",
         "stats": {
          "histogram": [
           {
            "bin_end": 1.4,
            "bin_start": 1,
            "count": 27
           },
           {
            "bin_end": 1.8,
            "bin_start": 1.4,
            "count": 0
           },
           {
            "bin_end": 2.2,
            "bin_start": 1.8,
            "count": 12
           },
           {
            "bin_end": 2.6,
            "bin_start": 2.2,
            "count": 0
           },
           {
            "bin_end": 3,
            "bin_start": 2.6,
            "count": 0
           },
           {
            "bin_end": 3.4000000000000004,
            "bin_start": 3,
            "count": 8
           },
           {
            "bin_end": 3.8000000000000003,
            "bin_start": 3.4000000000000004,
            "count": 0
           },
           {
            "bin_end": 4.2,
            "bin_start": 3.8000000000000003,
            "count": 5
           },
           {
            "bin_end": 4.6,
            "bin_start": 4.2,
            "count": 0
           },
           {
            "bin_end": 5,
            "bin_start": 4.6,
            "count": 1
           }
          ],
          "max": 5,
          "min": 1,
          "nan_count": 0,
          "unique_count": 5
         }
        },
        {
         "dtype": "int64",
         "name": "Genre",
         "stats": {
          "histogram": [
           {
            "bin_end": 1.4,
            "bin_start": 1,
            "count": 27
           },
           {
            "bin_end": 1.8,
            "bin_start": 1.4,
            "count": 0
           },
           {
            "bin_end": 2.2,
            "bin_start": 1.8,
            "count": 12
           },
           {
            "bin_end": 2.6,
            "bin_start": 2.2,
            "count": 0
           },
           {
            "bin_end": 3,
            "bin_start": 2.6,
            "count": 0
           },
           {
            "bin_end": 3.4000000000000004,
            "bin_start": 3,
            "count": 8
           },
           {
            "bin_end": 3.8000000000000003,
            "bin_start": 3.4000000000000004,
            "count": 0
           },
           {
            "bin_end": 4.2,
            "bin_start": 3.8000000000000003,
            "count": 5
           },
           {
            "bin_end": 4.6,
            "bin_start": 4.2,
            "count": 0
           },
           {
            "bin_end": 5,
            "bin_start": 4.6,
            "count": 1
           }
          ],
          "max": 5,
          "min": 1,
          "nan_count": 0,
          "unique_count": 5
         }
        },
        {
         "dtype": "int64",
         "name": "Rating",
         "stats": {
          "histogram": [
           {
            "bin_end": 1.4,
            "bin_start": 1,
            "count": 27
           },
           {
            "bin_end": 1.8,
            "bin_start": 1.4,
            "count": 0
           },
           {
            "bin_end": 2.2,
            "bin_start": 1.8,
            "count": 12
           },
           {
            "bin_end": 2.6,
            "bin_start": 2.2,
            "count": 0
           },
           {
            "bin_end": 3,
            "bin_start": 2.6,
            "count": 0
           },
           {
            "bin_end": 3.4000000000000004,
            "bin_start": 3,
            "count": 8
           },
           {
            "bin_end": 3.8000000000000003,
            "bin_start": 3.4000000000000004,
            "count": 0
           },
           {
            "bin_end": 4.2,
            "bin_start": 3.8000000000000003,
            "count": 5
           },
           {
            "bin_end": 4.6,
            "bin_start": 4.2,
            "count": 0
           },
           {
            "bin_end": 5,
            "bin_start": 4.6,
            "count": 1
           }
          ],
          "max": 5,
          "min": 1,
          "nan_count": 0,
          "unique_count": 5
         }
        },
        {
         "dtype": "int64",
         "name": "Director",
         "stats": {
          "histogram": [
           {
            "bin_end": 1.4,
            "bin_start": 1,
            "count": 27
           },
           {
            "bin_end": 1.8,
            "bin_start": 1.4,
            "count": 0
           },
           {
            "bin_end": 2.2,
            "bin_start": 1.8,
            "count": 12
           },
           {
            "bin_end": 2.6,
            "bin_start": 2.2,
            "count": 0
           },
           {
            "bin_end": 3,
            "bin_start": 2.6,
            "count": 0
           },
           {
            "bin_end": 3.4000000000000004,
            "bin_start": 3,
            "count": 8
           },
           {
            "bin_end": 3.8000000000000003,
            "bin_start": 3.4000000000000004,
            "count": 0
           },
           {
            "bin_end": 4.2,
            "bin_start": 3.8000000000000003,
            "count": 5
           },
           {
            "bin_end": 4.6,
            "bin_start": 4.2,
            "count": 0
           },
           {
            "bin_end": 5,
            "bin_start": 4.6,
            "count": 1
           }
          ],
          "max": 5,
          "min": 1,
          "nan_count": 0,
          "unique_count": 5
         }
        },
        {
         "dtype": "int64",
         "name": "Actors",
         "stats": {
          "histogram": [
           {
            "bin_end": 1.4,
            "bin_start": 1,
            "count": 27
           },
           {
            "bin_end": 1.8,
            "bin_start": 1.4,
            "count": 0
           },
           {
            "bin_end": 2.2,
            "bin_start": 1.8,
            "count": 12
           },
           {
            "bin_end": 2.6,
            "bin_start": 2.2,
            "count": 0
           },
           {
            "bin_end": 3,
            "bin_start": 2.6,
            "count": 0
           },
           {
            "bin_end": 3.4000000000000004,
            "bin_start": 3,
            "count": 8
           },
           {
            "bin_end": 3.8000000000000003,
            "bin_start": 3.4000000000000004,
            "count": 0
           },
           {
            "bin_end": 4.2,
            "bin_start": 3.8000000000000003,
            "count": 5
           },
           {
            "bin_end": 4.6,
            "bin_start": 4.2,
            "count": 0
           },
           {
            "bin_end": 5,
            "bin_start": 4.6,
            "count": 1
           }
          ],
          "max": 5,
          "min": 1,
          "nan_count": 0,
          "unique_count": 5
         }
        },
        {
         "dtype": "object",
         "name": "_deepnote_index_column"
        }
       ],
       "row_count": 53,
       "rows_bottom": null,
       "rows_top": [
        {
         "Actors": 1,
         "Chart Number": 1,
         "Director": 1,
         "Duration(min)": 1,
         "Genre": 1,
         "Rating": 1,
         "Title": 1,
         "_deepnote_index_column": "1925"
        },
        {
         "Actors": 1,
         "Chart Number": 1,
         "Director": 1,
         "Duration(min)": 1,
         "Genre": 1,
         "Rating": 1,
         "Title": 1,
         "_deepnote_index_column": "1939"
        },
        {
         "Actors": 3,
         "Chart Number": 3,
         "Director": 3,
         "Duration(min)": 3,
         "Genre": 3,
         "Rating": 3,
         "Title": 3,
         "_deepnote_index_column": "1948"
        },
        {
         "Actors": 1,
         "Chart Number": 1,
         "Director": 1,
         "Duration(min)": 1,
         "Genre": 1,
         "Rating": 1,
         "Title": 1,
         "_deepnote_index_column": "1951"
        },
        {
         "Actors": 1,
         "Chart Number": 1,
         "Director": 1,
         "Duration(min)": 1,
         "Genre": 1,
         "Rating": 1,
         "Title": 1,
         "_deepnote_index_column": "1954"
        },
        {
         "Actors": 1,
         "Chart Number": 1,
         "Director": 1,
         "Duration(min)": 1,
         "Genre": 1,
         "Rating": 1,
         "Title": 1,
         "_deepnote_index_column": "1956"
        },
        {
         "Actors": 3,
         "Chart Number": 3,
         "Director": 3,
         "Duration(min)": 3,
         "Genre": 3,
         "Rating": 3,
         "Title": 3,
         "_deepnote_index_column": "1957"
        },
        {
         "Actors": 1,
         "Chart Number": 1,
         "Director": 1,
         "Duration(min)": 1,
         "Genre": 1,
         "Rating": 1,
         "Title": 1,
         "_deepnote_index_column": "1959"
        },
        {
         "Actors": 2,
         "Chart Number": 2,
         "Director": 2,
         "Duration(min)": 2,
         "Genre": 2,
         "Rating": 2,
         "Title": 2,
         "_deepnote_index_column": "1960"
        },
        {
         "Actors": 1,
         "Chart Number": 1,
         "Director": 1,
         "Duration(min)": 1,
         "Genre": 1,
         "Rating": 1,
         "Title": 1,
         "_deepnote_index_column": "1961"
        },
        {
         "Actors": 1,
         "Chart Number": 1,
         "Director": 1,
         "Duration(min)": 1,
         "Genre": 1,
         "Rating": 1,
         "Title": 1,
         "_deepnote_index_column": "1964"
        },
        {
         "Actors": 2,
         "Chart Number": 2,
         "Director": 2,
         "Duration(min)": 2,
         "Genre": 2,
         "Rating": 2,
         "Title": 2,
         "_deepnote_index_column": "1965"
        },
        {
         "Actors": 1,
         "Chart Number": 1,
         "Director": 1,
         "Duration(min)": 1,
         "Genre": 1,
         "Rating": 1,
         "Title": 1,
         "_deepnote_index_column": "1966"
        },
        {
         "Actors": 1,
         "Chart Number": 1,
         "Director": 1,
         "Duration(min)": 1,
         "Genre": 1,
         "Rating": 1,
         "Title": 1,
         "_deepnote_index_column": "1968"
        },
        {
         "Actors": 5,
         "Chart Number": 5,
         "Director": 5,
         "Duration(min)": 5,
         "Genre": 5,
         "Rating": 5,
         "Title": 5,
         "_deepnote_index_column": "1969"
        },
        {
         "Actors": 4,
         "Chart Number": 4,
         "Director": 4,
         "Duration(min)": 4,
         "Genre": 4,
         "Rating": 4,
         "Title": 4,
         "_deepnote_index_column": "1970"
        },
        {
         "Actors": 2,
         "Chart Number": 2,
         "Director": 2,
         "Duration(min)": 2,
         "Genre": 2,
         "Rating": 2,
         "Title": 2,
         "_deepnote_index_column": "1971"
        },
        {
         "Actors": 3,
         "Chart Number": 3,
         "Director": 3,
         "Duration(min)": 3,
         "Genre": 3,
         "Rating": 3,
         "Title": 3,
         "_deepnote_index_column": "1972"
        },
        {
         "Actors": 2,
         "Chart Number": 2,
         "Director": 2,
         "Duration(min)": 2,
         "Genre": 2,
         "Rating": 2,
         "Title": 2,
         "_deepnote_index_column": "1975"
        },
        {
         "Actors": 1,
         "Chart Number": 1,
         "Director": 1,
         "Duration(min)": 1,
         "Genre": 1,
         "Rating": 1,
         "Title": 1,
         "_deepnote_index_column": "1977"
        },
        {
         "Actors": 1,
         "Chart Number": 1,
         "Director": 1,
         "Duration(min)": 1,
         "Genre": 1,
         "Rating": 1,
         "Title": 1,
         "_deepnote_index_column": "1978"
        },
        {
         "Actors": 1,
         "Chart Number": 1,
         "Director": 1,
         "Duration(min)": 1,
         "Genre": 1,
         "Rating": 1,
         "Title": 1,
         "_deepnote_index_column": "1979"
        },
        {
         "Actors": 1,
         "Chart Number": 1,
         "Director": 1,
         "Duration(min)": 1,
         "Genre": 1,
         "Rating": 1,
         "Title": 1,
         "_deepnote_index_column": "1980"
        },
        {
         "Actors": 1,
         "Chart Number": 1,
         "Director": 1,
         "Duration(min)": 1,
         "Genre": 1,
         "Rating": 1,
         "Title": 1,
         "_deepnote_index_column": "1981"
        },
        {
         "Actors": 1,
         "Chart Number": 1,
         "Director": 1,
         "Duration(min)": 1,
         "Genre": 1,
         "Rating": 1,
         "Title": 1,
         "_deepnote_index_column": "1982"
        },
        {
         "Actors": 2,
         "Chart Number": 2,
         "Director": 2,
         "Duration(min)": 2,
         "Genre": 2,
         "Rating": 2,
         "Title": 2,
         "_deepnote_index_column": "1989"
        },
        {
         "Actors": 4,
         "Chart Number": 4,
         "Director": 4,
         "Duration(min)": 4,
         "Genre": 4,
         "Rating": 4,
         "Title": 4,
         "_deepnote_index_column": "1990"
        },
        {
         "Actors": 1,
         "Chart Number": 1,
         "Director": 1,
         "Duration(min)": 1,
         "Genre": 1,
         "Rating": 1,
         "Title": 1,
         "_deepnote_index_column": "1991"
        },
        {
         "Actors": 1,
         "Chart Number": 1,
         "Director": 1,
         "Duration(min)": 1,
         "Genre": 1,
         "Rating": 1,
         "Title": 1,
         "_deepnote_index_column": "1992"
        },
        {
         "Actors": 2,
         "Chart Number": 2,
         "Director": 2,
         "Duration(min)": 2,
         "Genre": 2,
         "Rating": 2,
         "Title": 2,
         "_deepnote_index_column": "1993"
        },
        {
         "Actors": 4,
         "Chart Number": 4,
         "Director": 4,
         "Duration(min)": 4,
         "Genre": 4,
         "Rating": 4,
         "Title": 4,
         "_deepnote_index_column": "1994"
        },
        {
         "Actors": 4,
         "Chart Number": 4,
         "Director": 4,
         "Duration(min)": 4,
         "Genre": 4,
         "Rating": 4,
         "Title": 4,
         "_deepnote_index_column": "1995"
        },
        {
         "Actors": 2,
         "Chart Number": 2,
         "Director": 2,
         "Duration(min)": 2,
         "Genre": 2,
         "Rating": 2,
         "Title": 2,
         "_deepnote_index_column": "1998"
        },
        {
         "Actors": 1,
         "Chart Number": 1,
         "Director": 1,
         "Duration(min)": 1,
         "Genre": 1,
         "Rating": 1,
         "Title": 1,
         "_deepnote_index_column": "2000"
        },
        {
         "Actors": 1,
         "Chart Number": 1,
         "Director": 1,
         "Duration(min)": 1,
         "Genre": 1,
         "Rating": 1,
         "Title": 1,
         "_deepnote_index_column": "2002"
        },
        {
         "Actors": 2,
         "Chart Number": 2,
         "Director": 2,
         "Duration(min)": 2,
         "Genre": 2,
         "Rating": 2,
         "Title": 2,
         "_deepnote_index_column": "2003"
        },
        {
         "Actors": 3,
         "Chart Number": 3,
         "Director": 3,
         "Duration(min)": 3,
         "Genre": 3,
         "Rating": 3,
         "Title": 3,
         "_deepnote_index_column": "2004"
        },
        {
         "Actors": 3,
         "Chart Number": 3,
         "Director": 3,
         "Duration(min)": 3,
         "Genre": 3,
         "Rating": 3,
         "Title": 3,
         "_deepnote_index_column": "2005"
        },
        {
         "Actors": 1,
         "Chart Number": 1,
         "Director": 1,
         "Duration(min)": 1,
         "Genre": 1,
         "Rating": 1,
         "Title": 1,
         "_deepnote_index_column": "2007"
        },
        {
         "Actors": 2,
         "Chart Number": 2,
         "Director": 2,
         "Duration(min)": 2,
         "Genre": 2,
         "Rating": 2,
         "Title": 2,
         "_deepnote_index_column": "2008"
        },
        {
         "Actors": 3,
         "Chart Number": 3,
         "Director": 3,
         "Duration(min)": 3,
         "Genre": 3,
         "Rating": 3,
         "Title": 3,
         "_deepnote_index_column": "2010"
        },
        {
         "Actors": 1,
         "Chart Number": 1,
         "Director": 1,
         "Duration(min)": 1,
         "Genre": 1,
         "Rating": 1,
         "Title": 1,
         "_deepnote_index_column": "2011"
        },
        {
         "Actors": 1,
         "Chart Number": 1,
         "Director": 1,
         "Duration(min)": 1,
         "Genre": 1,
         "Rating": 1,
         "Title": 1,
         "_deepnote_index_column": "2013"
        },
        {
         "Actors": 1,
         "Chart Number": 1,
         "Director": 1,
         "Duration(min)": 1,
         "Genre": 1,
         "Rating": 1,
         "Title": 1,
         "_deepnote_index_column": "2014"
        },
        {
         "Actors": 3,
         "Chart Number": 3,
         "Director": 3,
         "Duration(min)": 3,
         "Genre": 3,
         "Rating": 3,
         "Title": 3,
         "_deepnote_index_column": "2015"
        },
        {
         "Actors": 1,
         "Chart Number": 1,
         "Director": 1,
         "Duration(min)": 1,
         "Genre": 1,
         "Rating": 1,
         "Title": 1,
         "_deepnote_index_column": "2016"
        },
        {
         "Actors": 3,
         "Chart Number": 3,
         "Director": 3,
         "Duration(min)": 3,
         "Genre": 3,
         "Rating": 3,
         "Title": 3,
         "_deepnote_index_column": "2017"
        },
        {
         "Actors": 2,
         "Chart Number": 2,
         "Director": 2,
         "Duration(min)": 2,
         "Genre": 2,
         "Rating": 2,
         "Title": 2,
         "_deepnote_index_column": "2018"
        },
        {
         "Actors": 2,
         "Chart Number": 2,
         "Director": 2,
         "Duration(min)": 2,
         "Genre": 2,
         "Rating": 2,
         "Title": 2,
         "_deepnote_index_column": "2019"
        },
        {
         "Actors": 4,
         "Chart Number": 4,
         "Director": 4,
         "Duration(min)": 4,
         "Genre": 4,
         "Rating": 4,
         "Title": 4,
         "_deepnote_index_column": "2020"
        },
        {
         "Actors": 2,
         "Chart Number": 2,
         "Director": 2,
         "Duration(min)": 2,
         "Genre": 2,
         "Rating": 2,
         "Title": 2,
         "_deepnote_index_column": "2021"
        },
        {
         "Actors": 1,
         "Chart Number": 1,
         "Director": 1,
         "Duration(min)": 1,
         "Genre": 1,
         "Rating": 1,
         "Title": 1,
         "_deepnote_index_column": "2022"
        },
        {
         "Actors": 1,
         "Chart Number": 1,
         "Director": 1,
         "Duration(min)": 1,
         "Genre": 1,
         "Rating": 1,
         "Title": 1,
         "_deepnote_index_column": "NaN"
        }
       ]
      },
      "text/html": [
       "<div>\n",
       "<style scoped>\n",
       "    .dataframe tbody tr th:only-of-type {\n",
       "        vertical-align: middle;\n",
       "    }\n",
       "\n",
       "    .dataframe tbody tr th {\n",
       "        vertical-align: top;\n",
       "    }\n",
       "\n",
       "    .dataframe thead th {\n",
       "        text-align: right;\n",
       "    }\n",
       "</style>\n",
       "<table border=\"1\" class=\"dataframe\">\n",
       "  <thead>\n",
       "    <tr style=\"text-align: right;\">\n",
       "      <th></th>\n",
       "      <th>Chart Number</th>\n",
       "      <th>Title</th>\n",
       "      <th>Duration(min)</th>\n",
       "      <th>Genre</th>\n",
       "      <th>Rating</th>\n",
       "      <th>Director</th>\n",
       "      <th>Actors</th>\n",
       "    </tr>\n",
       "    <tr>\n",
       "      <th>Release Date</th>\n",
       "      <th></th>\n",
       "      <th></th>\n",
       "      <th></th>\n",
       "      <th></th>\n",
       "      <th></th>\n",
       "      <th></th>\n",
       "      <th></th>\n",
       "    </tr>\n",
       "  </thead>\n",
       "  <tbody>\n",
       "    <tr>\n",
       "      <th>1925</th>\n",
       "      <td>1</td>\n",
       "      <td>1</td>\n",
       "      <td>1</td>\n",
       "      <td>1</td>\n",
       "      <td>1</td>\n",
       "      <td>1</td>\n",
       "      <td>1</td>\n",
       "    </tr>\n",
       "    <tr>\n",
       "      <th>1939</th>\n",
       "      <td>1</td>\n",
       "      <td>1</td>\n",
       "      <td>1</td>\n",
       "      <td>1</td>\n",
       "      <td>1</td>\n",
       "      <td>1</td>\n",
       "      <td>1</td>\n",
       "    </tr>\n",
       "    <tr>\n",
       "      <th>1948</th>\n",
       "      <td>3</td>\n",
       "      <td>3</td>\n",
       "      <td>3</td>\n",
       "      <td>3</td>\n",
       "      <td>3</td>\n",
       "      <td>3</td>\n",
       "      <td>3</td>\n",
       "    </tr>\n",
       "    <tr>\n",
       "      <th>1951</th>\n",
       "      <td>1</td>\n",
       "      <td>1</td>\n",
       "      <td>1</td>\n",
       "      <td>1</td>\n",
       "      <td>1</td>\n",
       "      <td>1</td>\n",
       "      <td>1</td>\n",
       "    </tr>\n",
       "    <tr>\n",
       "      <th>1954</th>\n",
       "      <td>1</td>\n",
       "      <td>1</td>\n",
       "      <td>1</td>\n",
       "      <td>1</td>\n",
       "      <td>1</td>\n",
       "      <td>1</td>\n",
       "      <td>1</td>\n",
       "    </tr>\n",
       "    <tr>\n",
       "      <th>1956</th>\n",
       "      <td>1</td>\n",
       "      <td>1</td>\n",
       "      <td>1</td>\n",
       "      <td>1</td>\n",
       "      <td>1</td>\n",
       "      <td>1</td>\n",
       "      <td>1</td>\n",
       "    </tr>\n",
       "    <tr>\n",
       "      <th>1957</th>\n",
       "      <td>3</td>\n",
       "      <td>3</td>\n",
       "      <td>3</td>\n",
       "      <td>3</td>\n",
       "      <td>3</td>\n",
       "      <td>3</td>\n",
       "      <td>3</td>\n",
       "    </tr>\n",
       "    <tr>\n",
       "      <th>1959</th>\n",
       "      <td>1</td>\n",
       "      <td>1</td>\n",
       "      <td>1</td>\n",
       "      <td>1</td>\n",
       "      <td>1</td>\n",
       "      <td>1</td>\n",
       "      <td>1</td>\n",
       "    </tr>\n",
       "    <tr>\n",
       "      <th>1960</th>\n",
       "      <td>2</td>\n",
       "      <td>2</td>\n",
       "      <td>2</td>\n",
       "      <td>2</td>\n",
       "      <td>2</td>\n",
       "      <td>2</td>\n",
       "      <td>2</td>\n",
       "    </tr>\n",
       "    <tr>\n",
       "      <th>1961</th>\n",
       "      <td>1</td>\n",
       "      <td>1</td>\n",
       "      <td>1</td>\n",
       "      <td>1</td>\n",
       "      <td>1</td>\n",
       "      <td>1</td>\n",
       "      <td>1</td>\n",
       "    </tr>\n",
       "    <tr>\n",
       "      <th>1964</th>\n",
       "      <td>1</td>\n",
       "      <td>1</td>\n",
       "      <td>1</td>\n",
       "      <td>1</td>\n",
       "      <td>1</td>\n",
       "      <td>1</td>\n",
       "      <td>1</td>\n",
       "    </tr>\n",
       "    <tr>\n",
       "      <th>1965</th>\n",
       "      <td>2</td>\n",
       "      <td>2</td>\n",
       "      <td>2</td>\n",
       "      <td>2</td>\n",
       "      <td>2</td>\n",
       "      <td>2</td>\n",
       "      <td>2</td>\n",
       "    </tr>\n",
       "    <tr>\n",
       "      <th>1966</th>\n",
       "      <td>1</td>\n",
       "      <td>1</td>\n",
       "      <td>1</td>\n",
       "      <td>1</td>\n",
       "      <td>1</td>\n",
       "      <td>1</td>\n",
       "      <td>1</td>\n",
       "    </tr>\n",
       "    <tr>\n",
       "      <th>1968</th>\n",
       "      <td>1</td>\n",
       "      <td>1</td>\n",
       "      <td>1</td>\n",
       "      <td>1</td>\n",
       "      <td>1</td>\n",
       "      <td>1</td>\n",
       "      <td>1</td>\n",
       "    </tr>\n",
       "    <tr>\n",
       "      <th>1969</th>\n",
       "      <td>5</td>\n",
       "      <td>5</td>\n",
       "      <td>5</td>\n",
       "      <td>5</td>\n",
       "      <td>5</td>\n",
       "      <td>5</td>\n",
       "      <td>5</td>\n",
       "    </tr>\n",
       "    <tr>\n",
       "      <th>1970</th>\n",
       "      <td>4</td>\n",
       "      <td>4</td>\n",
       "      <td>4</td>\n",
       "      <td>4</td>\n",
       "      <td>4</td>\n",
       "      <td>4</td>\n",
       "      <td>4</td>\n",
       "    </tr>\n",
       "    <tr>\n",
       "      <th>1971</th>\n",
       "      <td>2</td>\n",
       "      <td>2</td>\n",
       "      <td>2</td>\n",
       "      <td>2</td>\n",
       "      <td>2</td>\n",
       "      <td>2</td>\n",
       "      <td>2</td>\n",
       "    </tr>\n",
       "    <tr>\n",
       "      <th>1972</th>\n",
       "      <td>3</td>\n",
       "      <td>3</td>\n",
       "      <td>3</td>\n",
       "      <td>3</td>\n",
       "      <td>3</td>\n",
       "      <td>3</td>\n",
       "      <td>3</td>\n",
       "    </tr>\n",
       "    <tr>\n",
       "      <th>1975</th>\n",
       "      <td>2</td>\n",
       "      <td>2</td>\n",
       "      <td>2</td>\n",
       "      <td>2</td>\n",
       "      <td>2</td>\n",
       "      <td>2</td>\n",
       "      <td>2</td>\n",
       "    </tr>\n",
       "    <tr>\n",
       "      <th>1977</th>\n",
       "      <td>1</td>\n",
       "      <td>1</td>\n",
       "      <td>1</td>\n",
       "      <td>1</td>\n",
       "      <td>1</td>\n",
       "      <td>1</td>\n",
       "      <td>1</td>\n",
       "    </tr>\n",
       "    <tr>\n",
       "      <th>1978</th>\n",
       "      <td>1</td>\n",
       "      <td>1</td>\n",
       "      <td>1</td>\n",
       "      <td>1</td>\n",
       "      <td>1</td>\n",
       "      <td>1</td>\n",
       "      <td>1</td>\n",
       "    </tr>\n",
       "    <tr>\n",
       "      <th>1979</th>\n",
       "      <td>1</td>\n",
       "      <td>1</td>\n",
       "      <td>1</td>\n",
       "      <td>1</td>\n",
       "      <td>1</td>\n",
       "      <td>1</td>\n",
       "      <td>1</td>\n",
       "    </tr>\n",
       "    <tr>\n",
       "      <th>1980</th>\n",
       "      <td>1</td>\n",
       "      <td>1</td>\n",
       "      <td>1</td>\n",
       "      <td>1</td>\n",
       "      <td>1</td>\n",
       "      <td>1</td>\n",
       "      <td>1</td>\n",
       "    </tr>\n",
       "    <tr>\n",
       "      <th>1981</th>\n",
       "      <td>1</td>\n",
       "      <td>1</td>\n",
       "      <td>1</td>\n",
       "      <td>1</td>\n",
       "      <td>1</td>\n",
       "      <td>1</td>\n",
       "      <td>1</td>\n",
       "    </tr>\n",
       "    <tr>\n",
       "      <th>1982</th>\n",
       "      <td>1</td>\n",
       "      <td>1</td>\n",
       "      <td>1</td>\n",
       "      <td>1</td>\n",
       "      <td>1</td>\n",
       "      <td>1</td>\n",
       "      <td>1</td>\n",
       "    </tr>\n",
       "    <tr>\n",
       "      <th>1989</th>\n",
       "      <td>2</td>\n",
       "      <td>2</td>\n",
       "      <td>2</td>\n",
       "      <td>2</td>\n",
       "      <td>2</td>\n",
       "      <td>2</td>\n",
       "      <td>2</td>\n",
       "    </tr>\n",
       "    <tr>\n",
       "      <th>1990</th>\n",
       "      <td>4</td>\n",
       "      <td>4</td>\n",
       "      <td>4</td>\n",
       "      <td>4</td>\n",
       "      <td>4</td>\n",
       "      <td>4</td>\n",
       "      <td>4</td>\n",
       "    </tr>\n",
       "    <tr>\n",
       "      <th>1991</th>\n",
       "      <td>1</td>\n",
       "      <td>1</td>\n",
       "      <td>1</td>\n",
       "      <td>1</td>\n",
       "      <td>1</td>\n",
       "      <td>1</td>\n",
       "      <td>1</td>\n",
       "    </tr>\n",
       "    <tr>\n",
       "      <th>1992</th>\n",
       "      <td>1</td>\n",
       "      <td>1</td>\n",
       "      <td>1</td>\n",
       "      <td>1</td>\n",
       "      <td>1</td>\n",
       "      <td>1</td>\n",
       "      <td>1</td>\n",
       "    </tr>\n",
       "    <tr>\n",
       "      <th>1993</th>\n",
       "      <td>2</td>\n",
       "      <td>2</td>\n",
       "      <td>2</td>\n",
       "      <td>2</td>\n",
       "      <td>2</td>\n",
       "      <td>2</td>\n",
       "      <td>2</td>\n",
       "    </tr>\n",
       "    <tr>\n",
       "      <th>1994</th>\n",
       "      <td>4</td>\n",
       "      <td>4</td>\n",
       "      <td>4</td>\n",
       "      <td>4</td>\n",
       "      <td>4</td>\n",
       "      <td>4</td>\n",
       "      <td>4</td>\n",
       "    </tr>\n",
       "    <tr>\n",
       "      <th>1995</th>\n",
       "      <td>4</td>\n",
       "      <td>4</td>\n",
       "      <td>4</td>\n",
       "      <td>4</td>\n",
       "      <td>4</td>\n",
       "      <td>4</td>\n",
       "      <td>4</td>\n",
       "    </tr>\n",
       "    <tr>\n",
       "      <th>1998</th>\n",
       "      <td>2</td>\n",
       "      <td>2</td>\n",
       "      <td>2</td>\n",
       "      <td>2</td>\n",
       "      <td>2</td>\n",
       "      <td>2</td>\n",
       "      <td>2</td>\n",
       "    </tr>\n",
       "    <tr>\n",
       "      <th>2000</th>\n",
       "      <td>1</td>\n",
       "      <td>1</td>\n",
       "      <td>1</td>\n",
       "      <td>1</td>\n",
       "      <td>1</td>\n",
       "      <td>1</td>\n",
       "      <td>1</td>\n",
       "    </tr>\n",
       "    <tr>\n",
       "      <th>2002</th>\n",
       "      <td>1</td>\n",
       "      <td>1</td>\n",
       "      <td>1</td>\n",
       "      <td>1</td>\n",
       "      <td>1</td>\n",
       "      <td>1</td>\n",
       "      <td>1</td>\n",
       "    </tr>\n",
       "    <tr>\n",
       "      <th>2003</th>\n",
       "      <td>2</td>\n",
       "      <td>2</td>\n",
       "      <td>2</td>\n",
       "      <td>2</td>\n",
       "      <td>2</td>\n",
       "      <td>2</td>\n",
       "      <td>2</td>\n",
       "    </tr>\n",
       "    <tr>\n",
       "      <th>2004</th>\n",
       "      <td>3</td>\n",
       "      <td>3</td>\n",
       "      <td>3</td>\n",
       "      <td>3</td>\n",
       "      <td>3</td>\n",
       "      <td>3</td>\n",
       "      <td>3</td>\n",
       "    </tr>\n",
       "    <tr>\n",
       "      <th>2005</th>\n",
       "      <td>3</td>\n",
       "      <td>3</td>\n",
       "      <td>3</td>\n",
       "      <td>3</td>\n",
       "      <td>3</td>\n",
       "      <td>3</td>\n",
       "      <td>3</td>\n",
       "    </tr>\n",
       "    <tr>\n",
       "      <th>2007</th>\n",
       "      <td>1</td>\n",
       "      <td>1</td>\n",
       "      <td>1</td>\n",
       "      <td>1</td>\n",
       "      <td>1</td>\n",
       "      <td>1</td>\n",
       "      <td>1</td>\n",
       "    </tr>\n",
       "    <tr>\n",
       "      <th>2008</th>\n",
       "      <td>2</td>\n",
       "      <td>2</td>\n",
       "      <td>2</td>\n",
       "      <td>2</td>\n",
       "      <td>2</td>\n",
       "      <td>2</td>\n",
       "      <td>2</td>\n",
       "    </tr>\n",
       "    <tr>\n",
       "      <th>2010</th>\n",
       "      <td>3</td>\n",
       "      <td>3</td>\n",
       "      <td>3</td>\n",
       "      <td>3</td>\n",
       "      <td>3</td>\n",
       "      <td>3</td>\n",
       "      <td>3</td>\n",
       "    </tr>\n",
       "    <tr>\n",
       "      <th>2011</th>\n",
       "      <td>1</td>\n",
       "      <td>1</td>\n",
       "      <td>1</td>\n",
       "      <td>1</td>\n",
       "      <td>1</td>\n",
       "      <td>1</td>\n",
       "      <td>1</td>\n",
       "    </tr>\n",
       "    <tr>\n",
       "      <th>2013</th>\n",
       "      <td>1</td>\n",
       "      <td>1</td>\n",
       "      <td>1</td>\n",
       "      <td>1</td>\n",
       "      <td>1</td>\n",
       "      <td>1</td>\n",
       "      <td>1</td>\n",
       "    </tr>\n",
       "    <tr>\n",
       "      <th>2014</th>\n",
       "      <td>1</td>\n",
       "      <td>1</td>\n",
       "      <td>1</td>\n",
       "      <td>1</td>\n",
       "      <td>1</td>\n",
       "      <td>1</td>\n",
       "      <td>1</td>\n",
       "    </tr>\n",
       "    <tr>\n",
       "      <th>2015</th>\n",
       "      <td>3</td>\n",
       "      <td>3</td>\n",
       "      <td>3</td>\n",
       "      <td>3</td>\n",
       "      <td>3</td>\n",
       "      <td>3</td>\n",
       "      <td>3</td>\n",
       "    </tr>\n",
       "    <tr>\n",
       "      <th>2016</th>\n",
       "      <td>1</td>\n",
       "      <td>1</td>\n",
       "      <td>1</td>\n",
       "      <td>1</td>\n",
       "      <td>1</td>\n",
       "      <td>1</td>\n",
       "      <td>1</td>\n",
       "    </tr>\n",
       "    <tr>\n",
       "      <th>2017</th>\n",
       "      <td>3</td>\n",
       "      <td>3</td>\n",
       "      <td>3</td>\n",
       "      <td>3</td>\n",
       "      <td>3</td>\n",
       "      <td>3</td>\n",
       "      <td>3</td>\n",
       "    </tr>\n",
       "    <tr>\n",
       "      <th>2018</th>\n",
       "      <td>2</td>\n",
       "      <td>2</td>\n",
       "      <td>2</td>\n",
       "      <td>2</td>\n",
       "      <td>2</td>\n",
       "      <td>2</td>\n",
       "      <td>2</td>\n",
       "    </tr>\n",
       "    <tr>\n",
       "      <th>2019</th>\n",
       "      <td>2</td>\n",
       "      <td>2</td>\n",
       "      <td>2</td>\n",
       "      <td>2</td>\n",
       "      <td>2</td>\n",
       "      <td>2</td>\n",
       "      <td>2</td>\n",
       "    </tr>\n",
       "    <tr>\n",
       "      <th>2020</th>\n",
       "      <td>4</td>\n",
       "      <td>4</td>\n",
       "      <td>4</td>\n",
       "      <td>4</td>\n",
       "      <td>4</td>\n",
       "      <td>4</td>\n",
       "      <td>4</td>\n",
       "    </tr>\n",
       "    <tr>\n",
       "      <th>2021</th>\n",
       "      <td>2</td>\n",
       "      <td>2</td>\n",
       "      <td>2</td>\n",
       "      <td>2</td>\n",
       "      <td>2</td>\n",
       "      <td>2</td>\n",
       "      <td>2</td>\n",
       "    </tr>\n",
       "    <tr>\n",
       "      <th>2022</th>\n",
       "      <td>1</td>\n",
       "      <td>1</td>\n",
       "      <td>1</td>\n",
       "      <td>1</td>\n",
       "      <td>1</td>\n",
       "      <td>1</td>\n",
       "      <td>1</td>\n",
       "    </tr>\n",
       "    <tr>\n",
       "      <th>NaN</th>\n",
       "      <td>1</td>\n",
       "      <td>1</td>\n",
       "      <td>1</td>\n",
       "      <td>1</td>\n",
       "      <td>1</td>\n",
       "      <td>1</td>\n",
       "      <td>1</td>\n",
       "    </tr>\n",
       "  </tbody>\n",
       "</table>\n",
       "</div>"
      ],
      "text/plain": [
       "              Chart Number  Title  Duration(min)  Genre  Rating  Director  \\\n",
       "Release Date                                                                \n",
       "1925                     1      1              1      1       1         1   \n",
       "1939                     1      1              1      1       1         1   \n",
       "1948                     3      3              3      3       3         3   \n",
       "1951                     1      1              1      1       1         1   \n",
       "1954                     1      1              1      1       1         1   \n",
       "1956                     1      1              1      1       1         1   \n",
       "1957                     3      3              3      3       3         3   \n",
       "1959                     1      1              1      1       1         1   \n",
       "1960                     2      2              2      2       2         2   \n",
       "1961                     1      1              1      1       1         1   \n",
       "1964                     1      1              1      1       1         1   \n",
       "1965                     2      2              2      2       2         2   \n",
       "1966                     1      1              1      1       1         1   \n",
       "1968                     1      1              1      1       1         1   \n",
       "1969                     5      5              5      5       5         5   \n",
       "1970                     4      4              4      4       4         4   \n",
       "1971                     2      2              2      2       2         2   \n",
       "1972                     3      3              3      3       3         3   \n",
       "1975                     2      2              2      2       2         2   \n",
       "1977                     1      1              1      1       1         1   \n",
       "1978                     1      1              1      1       1         1   \n",
       "1979                     1      1              1      1       1         1   \n",
       "1980                     1      1              1      1       1         1   \n",
       "1981                     1      1              1      1       1         1   \n",
       "1982                     1      1              1      1       1         1   \n",
       "1989                     2      2              2      2       2         2   \n",
       "1990                     4      4              4      4       4         4   \n",
       "1991                     1      1              1      1       1         1   \n",
       "1992                     1      1              1      1       1         1   \n",
       "1993                     2      2              2      2       2         2   \n",
       "1994                     4      4              4      4       4         4   \n",
       "1995                     4      4              4      4       4         4   \n",
       "1998                     2      2              2      2       2         2   \n",
       "2000                     1      1              1      1       1         1   \n",
       "2002                     1      1              1      1       1         1   \n",
       "2003                     2      2              2      2       2         2   \n",
       "2004                     3      3              3      3       3         3   \n",
       "2005                     3      3              3      3       3         3   \n",
       "2007                     1      1              1      1       1         1   \n",
       "2008                     2      2              2      2       2         2   \n",
       "2010                     3      3              3      3       3         3   \n",
       "2011                     1      1              1      1       1         1   \n",
       "2013                     1      1              1      1       1         1   \n",
       "2014                     1      1              1      1       1         1   \n",
       "2015                     3      3              3      3       3         3   \n",
       "2016                     1      1              1      1       1         1   \n",
       "2017                     3      3              3      3       3         3   \n",
       "2018                     2      2              2      2       2         2   \n",
       "2019                     2      2              2      2       2         2   \n",
       "2020                     4      4              4      4       4         4   \n",
       "2021                     2      2              2      2       2         2   \n",
       "2022                     1      1              1      1       1         1   \n",
       "NaN                      1      1              1      1       1         1   \n",
       "\n",
       "              Actors  \n",
       "Release Date          \n",
       "1925               1  \n",
       "1939               1  \n",
       "1948               3  \n",
       "1951               1  \n",
       "1954               1  \n",
       "1956               1  \n",
       "1957               3  \n",
       "1959               1  \n",
       "1960               2  \n",
       "1961               1  \n",
       "1964               1  \n",
       "1965               2  \n",
       "1966               1  \n",
       "1968               1  \n",
       "1969               5  \n",
       "1970               4  \n",
       "1971               2  \n",
       "1972               3  \n",
       "1975               2  \n",
       "1977               1  \n",
       "1978               1  \n",
       "1979               1  \n",
       "1980               1  \n",
       "1981               1  \n",
       "1982               1  \n",
       "1989               2  \n",
       "1990               4  \n",
       "1991               1  \n",
       "1992               1  \n",
       "1993               2  \n",
       "1994               4  \n",
       "1995               4  \n",
       "1998               2  \n",
       "2000               1  \n",
       "2002               1  \n",
       "2003               2  \n",
       "2004               3  \n",
       "2005               3  \n",
       "2007               1  \n",
       "2008               2  \n",
       "2010               3  \n",
       "2011               1  \n",
       "2013               1  \n",
       "2014               1  \n",
       "2015               3  \n",
       "2016               1  \n",
       "2017               3  \n",
       "2018               2  \n",
       "2019               2  \n",
       "2020               4  \n",
       "2021               2  \n",
       "2022               1  \n",
       "NaN                1  "
      ]
     },
     "execution_count": 10,
     "metadata": {},
     "output_type": "execute_result"
    }
   ],
   "source": [
    "\n",
    "freq = df.groupby('Release Date').count()\n",
    "freq"
   ]
  },
  {
   "cell_type": "code",
   "execution_count": null,
   "metadata": {
    "cell_id": "00010-e7b44943-bb80-48e1-adf8-b1f5e3013702",
    "deepnote_cell_type": "code",
    "deepnote_to_be_reexecuted": true,
    "execution_millis": 13,
    "source_hash": "20f9eefa",
    "tags": []
   },
   "outputs": [
    {
     "data": {
      "text/plain": [
       "[0.0576271186440678,\n",
       " 0.04419889502762431,\n",
       " 0.052272727272727276,\n",
       " 0.06638655462184874,\n",
       " 0.05128205128205128,\n",
       " 0.06015625,\n",
       " 'NaN',\n",
       " 0.06728971962616823,\n",
       " 0.12790697674418605,\n",
       " 0.04266666666666667,\n",
       " 'NaN',\n",
       " 0.05851851851851852,\n",
       " 0.06271186440677966,\n",
       " 0.05894736842105263,\n",
       " 0.031050228310502283,\n",
       " 0.04,\n",
       " 0.04926470588235294,\n",
       " 0.04033613445378151,\n",
       " 0.035078534031413616,\n",
       " 0.08674698795180723,\n",
       " 0.162,\n",
       " 0.08125,\n",
       " 0.02265625,\n",
       " 0.04473684210526316,\n",
       " 0.06538461538461539,\n",
       " 0.05798319327731093,\n",
       " 0.05590551181102362,\n",
       " 0.06,\n",
       " 0.04714285714285714,\n",
       " 0.056488549618320616,\n",
       " 0.00660828025477707,\n",
       " 0.0578125,\n",
       " 0.07037037037037036,\n",
       " 0.058646616541353384,\n",
       " 'NaN',\n",
       " 0.046511627906976744,\n",
       " 0.04744525547445255,\n",
       " 0.045625,\n",
       " 0.04916666666666667,\n",
       " 0.12833333333333333,\n",
       " 0.07156862745098039,\n",
       " 0.06280991735537189,\n",
       " 0.062393162393162394,\n",
       " 0.05964912280701754,\n",
       " 0.05522388059701493,\n",
       " 0.05467625899280575,\n",
       " 0.06507936507936507,\n",
       " 0.04926470588235294,\n",
       " 0.05543478260869565,\n",
       " 0.08214285714285714,\n",
       " 0.01467391304347826,\n",
       " 0.12333333333333334,\n",
       " 'NaN',\n",
       " 0.0603448275862069,\n",
       " 0.22666666666666666,\n",
       " 0.05252525252525253,\n",
       " 0.04259259259259259,\n",
       " 0.18444444444444447,\n",
       " 0.08795180722891566,\n",
       " 0.24000000000000002,\n",
       " 0.053125,\n",
       " 0.035164835164835165,\n",
       " 'NaN',\n",
       " 0.06346153846153846,\n",
       " 0.07105263157894737,\n",
       " 0.28695652173913044,\n",
       " 0.05615384615384615,\n",
       " 0.06555555555555556,\n",
       " 0.07252747252747252,\n",
       " 0.05909090909090909,\n",
       " 0.06145833333333334,\n",
       " 0.0863157894736842,\n",
       " 0.05454545454545454,\n",
       " 0.02666666666666667,\n",
       " 0.32916666666666666,\n",
       " 0.05670103092783505,\n",
       " 0.06106194690265487,\n",
       " 0.2733333333333333,\n",
       " 0.03962264150943397,\n",
       " 0.08666666666666667,\n",
       " 0.060526315789473685,\n",
       " 0.061157024793388436,\n",
       " 0.05859375,\n",
       " 0.05075757575757576,\n",
       " 0.027007299270072994,\n",
       " 0.06391752577319587,\n",
       " 0.12833333333333333,\n",
       " 0.0707070707070707,\n",
       " 0.04579439252336449,\n",
       " 0.06448598130841122,\n",
       " 0.05775862068965518,\n",
       " 0.05378151260504202,\n",
       " 0.07444444444444445,\n",
       " 'NaN',\n",
       " 0.059322033898305086,\n",
       " 0.25666666666666665,\n",
       " 0.05630252100840336,\n",
       " 0.05416666666666667,\n",
       " 0.07216494845360824,\n",
       " 0.060000000000000005]"
      ]
     },
     "execution_count": 11,
     "metadata": {},
     "output_type": "execute_result"
    }
   ],
   "source": [
    "rds = []\n",
    "\n",
    "for i in range(len(df.index)):\n",
    "     #print(df['Duration(min)'][i])\n",
    "    if df['Duration(min)'][i] != 'NaN' and df['Rating'][i] != 'NaN':\n",
    "        rds.append(float(df['Rating'][i]) / int(df['Duration(min)'][i]))\n",
    "    else:\n",
    "        rds.append('NaN')\n",
    "\n",
    "rds\n",
    "\n"
   ]
  },
  {
   "cell_type": "code",
   "execution_count": null,
   "metadata": {
    "cell_id": "00011-bb47eb44-5209-4d6a-a57e-3719e607d1e4",
    "deepnote_cell_type": "code",
    "deepnote_to_be_reexecuted": true,
    "execution_millis": 41,
    "source_hash": "ca757d22",
    "tags": []
   },
   "outputs": [
    {
     "data": {
      "application/vnd.deepnote.dataframe.v2+json": {
       "column_count": 9,
       "columns": [
        {
         "dtype": "int64",
         "name": "Chart Number",
         "stats": {
          "histogram": [
           {
            "bin_end": 10.9,
            "bin_start": 1,
            "count": 10
           },
           {
            "bin_end": 20.8,
            "bin_start": 10.9,
            "count": 10
           },
           {
            "bin_end": 30.700000000000003,
            "bin_start": 20.8,
            "count": 10
           },
           {
            "bin_end": 40.6,
            "bin_start": 30.700000000000003,
            "count": 10
           },
           {
            "bin_end": 50.5,
            "bin_start": 40.6,
            "count": 10
           },
           {
            "bin_end": 60.400000000000006,
            "bin_start": 50.5,
            "count": 10
           },
           {
            "bin_end": 70.3,
            "bin_start": 60.400000000000006,
            "count": 10
           },
           {
            "bin_end": 80.2,
            "bin_start": 70.3,
            "count": 10
           },
           {
            "bin_end": 90.10000000000001,
            "bin_start": 80.2,
            "count": 10
           },
           {
            "bin_end": 100,
            "bin_start": 90.10000000000001,
            "count": 10
           }
          ],
          "max": 100,
          "min": 1,
          "nan_count": 0,
          "unique_count": 100
         }
        },
        {
         "dtype": "object",
         "name": "Title",
         "stats": {
          "categories": [
           {
            "count": 3,
            "name": "Zorro"
           },
           {
            "count": 2,
            "name": "The Magnificent Seven"
           },
           {
            "count": 95,
            "name": "95 others"
           }
          ],
          "nan_count": 0,
          "unique_count": 97
         }
        },
        {
         "dtype": "object",
         "name": "Release Date",
         "stats": {
          "categories": [
           {
            "count": 5,
            "name": "1969"
           },
           {
            "count": 4,
            "name": "2020"
           },
           {
            "count": 91,
            "name": "51 others"
           }
          ],
          "nan_count": 0,
          "unique_count": 53
         }
        },
        {
         "dtype": "object",
         "name": "Duration(min)",
         "stats": {
          "categories": [
           {
            "count": 6,
            "name": "NaN"
           },
           {
            "count": 5,
            "name": "119"
           },
           {
            "count": 89,
            "name": "58 others"
           }
          ],
          "nan_count": 0,
          "unique_count": 60
         }
        },
        {
         "dtype": "object",
         "name": "Genre",
         "stats": {
          "categories": [
           {
            "count": 14,
            "name": "Adventure, Drama, Western            "
           },
           {
            "count": 10,
            "name": "Action, Adventure, Comedy            "
           },
           {
            "count": 76,
            "name": "33 others"
           }
          ],
          "nan_count": 0,
          "unique_count": 35
         }
        },
        {
         "dtype": "object",
         "name": "Rating",
         "stats": {
          "categories": [
           {
            "count": 7,
            "name": "6.9"
           },
           {
            "count": 7,
            "name": "7.4"
           },
           {
            "count": 86,
            "name": "35 others"
           }
          ],
          "nan_count": 0,
          "unique_count": 37
         }
        },
        {
         "dtype": "object",
         "name": "Director",
         "stats": {
          "categories": [
           {
            "count": 4,
            "name": "John Ford"
           },
           {
            "count": 2,
            "name": "Gore Verbinski"
           },
           {
            "count": 94,
            "name": "87 others"
           }
          ],
          "nan_count": 0,
          "unique_count": 89
         }
        },
        {
         "dtype": "object",
         "name": "Actors",
         "stats": {
          "categories": [
           {
            "count": 2,
            "name": "NaN"
           },
           {
            "count": 1,
            "name": "Tom Hanks, Helena Zengel, Tom Astor, Travis Johnson"
           },
           {
            "count": 97,
            "name": "97 others"
           }
          ],
          "nan_count": 0,
          "unique_count": 99
         }
        },
        {
         "dtype": "object",
         "name": "Rarings/Duration",
         "stats": {
          "categories": [
           {
            "count": 6,
            "name": "NaN"
           },
           {
            "count": 2,
            "name": "0.04926470588235294"
           },
           {
            "count": 92,
            "name": "91 others"
           }
          ],
          "nan_count": 0,
          "unique_count": 93
         }
        },
        {
         "dtype": "int64",
         "name": "_deepnote_index_column"
        }
       ],
       "row_count": 100,
       "rows_bottom": null,
       "rows_top": [
        {
         "Actors": "Tom Hanks, Helena Zengel, Tom Astor, Travis Johnson",
         "Chart Number": 1,
         "Director": "Paul Greengrass",
         "Duration(min)": "118",
         "Genre": "Action, Adventure, Drama            ",
         "Rarings/Duration": "0.0576271186440678",
         "Rating": "6.8",
         "Release Date": "2020",
         "Title": "News of the World",
         "_deepnote_index_column": 0
        },
        {
         "Actors": "Kevin Costner, Mary McDonnell, Graham Greene, Rodney A. Grant",
         "Chart Number": 2,
         "Director": "Kevin Costner",
         "Duration(min)": "181",
         "Genre": "Adventure, Drama, Western            ",
         "Rarings/Duration": "0.04419889502762431",
         "Rating": "8",
         "Release Date": "1990",
         "Title": "Dances with Wolves",
         "_deepnote_index_column": 1
        },
        {
         "Actors": "Denzel Washington, Chris Pratt, Ethan Hawke, Vincent D'Onofrio",
         "Chart Number": 3,
         "Director": "Antoine Fuqua",
         "Duration(min)": "132",
         "Genre": "Action, Adventure, Western            ",
         "Rarings/Duration": "0.052272727272727276",
         "Rating": "6.9",
         "Release Date": "2016",
         "Title": "The Magnificent Seven",
         "_deepnote_index_column": 2
        },
        {
         "Actors": "John Wayne, Jeffrey Hunter, Vera Miles, Ward Bond",
         "Chart Number": 4,
         "Director": "John Ford",
         "Duration(min)": "119",
         "Genre": "Adventure, Drama, Western            ",
         "Rarings/Duration": "0.06638655462184874",
         "Rating": "7.9",
         "Release Date": "1956",
         "Title": "The Searchers",
         "_deepnote_index_column": 3
        },
        {
         "Actors": "Leonardo DiCaprio, Tom Hardy, Will Poulter, Domhnall Gleeson",
         "Chart Number": 5,
         "Director": "Alejandro G. Iñárritu",
         "Duration(min)": "156",
         "Genre": "Action, Adventure, Drama            ",
         "Rarings/Duration": "0.05128205128205128",
         "Rating": "8",
         "Release Date": "2015",
         "Title": "The Revenant",
         "_deepnote_index_column": 4
        },
        {
         "Actors": "Yul Brynner, Steve McQueen, Charles Bronson, Eli Wallach",
         "Chart Number": 6,
         "Director": "John Sturges",
         "Duration(min)": "128",
         "Genre": "Action, Adventure, Western            ",
         "Rarings/Duration": "0.06015625",
         "Rating": "7.7",
         "Release Date": "1960",
         "Title": "The Magnificent Seven",
         "_deepnote_index_column": 5
        },
        {
         "Actors": "Ennio Torresan, Eiza González, Isabela Merced, Jake Gyllenhaal, Mckenna Grace",
         "Chart Number": 7,
         "Director": "Elaine Bogan",
         "Duration(min)": "NaN",
         "Genre": "Animation, Adventure, Family            ",
         "Rarings/Duration": "NaN",
         "Rating": "NaN",
         "Release Date": "2021",
         "Title": "Spirit Untamed",
         "_deepnote_index_column": 6
        },
        {
         "Actors": "Johnny Depp, Isla Fisher, Timothy Olyphant, Abigail Breslin",
         "Chart Number": 8,
         "Director": "Gore Verbinski",
         "Duration(min)": "107",
         "Genre": "Animation, Adventure, Comedy            ",
         "Rarings/Duration": "0.06728971962616823",
         "Rating": "7.2",
         "Release Date": "2011",
         "Title": "Rango",
         "_deepnote_index_column": 7
        },
        {
         "Actors": "Clarence Gilyard Jr., Sheree J. Wilson, Noble Willingham",
         "Chart Number": 9,
         "Director": "Chuck Norris",
         "Duration(min)": "43",
         "Genre": "Action, Adventure, Crime            ",
         "Rarings/Duration": "0.12790697674418605",
         "Rating": "5.5",
         "Release Date": "1993",
         "Title": "Walker, Texas Ranger",
         "_deepnote_index_column": 8
        },
        {
         "Actors": "Johnny Depp, Armie Hammer, William Fichtner, Tom Wilkinson",
         "Chart Number": 10,
         "Director": "Gore Verbinski",
         "Duration(min)": "150",
         "Genre": "Action, Adventure, Western            ",
         "Rarings/Duration": "0.04266666666666667",
         "Rating": "6.4",
         "Release Date": "2013",
         "Title": "The Lone Ranger",
         "_deepnote_index_column": 9
        },
        {
         "Actors": "Roger Clark, Rob Wiethoff, Cali Elizabeth Moore",
         "Chart Number": 11,
         "Director": "Benjamin Byron Davis",
         "Duration(min)": "NaN",
         "Genre": "Action, Adventure, Crime            ",
         "Rarings/Duration": "NaN",
         "Rating": "9.7",
         "Release Date": "2018",
         "Title": "Red Dead Redemption II",
         "_deepnote_index_column": 10
        },
        {
         "Actors": "William Holden, Ernest Borgnine, Robert Ryan, Edmond O'Brien",
         "Chart Number": 12,
         "Director": "Sam Peckinpah",
         "Duration(min)": "135",
         "Genre": "Action, Adventure, Western            ",
         "Rarings/Duration": "0.05851851851851852",
         "Rating": "7.9",
         "Release Date": "1969",
         "Title": "The Wild Bunch",
         "_deepnote_index_column": 11
        },
        {
         "Actors": "Michael J. Fox, Christopher Lloyd, Mary Steenburgen, Thomas F. Wilson",
         "Chart Number": 13,
         "Director": "Robert Zemeckis",
         "Duration(min)": "118",
         "Genre": "Adventure, Comedy, Sci-Fi            ",
         "Rarings/Duration": "0.06271186440677966",
         "Rating": "7.4",
         "Release Date": "1990",
         "Title": "Back to the Future Part III",
         "_deepnote_index_column": 12
        },
        {
         "Actors": "Idris Elba, Matthew McConaughey, Tom Taylor, Dennis Haysbert",
         "Chart Number": 14,
         "Director": "Nikolaj Arcel",
         "Duration(min)": "95",
         "Genre": "Action, Adventure, Fantasy            ",
         "Rarings/Duration": "0.05894736842105263",
         "Rating": "5.6",
         "Release Date": "2017",
         "Title": "The Dark Tower",
         "_deepnote_index_column": 13
        },
        {
         "Actors": "Kris Kristofferson, Christopher Walken, John Hurt, Sam Waterston",
         "Chart Number": 15,
         "Director": "Michael Cimino",
         "Duration(min)": "219",
         "Genre": "Adventure, Drama, Western            ",
         "Rarings/Duration": "0.031050228310502283",
         "Rating": "6.8",
         "Release Date": "1980",
         "Title": "Heaven's Gate",
         "_deepnote_index_column": 14
        },
        {
         "Actors": "Nicole Kidman, Hugh Jackman, Shea Adams, Eddie Baroo",
         "Chart Number": 16,
         "Director": "Baz Luhrmann",
         "Duration(min)": "165",
         "Genre": "Adventure, Comedy, Drama            ",
         "Rarings/Duration": "0.04",
         "Rating": "6.6",
         "Release Date": "2008",
         "Title": "Australia",
         "_deepnote_index_column": 15
        },
        {
         "Actors": "Antonio Banderas, Anthony Hopkins, Catherine Zeta-Jones, José María de Tavira",
         "Chart Number": 17,
         "Director": "Martin Campbell",
         "Duration(min)": "136",
         "Genre": "Action, Adventure, Comedy            ",
         "Rarings/Duration": "0.04926470588235294",
         "Rating": "6.7",
         "Release Date": "1998",
         "Title": "The Mask of Zorro",
         "_deepnote_index_column": 16
        },
        {
         "Actors": "Adam Sandler, Terry Crews, Jorge Garcia, Taylor Lautner",
         "Chart Number": 18,
         "Director": "Frank Coraci",
         "Duration(min)": "119",
         "Genre": "Action, Adventure, Comedy            ",
         "Rarings/Duration": "0.04033613445378151",
         "Rating": "4.8",
         "Release Date": "2015",
         "Title": "The Ridiculous 6",
         "_deepnote_index_column": 17
        },
        {
         "Actors": "Kevin Costner, Dennis Quaid, Gene Hackman, David Andrews",
         "Chart Number": 19,
         "Director": "Lawrence Kasdan",
         "Duration(min)": "191",
         "Genre": "Adventure, Biography, Crime            ",
         "Rarings/Duration": "0.035078534031413616",
         "Rating": "6.7",
         "Release Date": "1994",
         "Title": "Wyatt Earp",
         "_deepnote_index_column": 18
        },
        {
         "Actors": "Lorna Cook, Matt Damon, James Cromwell, Daniel Studi, Chopper Bernet",
         "Chart Number": 20,
         "Director": "Kelly Asbury",
         "Duration(min)": "83",
         "Genre": "Animation, Adventure, Drama            ",
         "Rarings/Duration": "0.08674698795180723",
         "Rating": "7.2",
         "Release Date": "2002",
         "Title": "Spirit: Stallion of the Cimarron",
         "_deepnote_index_column": 19
        },
        {
         "Actors": "Ross Martin, Dick Cangey, Whitey Hughes",
         "Chart Number": 21,
         "Director": "Robert Conrad",
         "Duration(min)": "50",
         "Genre": "Action, Adventure, Sci-Fi            ",
         "Rarings/Duration": "0.162",
         "Rating": "8.1",
         "Release Date": "1965",
         "Title": "The Wild Wild West",
         "_deepnote_index_column": 20
        },
        {
         "Actors": "John Wayne, Claire Trevor, Andy Devine, John Carradine",
         "Chart Number": 22,
         "Director": "John Ford",
         "Duration(min)": "96",
         "Genre": "Adventure, Drama, Western            ",
         "Rarings/Duration": "0.08125",
         "Rating": "7.8",
         "Release Date": "1939",
         "Title": "Stagecoach",
         "_deepnote_index_column": 21
        },
        {
         "Actors": "Tommy Lee Jones, Danny Glover, Diane Lane",
         "Chart Number": 23,
         "Director": "Robert Duvall",
         "Duration(min)": "384",
         "Genre": "Adventure, Drama, Western            ",
         "Rarings/Duration": "0.02265625",
         "Rating": "8.7",
         "Release Date": "1989",
         "Title": "Lonesome Dove",
         "_deepnote_index_column": 22
        },
        {
         "Actors": "Jake Allyn, Frank Grillo, Jorge A. Jimenez, Andie MacDowell",
         "Chart Number": 24,
         "Director": "Conor Allyn",
         "Duration(min)": "114",
         "Genre": "Action, Adventure, Thriller            ",
         "Rarings/Duration": "0.04473684210526316",
         "Rating": "5.1",
         "Release Date": "2020",
         "Title": "No Man's Land",
         "_deepnote_index_column": 23
        },
        {
         "Actors": "Richard Harris, John Huston, Henry Wilcoxon, Percy Herbert",
         "Chart Number": 25,
         "Director": "Richard C. Sarafian",
         "Duration(min)": "104",
         "Genre": "Adventure, Drama, Western            ",
         "Rarings/Duration": "0.06538461538461539",
         "Rating": "6.8",
         "Release Date": "1971",
         "Title": "Man in the Wilderness",
         "_deepnote_index_column": 24
        },
        {
         "Actors": "Tom Selleck, Laura San Giacomo, Alan Rickman, Chris Haywood",
         "Chart Number": 26,
         "Director": "Simon Wincer",
         "Duration(min)": "119",
         "Genre": "Action, Adventure, Drama            ",
         "Rarings/Duration": "0.05798319327731093",
         "Rating": "6.9",
         "Release Date": "1990",
         "Title": "Quigley Down Under",
         "_deepnote_index_column": 25
        },
        {
         "Actors": "Mel Gibson, Jodie Foster, James Garner, Graham Greene",
         "Chart Number": 27,
         "Director": "Richard Donner",
         "Duration(min)": "127",
         "Genre": "Action, Adventure, Comedy            ",
         "Rarings/Duration": "0.05590551181102362",
         "Rating": "7.1",
         "Release Date": "1994",
         "Title": "Maverick",
         "_deepnote_index_column": 26
        },
        {
         "Actors": "Jackie Chan, Owen Wilson, Lucy Liu, Brandon Merrill",
         "Chart Number": 28,
         "Director": "Tom Dey",
         "Duration(min)": "110",
         "Genre": "Action, Adventure, Comedy            ",
         "Rarings/Duration": "0.06",
         "Rating": "6.6",
         "Release Date": "2000",
         "Title": "Shanghai Noon",
         "_deepnote_index_column": 27
        },
        {
         "Actors": "Tom Cruise, Nicole Kidman, Thomas Gibson, Robert Prosky",
         "Chart Number": 29,
         "Director": "Ron Howard",
         "Duration(min)": "140",
         "Genre": "Adventure, Drama, Romance            ",
         "Rarings/Duration": "0.04714285714285714",
         "Rating": "6.6",
         "Release Date": "1992",
         "Title": "Far and Away",
         "_deepnote_index_column": 28
        },
        {
         "Actors": "Kleber Mendonça Filho, Bárbara Colen, Thomas Aquino, Silvero Pereira, Thardelly Lima",
         "Chart Number": 30,
         "Director": "Juliano Dornelles",
         "Duration(min)": "131",
         "Genre": "Adventure, Horror, Mystery            ",
         "Rarings/Duration": "0.056488549618320616",
         "Rating": "7.4",
         "Release Date": "2019",
         "Title": "Bacurau",
         "_deepnote_index_column": 29
        },
        {
         "Actors": "Barbara Carrera, Richard Chamberlain, Robert Conrad",
         "Chart Number": 31,
         "Director": "Raymond Burr",
         "Duration(min)": "1256",
         "Genre": "Action, Adventure, Drama            ",
         "Rarings/Duration": "0.00660828025477707",
         "Rating": "8.3",
         "Release Date": "1978",
         "Title": "Centennial",
         "_deepnote_index_column": 30
        },
        {
         "Actors": "John Wayne, Kim Darby, Glen Campbell, Jeremy Slate",
         "Chart Number": 32,
         "Director": "Henry Hathaway",
         "Duration(min)": "128",
         "Genre": "Adventure, Drama, Western            ",
         "Rarings/Duration": "0.0578125",
         "Rating": "7.4",
         "Release Date": "1969",
         "Title": "True Grit",
         "_deepnote_index_column": 31
        },
        {
         "Actors": "Robert Redford, Will Geer, Delle Bolton, Josh Albee",
         "Chart Number": 33,
         "Director": "Sydney Pollack",
         "Duration(min)": "108",
         "Genre": "Adventure, Drama, Western            ",
         "Rarings/Duration": "0.07037037037037036",
         "Rating": "7.6",
         "Release Date": "1972",
         "Title": "Jeremiah Johnson",
         "_deepnote_index_column": 32
        },
        {
         "Actors": "Arthur Rosson, John Wayne, Montgomery Clift, Joanne Dru, Walter Brennan",
         "Chart Number": 34,
         "Director": "Howard Hawks",
         "Duration(min)": "133",
         "Genre": "Action, Adventure, Drama            ",
         "Rarings/Duration": "0.058646616541353384",
         "Rating": "7.8",
         "Release Date": "1948",
         "Title": "Red River",
         "_deepnote_index_column": 33
        },
        {
         "Actors": "NaN",
         "Chart Number": 35,
         "Director": "NaN",
         "Duration(min)": "NaN",
         "Genre": "Adventure, Drama, Western            ",
         "Rarings/Duration": "NaN",
         "Rating": "NaN",
         "Release Date": "2022",
         "Title": "Django/Zorro",
         "_deepnote_index_column": 34
        },
        {
         "Actors": "Antonio Banderas, Catherine Zeta-Jones, Rufus Sewell, Alberto Reyes",
         "Chart Number": 36,
         "Director": "Martin Campbell",
         "Duration(min)": "129",
         "Genre": "Action, Adventure, Romance            ",
         "Rarings/Duration": "0.046511627906976744",
         "Rating": "6",
         "Release Date": "2005",
         "Title": "The Legend of Zorro",
         "_deepnote_index_column": 35
        },
        {
         "Actors": "Tommy Lee Jones, Cate Blanchett, Evan Rachel Wood, Jenna Boyd",
         "Chart Number": 37,
         "Director": "Ron Howard",
         "Duration(min)": "137",
         "Genre": "Adventure, Thriller, Western            ",
         "Rarings/Duration": "0.04744525547445255",
         "Rating": "6.5",
         "Release Date": "2003",
         "Title": "The Missing",
         "_deepnote_index_column": 36
        },
        {
         "Actors": "Tony Curtis, Natalie Wood, Jack Lemmon, Peter Falk",
         "Chart Number": 38,
         "Director": "Blake Edwards",
         "Duration(min)": "160",
         "Genre": "Action, Adventure, Comedy            ",
         "Rarings/Duration": "0.045625",
         "Rating": "7.3",
         "Release Date": "1965",
         "Title": "The Great Race",
         "_deepnote_index_column": 37
        },
        {
         "Actors": "Jackie Chan, Steve Coogan, Jim Broadbent, Kathy Bates",
         "Chart Number": 39,
         "Director": "Frank Coraci",
         "Duration(min)": "120",
         "Genre": "Action, Adventure, Comedy            ",
         "Rarings/Duration": "0.04916666666666667",
         "Rating": "5.9",
         "Release Date": "2004",
         "Title": "Around the World in 80 Days",
         "_deepnote_index_column": 38
        },
        {
         "Actors": "Radames Pera, Keye Luke, Philip Ahn",
         "Chart Number": 40,
         "Director": "David Carradine",
         "Duration(min)": "60",
         "Genre": "Adventure, Drama, Western            ",
         "Rarings/Duration": "0.12833333333333333",
         "Rating": "7.7",
         "Release Date": "1972",
         "Title": "Kung Fu",
         "_deepnote_index_column": 39
        },
        {
         "Actors": "Kirk Douglas, Tom Burlinson, Terence Donovan, Tommy Dysart",
         "Chart Number": 41,
         "Director": "George Miller",
         "Duration(min)": "102",
         "Genre": "Adventure, Drama, Romance            ",
         "Rarings/Duration": "0.07156862745098039",
         "Rating": "7.3",
         "Release Date": "1982",
         "Title": "The Man from Snowy River",
         "_deepnote_index_column": 40
        },
        {
         "Actors": "Johnny Depp, Gary Farmer, Crispin Glover, Lance Henriksen",
         "Chart Number": 42,
         "Director": "Jim Jarmusch",
         "Duration(min)": "121",
         "Genre": "Adventure, Drama, Fantasy            ",
         "Rarings/Duration": "0.06280991735537189",
         "Rating": "7.6",
         "Release Date": "1995",
         "Title": "Dead Man",
         "_deepnote_index_column": 41
        },
        {
         "Actors": "Burt Lancaster, Lee Marvin, Robert Ryan, Woody Strode",
         "Chart Number": 43,
         "Director": "Richard Brooks",
         "Duration(min)": "117",
         "Genre": "Action, Adventure, Western            ",
         "Rarings/Duration": "0.062393162393162394",
         "Rating": "7.3",
         "Release Date": "1966",
         "Title": "The Professionals",
         "_deepnote_index_column": 42
        },
        {
         "Actors": "John Wayne, Jorge Rivero, Jennifer O'Neill, Jack Elam",
         "Chart Number": 44,
         "Director": "Howard Hawks",
         "Duration(min)": "114",
         "Genre": "Adventure, Romance, War            ",
         "Rarings/Duration": "0.05964912280701754",
         "Rating": "6.8",
         "Release Date": "1970",
         "Title": "Rio Lobo",
         "_deepnote_index_column": 43
        },
        {
         "Actors": "John Wayne, Roscoe Lee Browne, Bruce Dern, Colleen Dewhurst",
         "Chart Number": 45,
         "Director": "Mark Rydell",
         "Duration(min)": "134",
         "Genre": "Adventure, Drama, Western            ",
         "Rarings/Duration": "0.05522388059701493",
         "Rating": "7.4",
         "Release Date": "1972",
         "Title": "The Cowboys",
         "_deepnote_index_column": 44
        },
        {
         "Actors": "Dustin Hoffman, Faye Dunaway, Chief Dan George, Martin Balsam",
         "Chart Number": 46,
         "Director": "Arthur Penn",
         "Duration(min)": "139",
         "Genre": "Adventure, Comedy, Drama            ",
         "Rarings/Duration": "0.05467625899280575",
         "Rating": "7.6",
         "Release Date": "1970",
         "Title": "Little Big Man",
         "_deepnote_index_column": 45
        },
        {
         "Actors": "Humphrey Bogart, Walter Huston, Tim Holt, Bruce Bennett",
         "Chart Number": 47,
         "Director": "John Huston",
         "Duration(min)": "126",
         "Genre": "Adventure, Drama, Western            ",
         "Rarings/Duration": "0.06507936507936507",
         "Rating": "8.2",
         "Release Date": "1948",
         "Title": "The Treasure of the Sierra Madre",
         "_deepnote_index_column": 46
        },
        {
         "Actors": "Viggo Mortensen, Omar Sharif, Zuleikha Robinson, Louise Lombard",
         "Chart Number": 48,
         "Director": "Joe Johnston",
         "Duration(min)": "136",
         "Genre": "Action, Adventure, Biography            ",
         "Rarings/Duration": "0.04926470588235294",
         "Rating": "6.7",
         "Release Date": "2004",
         "Title": "Hidalgo",
         "_deepnote_index_column": 47
        },
        {
         "Actors": "Sam Quartin, Dylan Sprouse, Nekhebet Kum Juch, Thea Sofie Loch Næss",
         "Chart Number": 49,
         "Director": "Kerry Mondragon",
         "Duration(min)": "92",
         "Genre": "Adventure, Romance, Western            ",
         "Rarings/Duration": "0.05543478260869565",
         "Rating": "5.1",
         "Release Date": "2021",
         "Title": "Tyger Tyger",
         "_deepnote_index_column": 48
        },
        {
         "Actors": "Kodi Smit-McPhee, Caren Pistorius, Aorere Paki, Jeffrey Thomas",
         "Chart Number": 50,
         "Director": "John Maclean",
         "Duration(min)": "84",
         "Genre": "Action, Adventure, Drama            ",
         "Rarings/Duration": "0.08214285714285714",
         "Rating": "6.9",
         "Release Date": "2015",
         "Title": "Slow West",
         "_deepnote_index_column": 49
        },
        {
         "Actors": "Irene Bedard, Gil Birmingham, John Terry",
         "Chart Number": 51,
         "Director": "Joseph M. Marshall",
         "Duration(min)": "552",
         "Genre": "Adventure, Drama, History            ",
         "Rarings/Duration": "0.01467391304347826",
         "Rating": "8.1",
         "Release Date": "2005",
         "Title": "Into the West",
         "_deepnote_index_column": 50
        },
        {
         "Actors": "Patricia Blair, Darby Hinton, Dal McKennon",
         "Chart Number": 52,
         "Director": "Fess Parker",
         "Duration(min)": "60",
         "Genre": "Adventure, Western            ",
         "Rarings/Duration": "0.12333333333333334",
         "Rating": "7.4",
         "Release Date": "1964",
         "Title": "Daniel Boone",
         "_deepnote_index_column": 51
        },
        {
         "Actors": "Matthew Perry, Wayne Newton, Kris Kristofferson, Ron Perlman",
         "Chart Number": 53,
         "Director": "Josh Sawyer",
         "Duration(min)": "NaN",
         "Genre": "Action, Adventure, Sci-Fi            ",
         "Rarings/Duration": "NaN",
         "Rating": "8.8",
         "Release Date": "2010",
         "Title": "Fallout: New Vegas",
         "_deepnote_index_column": 52
        },
        {
         "Actors": "Clint Eastwood, Shirley MacLaine, Manolo Fábregas, Alberto Morin",
         "Chart Number": 54,
         "Director": "Don Siegel",
         "Duration(min)": "116",
         "Genre": "Adventure, Romance, War            ",
         "Rarings/Duration": "0.0603448275862069",
         "Rating": "7",
         "Release Date": "1970",
         "Title": "Two Mules for Sister Sara",
         "_deepnote_index_column": 53
        },
        {
         "Actors": "Duncan Regehr, James Victor, Juan Diego Botto",
         "Chart Number": 55,
         "Director": "Patrice Martinez",
         "Duration(min)": "30",
         "Genre": "Adventure, Family, Romance            ",
         "Rarings/Duration": "0.22666666666666666",
         "Rating": "6.8",
         "Release Date": "1990",
         "Title": "Zorro",
         "_deepnote_index_column": 54
        },
        {
         "Actors": "Madeleine Stowe, Mary Stuart Masterson, Andie MacDowell, Drew Barrymore",
         "Chart Number": 56,
         "Director": "Jonathan Kaplan",
         "Duration(min)": "99",
         "Genre": "Action, Adventure, Romance            ",
         "Rarings/Duration": "0.05252525252525253",
         "Rating": "5.2",
         "Release Date": "1994",
         "Title": "Bad Girls",
         "_deepnote_index_column": 55
        },
        {
         "Actors": "John Wayne, Richard Widmark, Laurence Harvey, Frankie Avalon",
         "Chart Number": 57,
         "Director": "John Wayne",
         "Duration(min)": "162",
         "Genre": "Adventure, Drama, History            ",
         "Rarings/Duration": "0.04259259259259259",
         "Rating": "6.9",
         "Release Date": "1960",
         "Title": "The Alamo",
         "_deepnote_index_column": 56
        },
        {
         "Actors": "Julius Carry, Christian Clemenson, Comet",
         "Chart Number": 58,
         "Director": "Bruce Campbell",
         "Duration(min)": "45",
         "Genre": "Action, Adventure, Comedy            ",
         "Rarings/Duration": "0.18444444444444447",
         "Rating": "8.3",
         "Release Date": "1993",
         "Title": "The Adventures of Brisco County, Jr.",
         "_deepnote_index_column": 57
        },
        {
         "Actors": "Dorothy McGuire, Fess Parker, Tommy Kirk, Jeff York",
         "Chart Number": 59,
         "Director": "Robert Stevenson",
         "Duration(min)": "83",
         "Genre": "Adventure, Drama, Family            ",
         "Rarings/Duration": "0.08795180722891566",
         "Rating": "7.3",
         "Release Date": "1957",
         "Title": "Old Yeller",
         "_deepnote_index_column": 58
        },
        {
         "Actors": "Kelly Brown, Debi Kalman, Christine Taylor",
         "Chart Number": 60,
         "Director": "David Brisbin",
         "Duration(min)": "30",
         "Genre": "Adventure, Comedy, Family            ",
         "Rarings/Duration": "0.24000000000000002",
         "Rating": "7.2",
         "Release Date": "1989",
         "Title": "Hey Dude",
         "_deepnote_index_column": 59
        },
        {
         "Actors": "Gregory Peck, Omar Sharif, Telly Savalas, Camilla Sparv",
         "Chart Number": 61,
         "Director": "J. Lee Thompson",
         "Duration(min)": "128",
         "Genre": "Action, Adventure, Romance            ",
         "Rarings/Duration": "0.053125",
         "Rating": "6.8",
         "Release Date": "1969",
         "Title": "Mackenna's Gold",
         "_deepnote_index_column": 60
        },
        {
         "Actors": "Guy Pearce, Devon Sawa, Kelly Greyson, Michael Sirow",
         "Chart Number": 62,
         "Director": "York Alec Shackleton",
         "Duration(min)": "91",
         "Genre": "Action, Adventure, Thriller            ",
         "Rarings/Duration": "0.035164835164835165",
         "Rating": "3.2",
         "Release Date": "2020",
         "Title": "Disturbing the Peace",
         "_deepnote_index_column": 61
        },
        {
         "Actors": "Josh Blaylock, Sophia Marzocchi, Spider Madison",
         "Chart Number": 63,
         "Director": "Rob Wiethoff",
         "Duration(min)": "NaN",
         "Genre": "Action, Adventure, Crime            ",
         "Rarings/Duration": "NaN",
         "Rating": "9.5",
         "Release Date": "2010",
         "Title": "Red Dead Redemption",
         "_deepnote_index_column": 62
        },
        {
         "Actors": "Michelle Williams, Bruce Greenwood, Paul Dano, Will Patton",
         "Chart Number": 64,
         "Director": "Kelly Reichardt",
         "Duration(min)": "104",
         "Genre": "Adventure, Drama, Thriller            ",
         "Rarings/Duration": "0.06346153846153846",
         "Rating": "6.6",
         "Release Date": "2010",
         "Title": "Meek's Cutoff",
         "_deepnote_index_column": 63
        },
        {
         "Actors": "John Sanford, Judi Dench, Cuba Gooding Jr., Jennifer Tilly, Randy Quaid",
         "Chart Number": 65,
         "Director": "Will Finn",
         "Duration(min)": "76",
         "Genre": "Animation, Adventure, Comedy            ",
         "Rarings/Duration": "0.07105263157894737",
         "Rating": "5.4",
         "Release Date": "2004",
         "Title": "Home on the Range",
         "_deepnote_index_column": 64
        },
        {
         "Actors": "Bailey Gambertoglio, Sydney Park, Nolan North",
         "Chart Number": 66,
         "Director": "Amber Frank",
         "Duration(min)": "23",
         "Genre": "Animation, Action, Adventure            ",
         "Rarings/Duration": "0.28695652173913044",
         "Rating": "6.6",
         "Release Date": "2017",
         "Title": "Spirit Riding Free",
         "_deepnote_index_column": 65
        },
        {
         "Actors": "Kang-ho Song, Lee Byung-Hun, Jung Woo-sung, Je-mun Yun",
         "Chart Number": 67,
         "Director": "Jee-woon Kim",
         "Duration(min)": "130",
         "Genre": "Action, Adventure, Comedy            ",
         "Rarings/Duration": "0.05615384615384615",
         "Rating": "7.3",
         "Release Date": "2008",
         "Title": "The Good the Bad the Weird",
         "_deepnote_index_column": 66
        },
        {
         "Actors": "Chris Farley, Matthew Perry, Bokeem Woodbine, Barry Del Sherman",
         "Chart Number": 68,
         "Director": "Christopher Guest",
         "Duration(min)": "90",
         "Genre": "Adventure, Comedy, Western            ",
         "Rarings/Duration": "0.06555555555555556",
         "Rating": "5.9",
         "Release Date": "1998",
         "Title": "Almost Heroes",
         "_deepnote_index_column": 67
        },
        {
         "Actors": "Jean Negulesco, Robert Mitchum, Marilyn Monroe, Rory Calhoun, Tommy Rettig",
         "Chart Number": 69,
         "Director": "Otto Preminger",
         "Duration(min)": "91",
         "Genre": "Action, Adventure, Drama            ",
         "Rarings/Duration": "0.07252747252747252",
         "Rating": "6.6",
         "Release Date": "1954",
         "Title": "River of No Return",
         "_deepnote_index_column": 68
        },
        {
         "Actors": "Heath Ledger, Orlando Bloom, Geoffrey Rush, Naomi Watts",
         "Chart Number": 70,
         "Director": "Gregor Jordan",
         "Duration(min)": "110",
         "Genre": "Action, Adventure, Biography            ",
         "Rarings/Duration": "0.05909090909090909",
         "Rating": "6.5",
         "Release Date": "2003",
         "Title": "Ned Kelly",
         "_deepnote_index_column": 69
        },
        {
         "Actors": "Patrick Swayze, Oliver Platt, Roger Aaron Brown, Nick Stahl",
         "Chart Number": 71,
         "Director": "Jeremiah S. Chechik",
         "Duration(min)": "96",
         "Genre": "Adventure, Family, Fantasy            ",
         "Rarings/Duration": "0.06145833333333334",
         "Rating": "5.9",
         "Release Date": "1995",
         "Title": "Tall Tale",
         "_deepnote_index_column": 70
        },
        {
         "Actors": "Charles Chaplin, Mack Swain, Tom Murray, Henry Bergman",
         "Chart Number": 72,
         "Director": "Charles Chaplin",
         "Duration(min)": "95",
         "Genre": "Adventure, Comedy, Drama            ",
         "Rarings/Duration": "0.0863157894736842",
         "Rating": "8.2",
         "Release Date": "1925",
         "Title": "The Gold Rush",
         "_deepnote_index_column": 71
        },
        {
         "Actors": "Jim Brown, Raquel Welch, Burt Reynolds, Fernando Lamas",
         "Chart Number": 73,
         "Director": "Tom Gries",
         "Duration(min)": "110",
         "Genre": "Adventure, Romance, War            ",
         "Rarings/Duration": "0.05454545454545454",
         "Rating": "6",
         "Release Date": "1969",
         "Title": "100 Rifles",
         "_deepnote_index_column": 72
        },
        {
         "Actors": "Alan Cumming, Neal McDonough, Kathleen Robertson",
         "Chart Number": 74,
         "Director": "Zooey Deschanel",
         "Duration(min)": "270",
         "Genre": "Adventure, Fantasy, Sci-Fi            ",
         "Rarings/Duration": "0.02666666666666667",
         "Rating": "7.2",
         "Release Date": "2007",
         "Title": "Tin Man",
         "_deepnote_index_column": 73
        },
        {
         "Actors": "Chikahiro Kobayashi, Kentarô Itô, Fumihiko Tachiki",
         "Chart Number": 75,
         "Director": "Haruka Shiraishi",
         "Duration(min)": "24",
         "Genre": "Animation, Action, Adventure            ",
         "Rarings/Duration": "0.32916666666666666",
         "Rating": "7.9",
         "Release Date": "2018",
         "Title": "Golden Kamuy",
         "_deepnote_index_column": 74
        },
        {
         "Actors": "Jonathan Taylor Thomas, Brad Renfro, Charles Rocket, Eric Schweig",
         "Chart Number": 76,
         "Director": "Peter Hewitt",
         "Duration(min)": "97",
         "Genre": "Adventure, Comedy, Drama            ",
         "Rarings/Duration": "0.05670103092783505",
         "Rating": "5.5",
         "Release Date": "1995",
         "Title": "Tom and Huck",
         "_deepnote_index_column": 75
        },
        {
         "Actors": "Hamilton Morris, Shanika Cole, Ewen Leslie, Sam Neill",
         "Chart Number": 77,
         "Director": "Warwick Thornton",
         "Duration(min)": "113",
         "Genre": "Adventure, Crime, Drama            ",
         "Rarings/Duration": "0.06106194690265487",
         "Rating": "6.9",
         "Release Date": "2017",
         "Title": "Sweet Country",
         "_deepnote_index_column": 76
        },
        {
         "Actors": "Gene Sheldon, Henry Calvin, Don Diamond",
         "Chart Number": 78,
         "Director": "Guy Williams",
         "Duration(min)": "30",
         "Genre": "Action, Adventure, Comedy            ",
         "Rarings/Duration": "0.2733333333333333",
         "Rating": "8.2",
         "Release Date": "1957",
         "Title": "Zorro",
         "_deepnote_index_column": 77
        },
        {
         "Actors": "David Gyasi, Ron Perlman, Frank Grillo, Manu Intiraymi",
         "Chart Number": 79,
         "Director": "Wes Miller",
         "Duration(min)": "106",
         "Genre": "Adventure, Biography, Western            ",
         "Rarings/Duration": "0.03962264150943397",
         "Rating": "4.2",
         "Release Date": "2019",
         "Title": "Hell on the Border",
         "_deepnote_index_column": 78
        },
        {
         "Actors": "Simon Wells, James Stewart, John Cleese, Amy Irving, Phillip Glasser",
         "Chart Number": 80,
         "Director": "Phil Nibbelink",
         "Duration(min)": "75",
         "Genre": "Animation, Adventure, Family            ",
         "Rarings/Duration": "0.08666666666666667",
         "Rating": "6.5",
         "Release Date": "1991",
         "Title": "An American Tail: Fievel Goes West",
         "_deepnote_index_column": 79
        },
        {
         "Actors": "Richard Harris, Judith Anderson, Jean Gascon, Manu Tupou",
         "Chart Number": 81,
         "Director": "Elliot Silverstein",
         "Duration(min)": "114",
         "Genre": "Adventure, Drama, Western            ",
         "Rarings/Duration": "0.060526315789473685",
         "Rating": "6.9",
         "Release Date": "1970",
         "Title": "A Man Called Horse",
         "_deepnote_index_column": 80
        },
        {
         "Actors": "Tommy Lee Jones, Barry Pepper, Dwight Yoakam, January Jones",
         "Chart Number": 82,
         "Director": "Tommy Lee Jones",
         "Duration(min)": "121",
         "Genre": "Adventure, Crime, Drama            ",
         "Rarings/Duration": "0.061157024793388436",
         "Rating": "7.4",
         "Release Date": "2005",
         "Title": "The Three Burials of Melquiades Estrada",
         "_deepnote_index_column": 81
        },
        {
         "Actors": "John Wayne, Henry Fonda, Shirley Temple, Pedro Armendáriz",
         "Chart Number": 83,
         "Director": "John Ford",
         "Duration(min)": "128",
         "Genre": "Action, Adventure, Western            ",
         "Rarings/Duration": "0.05859375",
         "Rating": "7.5",
         "Release Date": "1948",
         "Title": "Fort Apache",
         "_deepnote_index_column": 82
        },
        {
         "Actors": "Gene Hackman, Candice Bergen, James Coburn, Ben Johnson",
         "Chart Number": 84,
         "Director": "Richard Brooks",
         "Duration(min)": "132",
         "Genre": "Action, Adventure, Western            ",
         "Rarings/Duration": "0.05075757575757576",
         "Rating": "6.7",
         "Release Date": "1975",
         "Title": "Bite the Bullet",
         "_deepnote_index_column": 83
        },
        {
         "Actors": "Marton Csokas, Ian Hart, Greg Lawson",
         "Chart Number": 85,
         "Director": "Abbie Cornish",
         "Duration(min)": "274",
         "Genre": "Adventure, Drama, Western            ",
         "Rarings/Duration": "0.027007299270072994",
         "Rating": "7.4",
         "Release Date": "2014",
         "Title": "Klondike",
         "_deepnote_index_column": 84
        },
        {
         "Actors": "Charles Bronson, Jack Warden, Will Sampson, Kim Novak",
         "Chart Number": 86,
         "Director": "J. Lee Thompson",
         "Duration(min)": "97",
         "Genre": "Action, Adventure, Western            ",
         "Rarings/Duration": "0.06391752577319587",
         "Rating": "6.2",
         "Release Date": "1977",
         "Title": "The White Buffalo",
         "_deepnote_index_column": 85
        },
        {
         "Actors": "Bobby Sherman, David Soul, Bridget Hanley",
         "Chart Number": 87,
         "Director": "Robert Brown",
         "Duration(min)": "60",
         "Genre": "Adventure, Comedy, Western            ",
         "Rarings/Duration": "0.12833333333333333",
         "Rating": "7.7",
         "Release Date": "1968",
         "Title": "Here Come the Brides",
         "_deepnote_index_column": 86
        },
        {
         "Actors": "Burt Lancaster, Robert Ryan, Lee J. Cobb, Robert Duvall",
         "Chart Number": 88,
         "Director": "Michael Winner",
         "Duration(min)": "99",
         "Genre": "Adventure, Western            ",
         "Rarings/Duration": "0.0707070707070707",
         "Rating": "7",
         "Release Date": "1971",
         "Title": "Lawman",
         "_deepnote_index_column": 87
        },
        {
         "Actors": "John Candy, Joe Bays, Abraham Benrubi, Jill Boyd",
         "Chart Number": 89,
         "Director": "Peter Markle",
         "Duration(min)": "107",
         "Genre": "Adventure, Comedy, Western            ",
         "Rarings/Duration": "0.04579439252336449",
         "Rating": "4.9",
         "Release Date": "1994",
         "Title": "Wagons East",
         "_deepnote_index_column": 88
        },
        {
         "Actors": "John Wayne, John Wayne, Stuart Whitman, Ina Balin, Nehemiah Persoff",
         "Chart Number": 90,
         "Director": "Michael Curtiz",
         "Duration(min)": "107",
         "Genre": "Action, Adventure, Romance            ",
         "Rarings/Duration": "0.06448598130841122",
         "Rating": "6.9",
         "Release Date": "1961",
         "Title": "The Comancheros",
         "_deepnote_index_column": 89
        },
        {
         "Actors": "David Wenham, Jay Ryan, Erik Thomson, Mahesh Jadu",
         "Chart Number": 91,
         "Director": "Roderick MacKay",
         "Duration(min)": "116",
         "Genre": "Adventure, Drama, History            ",
         "Rarings/Duration": "0.05775862068965518",
         "Rating": "6.7",
         "Release Date": "2020",
         "Title": "The Furnace",
         "_deepnote_index_column": 90
        },
        {
         "Actors": "Gene Wilder, Harrison Ford, Ramon Bieri, Val Bisoglio",
         "Chart Number": 92,
         "Director": "Robert Aldrich",
         "Duration(min)": "119",
         "Genre": "Adventure, Comedy, Drama            ",
         "Rarings/Duration": "0.05378151260504202",
         "Rating": "6.4",
         "Release Date": "1979",
         "Title": "The Frisco Kid",
         "_deepnote_index_column": 91
        },
        {
         "Actors": "James Stewart, Audie Murphy, Dan Duryea, Dianne Foster",
         "Chart Number": 93,
         "Director": "James Neilson",
         "Duration(min)": "90",
         "Genre": "Action, Adventure, Drama            ",
         "Rarings/Duration": "0.07444444444444445",
         "Rating": "6.7",
         "Release Date": "1957",
         "Title": "Night Passage",
         "_deepnote_index_column": 92
        },
        {
         "Actors": "NaN",
         "Chart Number": 94,
         "Director": "NaN",
         "Duration(min)": "NaN",
         "Genre": "Action, Adventure, Family            ",
         "Rarings/Duration": "NaN",
         "Rating": "NaN",
         "Release Date": "NaN",
         "Title": "National Treasure 3",
         "_deepnote_index_column": 93
        },
        {
         "Actors": "Tom Berenger, Barbara Hershey, Kurtwood Smith, Steve Reevis",
         "Chart Number": 95,
         "Director": "Tab Murphy",
         "Duration(min)": "118",
         "Genre": "Adventure, Western            ",
         "Rarings/Duration": "0.059322033898305086",
         "Rating": "7",
         "Release Date": "1995",
         "Title": "Last of the Dogmen",
         "_deepnote_index_column": 94
        },
        {
         "Actors": "Gloria Winters, Ewing Mitchell, Ron Hagerthy",
         "Chart Number": 96,
         "Director": "Kirby Grant",
         "Duration(min)": "30",
         "Genre": "Adventure, Western            ",
         "Rarings/Duration": "0.25666666666666665",
         "Rating": "7.7",
         "Release Date": "1951",
         "Title": "Sky King",
         "_deepnote_index_column": 95
        },
        {
         "Actors": "John Wayne, Rock Hudson, Antonio Aguilar, Roman Gabriel",
         "Chart Number": 97,
         "Director": "Andrew V. McLaglen",
         "Duration(min)": "119",
         "Genre": "Action, Adventure, Romance            ",
         "Rarings/Duration": "0.05630252100840336",
         "Rating": "6.7",
         "Release Date": "1969",
         "Title": "The Undefeated",
         "_deepnote_index_column": 96
        },
        {
         "Actors": "Alain Delon, Stanley Baker, Ottavia Piccolo, Moustache",
         "Chart Number": 98,
         "Director": "Duccio Tessari",
         "Duration(min)": "120",
         "Genre": "Action, Adventure, Comedy            ",
         "Rarings/Duration": "0.05416666666666667",
         "Rating": "6.5",
         "Release Date": "1975",
         "Title": "Zorro",
         "_deepnote_index_column": 97
        },
        {
         "Actors": "Charles Bronson, Lee Marvin, Andrew Stevens, Carl Weathers",
         "Chart Number": 99,
         "Director": "Peter R. Hunt",
         "Duration(min)": "97",
         "Genre": "Action, Adventure, Crime            ",
         "Rarings/Duration": "0.07216494845360824",
         "Rating": "7",
         "Release Date": "1981",
         "Title": "Death Hunt",
         "_deepnote_index_column": 98
        },
        {
         "Actors": "John Wayne, William Holden, Constance Towers, Judson Pratt",
         "Chart Number": 100,
         "Director": "John Ford",
         "Duration(min)": "120",
         "Genre": "Adventure, Romance, War            ",
         "Rarings/Duration": "0.060000000000000005",
         "Rating": "7.2",
         "Release Date": "1959",
         "Title": "The Horse Soldiers",
         "_deepnote_index_column": 99
        }
       ]
      },
      "text/html": [
       "<div>\n",
       "<style scoped>\n",
       "    .dataframe tbody tr th:only-of-type {\n",
       "        vertical-align: middle;\n",
       "    }\n",
       "\n",
       "    .dataframe tbody tr th {\n",
       "        vertical-align: top;\n",
       "    }\n",
       "\n",
       "    .dataframe thead th {\n",
       "        text-align: right;\n",
       "    }\n",
       "</style>\n",
       "<table border=\"1\" class=\"dataframe\">\n",
       "  <thead>\n",
       "    <tr style=\"text-align: right;\">\n",
       "      <th></th>\n",
       "      <th>Chart Number</th>\n",
       "      <th>Title</th>\n",
       "      <th>Release Date</th>\n",
       "      <th>Duration(min)</th>\n",
       "      <th>Genre</th>\n",
       "      <th>Rating</th>\n",
       "      <th>Director</th>\n",
       "      <th>Actors</th>\n",
       "      <th>Rarings/Duration</th>\n",
       "    </tr>\n",
       "  </thead>\n",
       "  <tbody>\n",
       "    <tr>\n",
       "      <th>0</th>\n",
       "      <td>1</td>\n",
       "      <td>News of the World</td>\n",
       "      <td>2020</td>\n",
       "      <td>118</td>\n",
       "      <td>Action, Adventure, Drama</td>\n",
       "      <td>6.8</td>\n",
       "      <td>Paul Greengrass</td>\n",
       "      <td>Tom Hanks, Helena Zengel, Tom Astor, Travis Jo...</td>\n",
       "      <td>0.057627</td>\n",
       "    </tr>\n",
       "    <tr>\n",
       "      <th>1</th>\n",
       "      <td>2</td>\n",
       "      <td>Dances with Wolves</td>\n",
       "      <td>1990</td>\n",
       "      <td>181</td>\n",
       "      <td>Adventure, Drama, Western</td>\n",
       "      <td>8</td>\n",
       "      <td>Kevin Costner</td>\n",
       "      <td>Kevin Costner, Mary McDonnell, Graham Greene, ...</td>\n",
       "      <td>0.044199</td>\n",
       "    </tr>\n",
       "    <tr>\n",
       "      <th>2</th>\n",
       "      <td>3</td>\n",
       "      <td>The Magnificent Seven</td>\n",
       "      <td>2016</td>\n",
       "      <td>132</td>\n",
       "      <td>Action, Adventure, Western</td>\n",
       "      <td>6.9</td>\n",
       "      <td>Antoine Fuqua</td>\n",
       "      <td>Denzel Washington, Chris Pratt, Ethan Hawke, V...</td>\n",
       "      <td>0.052273</td>\n",
       "    </tr>\n",
       "    <tr>\n",
       "      <th>3</th>\n",
       "      <td>4</td>\n",
       "      <td>The Searchers</td>\n",
       "      <td>1956</td>\n",
       "      <td>119</td>\n",
       "      <td>Adventure, Drama, Western</td>\n",
       "      <td>7.9</td>\n",
       "      <td>John Ford</td>\n",
       "      <td>John Wayne, Jeffrey Hunter, Vera Miles, Ward Bond</td>\n",
       "      <td>0.066387</td>\n",
       "    </tr>\n",
       "    <tr>\n",
       "      <th>4</th>\n",
       "      <td>5</td>\n",
       "      <td>The Revenant</td>\n",
       "      <td>2015</td>\n",
       "      <td>156</td>\n",
       "      <td>Action, Adventure, Drama</td>\n",
       "      <td>8</td>\n",
       "      <td>Alejandro G. Iñárritu</td>\n",
       "      <td>Leonardo DiCaprio, Tom Hardy, Will Poulter, Do...</td>\n",
       "      <td>0.051282</td>\n",
       "    </tr>\n",
       "    <tr>\n",
       "      <th>...</th>\n",
       "      <td>...</td>\n",
       "      <td>...</td>\n",
       "      <td>...</td>\n",
       "      <td>...</td>\n",
       "      <td>...</td>\n",
       "      <td>...</td>\n",
       "      <td>...</td>\n",
       "      <td>...</td>\n",
       "      <td>...</td>\n",
       "    </tr>\n",
       "    <tr>\n",
       "      <th>95</th>\n",
       "      <td>96</td>\n",
       "      <td>Sky King</td>\n",
       "      <td>1951</td>\n",
       "      <td>30</td>\n",
       "      <td>Adventure, Western</td>\n",
       "      <td>7.7</td>\n",
       "      <td>Kirby Grant</td>\n",
       "      <td>Gloria Winters, Ewing Mitchell, Ron Hagerthy</td>\n",
       "      <td>0.256667</td>\n",
       "    </tr>\n",
       "    <tr>\n",
       "      <th>96</th>\n",
       "      <td>97</td>\n",
       "      <td>The Undefeated</td>\n",
       "      <td>1969</td>\n",
       "      <td>119</td>\n",
       "      <td>Action, Adventure, Romance</td>\n",
       "      <td>6.7</td>\n",
       "      <td>Andrew V. McLaglen</td>\n",
       "      <td>John Wayne, Rock Hudson, Antonio Aguilar, Roma...</td>\n",
       "      <td>0.056303</td>\n",
       "    </tr>\n",
       "    <tr>\n",
       "      <th>97</th>\n",
       "      <td>98</td>\n",
       "      <td>Zorro</td>\n",
       "      <td>1975</td>\n",
       "      <td>120</td>\n",
       "      <td>Action, Adventure, Comedy</td>\n",
       "      <td>6.5</td>\n",
       "      <td>Duccio Tessari</td>\n",
       "      <td>Alain Delon, Stanley Baker, Ottavia Piccolo, M...</td>\n",
       "      <td>0.054167</td>\n",
       "    </tr>\n",
       "    <tr>\n",
       "      <th>98</th>\n",
       "      <td>99</td>\n",
       "      <td>Death Hunt</td>\n",
       "      <td>1981</td>\n",
       "      <td>97</td>\n",
       "      <td>Action, Adventure, Crime</td>\n",
       "      <td>7</td>\n",
       "      <td>Peter R. Hunt</td>\n",
       "      <td>Charles Bronson, Lee Marvin, Andrew Stevens, C...</td>\n",
       "      <td>0.072165</td>\n",
       "    </tr>\n",
       "    <tr>\n",
       "      <th>99</th>\n",
       "      <td>100</td>\n",
       "      <td>The Horse Soldiers</td>\n",
       "      <td>1959</td>\n",
       "      <td>120</td>\n",
       "      <td>Adventure, Romance, War</td>\n",
       "      <td>7.2</td>\n",
       "      <td>John Ford</td>\n",
       "      <td>John Wayne, William Holden, Constance Towers, ...</td>\n",
       "      <td>0.06</td>\n",
       "    </tr>\n",
       "  </tbody>\n",
       "</table>\n",
       "<p>100 rows × 9 columns</p>\n",
       "</div>"
      ],
      "text/plain": [
       "    Chart Number                  Title Release Date Duration(min)  \\\n",
       "0              1      News of the World         2020           118   \n",
       "1              2     Dances with Wolves         1990           181   \n",
       "2              3  The Magnificent Seven         2016           132   \n",
       "3              4          The Searchers         1956           119   \n",
       "4              5           The Revenant         2015           156   \n",
       "..           ...                    ...          ...           ...   \n",
       "95            96               Sky King         1951            30   \n",
       "96            97         The Undefeated         1969           119   \n",
       "97            98                  Zorro         1975           120   \n",
       "98            99             Death Hunt         1981            97   \n",
       "99           100     The Horse Soldiers         1959           120   \n",
       "\n",
       "                                     Genre Rating               Director  \\\n",
       "0     Action, Adventure, Drama                6.8        Paul Greengrass   \n",
       "1    Adventure, Drama, Western                  8          Kevin Costner   \n",
       "2   Action, Adventure, Western                6.9          Antoine Fuqua   \n",
       "3    Adventure, Drama, Western                7.9              John Ford   \n",
       "4     Action, Adventure, Drama                  8  Alejandro G. Iñárritu   \n",
       "..                                     ...    ...                    ...   \n",
       "95          Adventure, Western                7.7            Kirby Grant   \n",
       "96  Action, Adventure, Romance                6.7     Andrew V. McLaglen   \n",
       "97   Action, Adventure, Comedy                6.5         Duccio Tessari   \n",
       "98    Action, Adventure, Crime                  7          Peter R. Hunt   \n",
       "99     Adventure, Romance, War                7.2              John Ford   \n",
       "\n",
       "                                               Actors Rarings/Duration  \n",
       "0   Tom Hanks, Helena Zengel, Tom Astor, Travis Jo...         0.057627  \n",
       "1   Kevin Costner, Mary McDonnell, Graham Greene, ...         0.044199  \n",
       "2   Denzel Washington, Chris Pratt, Ethan Hawke, V...         0.052273  \n",
       "3   John Wayne, Jeffrey Hunter, Vera Miles, Ward Bond         0.066387  \n",
       "4   Leonardo DiCaprio, Tom Hardy, Will Poulter, Do...         0.051282  \n",
       "..                                                ...              ...  \n",
       "95       Gloria Winters, Ewing Mitchell, Ron Hagerthy         0.256667  \n",
       "96  John Wayne, Rock Hudson, Antonio Aguilar, Roma...         0.056303  \n",
       "97  Alain Delon, Stanley Baker, Ottavia Piccolo, M...         0.054167  \n",
       "98  Charles Bronson, Lee Marvin, Andrew Stevens, C...         0.072165  \n",
       "99  John Wayne, William Holden, Constance Towers, ...             0.06  \n",
       "\n",
       "[100 rows x 9 columns]"
      ]
     },
     "execution_count": 12,
     "metadata": {},
     "output_type": "execute_result"
    }
   ],
   "source": [
    "df['Rarings/Duration'] = rds\n",
    "\n",
    "df"
   ]
  },
  {
   "cell_type": "markdown",
   "metadata": {
    "created_in_deepnote_cell": true,
    "deepnote_cell_type": "markdown",
    "tags": []
   },
   "source": [
    "<a style='text-decoration:none;line-height:16px;display:flex;color:#5B5B62;padding:10px;justify-content:end;' href='https://deepnote.com?utm_source=created-in-deepnote-cell&projectId=e9d1d08e-1cce-4c6d-9dd2-e7a832ea09a1' target=\"_blank\">\n",
    "<img style='display:inline;max-height:16px;margin:0px;margin-right:7.5px;' src='data:image/svg+xml;base64,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' > </img>\n",
    "Created in <span style='font-weight:600;margin-left:4px;'>Deepnote</span></a>"
   ]
  }
 ],
 "metadata": {
  "deepnote": {
   "is_reactive": false
  },
  "deepnote_execution_queue": [],
  "deepnote_notebook_id": "fc8bfd1f-1530-41cd-8994-f2aa5a27a6d4",
  "kernelspec": {
   "display_name": "Python 3",
   "language": "python",
   "name": "python3"
  },
  "language_info": {
   "codemirror_mode": {
    "name": "ipython",
    "version": 3
   },
   "file_extension": ".py",
   "mimetype": "text/x-python",
   "name": "python",
   "nbconvert_exporter": "python",
   "pygments_lexer": "ipython3",
   "version": "3.8.5"
  }
 },
 "nbformat": 4,
 "nbformat_minor": 2
}
